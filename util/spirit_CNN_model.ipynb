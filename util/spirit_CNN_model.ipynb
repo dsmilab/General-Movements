{
 "cells": [
  {
   "cell_type": "markdown",
   "metadata": {
    "toc": true
   },
   "source": [
    "<h1>Table of Contents<span class=\"tocSkip\"></span></h1>\n",
    "<div class=\"toc\" style=\"margin-top: 1em;\"><ul class=\"toc-item\"></ul></div>"
   ]
  },
  {
   "cell_type": "code",
   "execution_count": 1,
   "metadata": {
    "ExecuteTime": {
     "end_time": "2019-01-21T06:32:20.199234Z",
     "start_time": "2019-01-21T06:32:13.527488Z"
    },
    "scrolled": true
   },
   "outputs": [
    {
     "name": "stderr",
     "output_type": "stream",
     "text": [
      "Using TensorFlow backend.\n"
     ]
    }
   ],
   "source": [
    "from io import BytesIO\n",
    "\n",
    "import os\n",
    "import numpy as np\n",
    "import matplotlib.pyplot as plt\n",
    "\n",
    "import keras\n",
    "from keras.layers.core import Dense, Dropout, Activation\n",
    "from keras.utils import np_utils\n",
    "from keras.datasets import mnist\n",
    "from keras.models import Sequential\n",
    "from keras.layers import Dense, Dropout, Flatten\n",
    "from keras.layers import Conv2D, MaxPooling2D\n",
    "from keras.preprocessing.image import random_shift, img_to_array\n",
    "import PIL.ImageOps\n",
    "\n",
    "from skimage.io import imshow, imread\n",
    "from skimage.color import rgb2grey\n",
    "import skimage\n",
    "\n",
    "os.environ[\"CUDA_VISIBLE_DEVICES\"]=\"-1\""
   ]
  },
  {
   "cell_type": "code",
   "execution_count": 2,
   "metadata": {
    "ExecuteTime": {
     "end_time": "2019-01-21T06:32:20.203002Z",
     "start_time": "2019-01-21T06:32:20.200939Z"
    }
   },
   "outputs": [],
   "source": [
    "TRAIN_DIRECTORY_PATH = '../data/spirit_dataset/train_set/'\n",
    "TEST_DIRECTORY_PATH = '../data/spirit_dataset/test_set/'\n",
    "\n",
    "NUM_CLASSES = 2\n",
    "IMG_ROWS, IMG_COLS = 45, 45"
   ]
  },
  {
   "cell_type": "code",
   "execution_count": 3,
   "metadata": {
    "ExecuteTime": {
     "end_time": "2019-01-21T06:32:22.269950Z",
     "start_time": "2019-01-21T06:32:20.204565Z"
    }
   },
   "outputs": [
    {
     "name": "stdout",
     "output_type": "stream",
     "text": [
      "x_train shape: (3096, 45, 45, 1)\n",
      "3096 train samples\n",
      "408 test samples\n"
     ]
    }
   ],
   "source": [
    "x_train = []\n",
    "x_test = []\n",
    "y_train = []\n",
    "y_test = []\n",
    "\n",
    "for digit in range(NUM_CLASSES):\n",
    "    directory = TRAIN_DIRECTORY_PATH + str(digit) + '/'\n",
    "    files = next(os.walk(directory))[2]\n",
    "    \n",
    "    for filename in files:\n",
    "        img = imread(directory + filename)\n",
    "        img = skimage.img_as_float(img)\n",
    "        imgs = [\n",
    "            random_shift(img, wrg=0.1, hrg=0.3, row_axis=0,\n",
    "                         col_axis=1, channel_axis=2, fill_mode='nearest') * 255\n",
    "            for _ in range(3)]\n",
    "        \n",
    "        for img_ in imgs:\n",
    "            shifted_img = img_.astype(np.uint8)\n",
    "            shifted_img = rgb2grey(shifted_img)\n",
    "            x_train.append(shifted_img)\n",
    "            y_train.append(digit)\n",
    "\n",
    "for digit in range(NUM_CLASSES):\n",
    "    directory = TEST_DIRECTORY_PATH + str(digit) + '/'\n",
    "    files = next(os.walk(directory))[2]\n",
    "    \n",
    "    for filename in files:\n",
    "        img = imread(directory + filename)\n",
    "        img = skimage.img_as_float(img)\n",
    "        imgs = [\n",
    "            random_shift(img, wrg=0.1, hrg=0.3, row_axis=0,\n",
    "                         col_axis=1, channel_axis=2, fill_mode='nearest') * 255\n",
    "            for _ in range(3)]\n",
    "        \n",
    "        for img_ in imgs:\n",
    "            shifted_img = img_.astype(np.uint8)\n",
    "            shifted_img = rgb2grey(shifted_img)\n",
    "            x_test.append(shifted_img)\n",
    "            y_test.append(digit)\n",
    "        \n",
    "x_train = np.asarray(x_train)\n",
    "x_train = x_train.reshape(x_train.shape[0], IMG_ROWS, IMG_COLS, 1)\n",
    "\n",
    "x_test = np.asarray(x_test)\n",
    "x_test = x_test.reshape(x_test.shape[0], IMG_ROWS, IMG_COLS, 1)\n",
    "\n",
    "input_shape = (IMG_ROWS, IMG_COLS, 1)\n",
    "\n",
    "print('x_train shape:', x_train.shape)\n",
    "print(x_train.shape[0], 'train samples')\n",
    "print(x_test.shape[0], 'test samples')\n",
    "\n",
    "y_train = keras.utils.to_categorical(y_train, NUM_CLASSES)\n",
    "y_test = keras.utils.to_categorical(y_test, NUM_CLASSES)"
   ]
  },
  {
   "cell_type": "code",
   "execution_count": 4,
   "metadata": {
    "ExecuteTime": {
     "end_time": "2019-01-21T06:32:22.618937Z",
     "start_time": "2019-01-21T06:32:22.271276Z"
    }
   },
   "outputs": [
    {
     "name": "stdout",
     "output_type": "stream",
     "text": [
      "WARNING:tensorflow:From /usr/bin/anaconda3/lib/python3.6/site-packages/keras/backend/tensorflow_backend.py:1205: calling reduce_prod (from tensorflow.python.ops.math_ops) with keep_dims is deprecated and will be removed in a future version.\n",
      "Instructions for updating:\n",
      "keep_dims is deprecated, use keepdims instead\n"
     ]
    }
   ],
   "source": [
    "model = Sequential()\n",
    "model.add(\n",
    "    Conv2D(32, kernel_size=(3, 3), activation='relu', input_shape=input_shape))\n",
    "model.add(Conv2D(64, (3, 3), activation='relu'))\n",
    "model.add(MaxPooling2D(pool_size=(2, 2)))\n",
    "model.add(Dropout(0.25))\n",
    "model.add(Flatten())\n",
    "model.add(Dense(128, activation='relu'))\n",
    "model.add(Dropout(0.5))\n",
    "model.add(Dense(NUM_CLASSES, activation='softmax'))"
   ]
  },
  {
   "cell_type": "code",
   "execution_count": 5,
   "metadata": {
    "ExecuteTime": {
     "end_time": "2019-01-21T06:32:22.670216Z",
     "start_time": "2019-01-21T06:32:22.623091Z"
    }
   },
   "outputs": [
    {
     "name": "stdout",
     "output_type": "stream",
     "text": [
      "WARNING:tensorflow:From /usr/bin/anaconda3/lib/python3.6/site-packages/keras/backend/tensorflow_backend.py:2755: calling reduce_sum (from tensorflow.python.ops.math_ops) with keep_dims is deprecated and will be removed in a future version.\n",
      "Instructions for updating:\n",
      "keep_dims is deprecated, use keepdims instead\n",
      "WARNING:tensorflow:From /usr/bin/anaconda3/lib/python3.6/site-packages/keras/backend/tensorflow_backend.py:1290: calling reduce_mean (from tensorflow.python.ops.math_ops) with keep_dims is deprecated and will be removed in a future version.\n",
      "Instructions for updating:\n",
      "keep_dims is deprecated, use keepdims instead\n"
     ]
    }
   ],
   "source": [
    "model.compile(\n",
    "    loss=keras.losses.categorical_crossentropy,\n",
    "    optimizer=keras.optimizers.Adadelta(),\n",
    "    metrics=['accuracy'])"
   ]
  },
  {
   "cell_type": "code",
   "execution_count": 6,
   "metadata": {
    "ExecuteTime": {
     "end_time": "2019-01-21T06:55:54.634205Z",
     "start_time": "2019-01-21T06:32:22.671339Z"
    },
    "scrolled": true
   },
   "outputs": [
    {
     "name": "stdout",
     "output_type": "stream",
     "text": [
      "Train on 3096 samples, validate on 408 samples\n",
      "Epoch 1/100\n",
      "3096/3096 [==============================] - 15s - loss: 0.4794 - acc: 0.7639 - val_loss: 0.4148 - val_acc: 0.8456\n",
      "Epoch 2/100\n",
      "3096/3096 [==============================] - 11s - loss: 0.2467 - acc: 0.9034 - val_loss: 0.1412 - val_acc: 0.9559\n",
      "Epoch 3/100\n",
      "3096/3096 [==============================] - 9s - loss: 0.1065 - acc: 0.9664 - val_loss: 0.0779 - val_acc: 0.9828\n",
      "Epoch 4/100\n",
      "3096/3096 [==============================] - 10s - loss: 0.0466 - acc: 0.9877 - val_loss: 0.0656 - val_acc: 0.9730\n",
      "Epoch 5/100\n",
      "3096/3096 [==============================] - 9s - loss: 0.0276 - acc: 0.9913 - val_loss: 0.1450 - val_acc: 0.9436\n",
      "Epoch 6/100\n",
      "3096/3096 [==============================] - 12s - loss: 0.0243 - acc: 0.9952 - val_loss: 0.0268 - val_acc: 0.9828\n",
      "Epoch 7/100\n",
      "3096/3096 [==============================] - 14s - loss: 0.0148 - acc: 0.9968 - val_loss: 0.0108 - val_acc: 1.0000\n",
      "Epoch 8/100\n",
      "3096/3096 [==============================] - 15s - loss: 0.0118 - acc: 0.9984 - val_loss: 0.0075 - val_acc: 1.0000\n",
      "Epoch 9/100\n",
      "3096/3096 [==============================] - 14s - loss: 0.0079 - acc: 0.9974 - val_loss: 0.0056 - val_acc: 1.0000\n",
      "Epoch 10/100\n",
      "3096/3096 [==============================] - 14s - loss: 0.0058 - acc: 0.9987 - val_loss: 0.0499 - val_acc: 0.9804\n",
      "Epoch 11/100\n",
      "3096/3096 [==============================] - 14s - loss: 0.0063 - acc: 0.9987 - val_loss: 0.0041 - val_acc: 1.0000\n",
      "Epoch 12/100\n",
      "3096/3096 [==============================] - 15s - loss: 0.0032 - acc: 1.0000 - val_loss: 0.0029 - val_acc: 1.0000\n",
      "Epoch 13/100\n",
      "3096/3096 [==============================] - 14s - loss: 0.0033 - acc: 0.9994 - val_loss: 0.0041 - val_acc: 1.0000\n",
      "Epoch 14/100\n",
      "3096/3096 [==============================] - 16s - loss: 0.0028 - acc: 0.9994 - val_loss: 0.0020 - val_acc: 1.0000\n",
      "Epoch 15/100\n",
      "3096/3096 [==============================] - 19s - loss: 0.0020 - acc: 0.9997 - val_loss: 0.0028 - val_acc: 1.0000\n",
      "Epoch 16/100\n",
      "3096/3096 [==============================] - 18s - loss: 0.0015 - acc: 1.0000 - val_loss: 0.0014 - val_acc: 1.0000\n",
      "Epoch 17/100\n",
      "3096/3096 [==============================] - 18s - loss: 0.0022 - acc: 0.9994 - val_loss: 0.0022 - val_acc: 1.0000\n",
      "Epoch 18/100\n",
      "3096/3096 [==============================] - 14s - loss: 0.0016 - acc: 0.9997 - val_loss: 0.0018 - val_acc: 1.0000\n",
      "Epoch 19/100\n",
      "3096/3096 [==============================] - 14s - loss: 0.0011 - acc: 1.0000 - val_loss: 0.0029 - val_acc: 1.0000\n",
      "Epoch 20/100\n",
      "3096/3096 [==============================] - 15s - loss: 0.0010 - acc: 1.0000 - val_loss: 0.0011 - val_acc: 1.0000\n",
      "Epoch 21/100\n",
      "3096/3096 [==============================] - 14s - loss: 8.0135e-04 - acc: 1.0000 - val_loss: 0.0014 - val_acc: 1.0000\n",
      "Epoch 22/100\n",
      "3096/3096 [==============================] - 14s - loss: 8.8397e-04 - acc: 1.0000 - val_loss: 0.0012 - val_acc: 1.0000\n",
      "Epoch 23/100\n",
      "3096/3096 [==============================] - 14s - loss: 0.0014 - acc: 0.9997 - val_loss: 0.0019 - val_acc: 1.0000\n",
      "Epoch 24/100\n",
      "3096/3096 [==============================] - 15s - loss: 7.8628e-04 - acc: 0.9997 - val_loss: 0.0014 - val_acc: 1.0000\n",
      "Epoch 25/100\n",
      "3096/3096 [==============================] - 14s - loss: 4.4344e-04 - acc: 1.0000 - val_loss: 9.4034e-04 - val_acc: 1.0000\n",
      "Epoch 26/100\n",
      "3096/3096 [==============================] - 9s - loss: 6.5834e-04 - acc: 1.0000 - val_loss: 0.0028 - val_acc: 1.0000\n",
      "Epoch 27/100\n",
      "3096/3096 [==============================] - 10s - loss: 5.7504e-04 - acc: 1.0000 - val_loss: 0.0020 - val_acc: 1.0000\n",
      "Epoch 28/100\n",
      "3096/3096 [==============================] - 9s - loss: 4.3330e-04 - acc: 1.0000 - val_loss: 9.2004e-04 - val_acc: 1.0000\n",
      "Epoch 29/100\n",
      "3096/3096 [==============================] - 10s - loss: 5.7969e-04 - acc: 1.0000 - val_loss: 0.0012 - val_acc: 1.0000\n",
      "Epoch 30/100\n",
      "3096/3096 [==============================] - 10s - loss: 6.2365e-04 - acc: 1.0000 - val_loss: 6.7097e-04 - val_acc: 1.0000\n",
      "Epoch 31/100\n",
      "3096/3096 [==============================] - 10s - loss: 2.9239e-04 - acc: 1.0000 - val_loss: 7.5652e-04 - val_acc: 1.0000\n",
      "Epoch 32/100\n",
      "3096/3096 [==============================] - 10s - loss: 2.9364e-04 - acc: 1.0000 - val_loss: 9.5138e-04 - val_acc: 1.0000\n",
      "Epoch 33/100\n",
      "3096/3096 [==============================] - 10s - loss: 1.7786e-04 - acc: 1.0000 - val_loss: 7.4385e-04 - val_acc: 1.0000\n",
      "Epoch 34/100\n",
      "3096/3096 [==============================] - 13s - loss: 4.0741e-04 - acc: 1.0000 - val_loss: 8.7746e-04 - val_acc: 1.0000\n",
      "Epoch 35/100\n",
      "3096/3096 [==============================] - 14s - loss: 2.5743e-04 - acc: 1.0000 - val_loss: 5.6733e-04 - val_acc: 1.0000\n",
      "Epoch 36/100\n",
      "3096/3096 [==============================] - 17s - loss: 4.8640e-04 - acc: 0.9997 - val_loss: 0.0010 - val_acc: 1.0000\n",
      "Epoch 37/100\n",
      "3096/3096 [==============================] - 18s - loss: 1.9978e-04 - acc: 1.0000 - val_loss: 0.0010 - val_acc: 1.0000\n",
      "Epoch 38/100\n",
      "3096/3096 [==============================] - 19s - loss: 2.6588e-04 - acc: 1.0000 - val_loss: 5.1149e-04 - val_acc: 1.0000\n",
      "Epoch 39/100\n",
      "3096/3096 [==============================] - 17s - loss: 2.0126e-04 - acc: 1.0000 - val_loss: 6.1237e-04 - val_acc: 1.0000\n",
      "Epoch 40/100\n",
      "3096/3096 [==============================] - 18s - loss: 1.2958e-04 - acc: 1.0000 - val_loss: 7.6846e-04 - val_acc: 1.0000\n",
      "Epoch 41/100\n",
      "3096/3096 [==============================] - 18s - loss: 1.5539e-04 - acc: 1.0000 - val_loss: 4.9057e-04 - val_acc: 1.0000\n",
      "Epoch 42/100\n",
      "3096/3096 [==============================] - 18s - loss: 1.1665e-04 - acc: 1.0000 - val_loss: 3.9187e-04 - val_acc: 1.0000\n",
      "Epoch 43/100\n",
      "3096/3096 [==============================] - 18s - loss: 1.0356e-04 - acc: 1.0000 - val_loss: 4.1182e-04 - val_acc: 1.0000\n",
      "Epoch 44/100\n",
      "3096/3096 [==============================] - 19s - loss: 1.6700e-04 - acc: 1.0000 - val_loss: 7.0931e-04 - val_acc: 1.0000\n",
      "Epoch 45/100\n",
      "3096/3096 [==============================] - 15s - loss: 8.2009e-05 - acc: 1.0000 - val_loss: 5.0816e-04 - val_acc: 1.0000\n",
      "Epoch 46/100\n",
      "3096/3096 [==============================] - 14s - loss: 1.5843e-04 - acc: 1.0000 - val_loss: 3.9330e-04 - val_acc: 1.0000\n",
      "Epoch 47/100\n",
      "3096/3096 [==============================] - 11s - loss: 9.9482e-05 - acc: 1.0000 - val_loss: 0.0011 - val_acc: 1.0000\n",
      "Epoch 48/100\n",
      "3096/3096 [==============================] - 9s - loss: 9.1855e-05 - acc: 1.0000 - val_loss: 6.6065e-04 - val_acc: 1.0000\n",
      "Epoch 49/100\n",
      "3096/3096 [==============================] - 10s - loss: 7.6245e-05 - acc: 1.0000 - val_loss: 3.8284e-04 - val_acc: 1.0000\n",
      "Epoch 50/100\n",
      "3096/3096 [==============================] - 10s - loss: 1.3179e-04 - acc: 1.0000 - val_loss: 7.0888e-04 - val_acc: 1.0000\n",
      "Epoch 51/100\n",
      "3096/3096 [==============================] - 9s - loss: 7.5678e-05 - acc: 1.0000 - val_loss: 2.0160e-04 - val_acc: 1.0000\n",
      "Epoch 52/100\n",
      "3096/3096 [==============================] - 10s - loss: 1.3207e-04 - acc: 1.0000 - val_loss: 9.8948e-04 - val_acc: 1.0000\n",
      "Epoch 53/100\n",
      "3096/3096 [==============================] - 10s - loss: 7.3505e-05 - acc: 1.0000 - val_loss: 2.9461e-04 - val_acc: 1.0000\n",
      "Epoch 54/100\n",
      "3096/3096 [==============================] - 10s - loss: 8.0569e-05 - acc: 1.0000 - val_loss: 7.0517e-04 - val_acc: 1.0000\n",
      "Epoch 55/100\n",
      "3096/3096 [==============================] - 10s - loss: 7.7644e-05 - acc: 1.0000 - val_loss: 2.6462e-04 - val_acc: 1.0000\n",
      "Epoch 56/100\n",
      "3096/3096 [==============================] - 10s - loss: 6.6569e-05 - acc: 1.0000 - val_loss: 2.9246e-04 - val_acc: 1.0000\n",
      "Epoch 57/100\n",
      "3096/3096 [==============================] - 10s - loss: 7.2043e-05 - acc: 1.0000 - val_loss: 2.0064e-04 - val_acc: 1.0000\n",
      "Epoch 58/100\n",
      "3096/3096 [==============================] - 15s - loss: 5.7536e-05 - acc: 1.0000 - val_loss: 3.6490e-04 - val_acc: 1.0000\n",
      "Epoch 59/100\n",
      "3096/3096 [==============================] - 14s - loss: 6.6025e-05 - acc: 1.0000 - val_loss: 2.6474e-04 - val_acc: 1.0000\n",
      "Epoch 60/100\n",
      "3096/3096 [==============================] - 15s - loss: 6.1819e-05 - acc: 1.0000 - val_loss: 5.0272e-04 - val_acc: 1.0000\n",
      "Epoch 61/100\n",
      "3096/3096 [==============================] - 19s - loss: 4.7595e-05 - acc: 1.0000 - val_loss: 2.4638e-04 - val_acc: 1.0000\n",
      "Epoch 62/100\n"
     ]
    },
    {
     "name": "stdout",
     "output_type": "stream",
     "text": [
      "3096/3096 [==============================] - 17s - loss: 1.8935e-04 - acc: 1.0000 - val_loss: 4.5295e-04 - val_acc: 1.0000\n",
      "Epoch 63/100\n",
      "3096/3096 [==============================] - 18s - loss: 3.6622e-05 - acc: 1.0000 - val_loss: 2.5481e-04 - val_acc: 1.0000\n",
      "Epoch 64/100\n",
      "3096/3096 [==============================] - 18s - loss: 6.8024e-05 - acc: 1.0000 - val_loss: 3.0735e-04 - val_acc: 1.0000\n",
      "Epoch 65/100\n",
      "3096/3096 [==============================] - 18s - loss: 6.5517e-05 - acc: 1.0000 - val_loss: 3.0801e-04 - val_acc: 1.0000\n",
      "Epoch 66/100\n",
      "3096/3096 [==============================] - 19s - loss: 6.1737e-05 - acc: 1.0000 - val_loss: 1.5407e-04 - val_acc: 1.0000\n",
      "Epoch 67/100\n",
      "3096/3096 [==============================] - 18s - loss: 4.4851e-05 - acc: 1.0000 - val_loss: 1.9322e-04 - val_acc: 1.0000\n",
      "Epoch 68/100\n",
      "3096/3096 [==============================] - 18s - loss: 2.8434e-04 - acc: 1.0000 - val_loss: 4.0384e-04 - val_acc: 1.0000\n",
      "Epoch 69/100\n",
      "3096/3096 [==============================] - 14s - loss: 6.5117e-05 - acc: 1.0000 - val_loss: 5.2051e-04 - val_acc: 1.0000\n",
      "Epoch 70/100\n",
      "3096/3096 [==============================] - 14s - loss: 3.6337e-05 - acc: 1.0000 - val_loss: 3.8445e-04 - val_acc: 1.0000\n",
      "Epoch 71/100\n",
      "3096/3096 [==============================] - 13s - loss: 7.8822e-05 - acc: 1.0000 - val_loss: 9.4189e-04 - val_acc: 1.0000\n",
      "Epoch 72/100\n",
      "3096/3096 [==============================] - 10s - loss: 6.6250e-05 - acc: 1.0000 - val_loss: 2.1411e-04 - val_acc: 1.0000\n",
      "Epoch 73/100\n",
      "3096/3096 [==============================] - 10s - loss: 5.8152e-05 - acc: 1.0000 - val_loss: 2.4257e-04 - val_acc: 1.0000\n",
      "Epoch 74/100\n",
      "3096/3096 [==============================] - 10s - loss: 4.7122e-05 - acc: 1.0000 - val_loss: 3.3124e-04 - val_acc: 1.0000\n",
      "Epoch 75/100\n",
      "3096/3096 [==============================] - 10s - loss: 3.1256e-05 - acc: 1.0000 - val_loss: 3.0871e-04 - val_acc: 1.0000\n",
      "Epoch 76/100\n",
      "3096/3096 [==============================] - 9s - loss: 4.1465e-05 - acc: 1.0000 - val_loss: 1.6709e-04 - val_acc: 1.0000\n",
      "Epoch 77/100\n",
      "3096/3096 [==============================] - 9s - loss: 7.3400e-05 - acc: 1.0000 - val_loss: 1.4235e-04 - val_acc: 1.0000\n",
      "Epoch 78/100\n",
      "3096/3096 [==============================] - 10s - loss: 8.8160e-05 - acc: 1.0000 - val_loss: 2.4268e-04 - val_acc: 1.0000\n",
      "Epoch 79/100\n",
      "3096/3096 [==============================] - 12s - loss: 2.6399e-05 - acc: 1.0000 - val_loss: 1.7008e-04 - val_acc: 1.0000\n",
      "Epoch 80/100\n",
      "3096/3096 [==============================] - 14s - loss: 3.8525e-05 - acc: 1.0000 - val_loss: 3.7374e-04 - val_acc: 1.0000\n",
      "Epoch 81/100\n",
      "3096/3096 [==============================] - 14s - loss: 2.8024e-05 - acc: 1.0000 - val_loss: 1.7939e-04 - val_acc: 1.0000\n",
      "Epoch 82/100\n",
      "3096/3096 [==============================] - 14s - loss: 2.3180e-05 - acc: 1.0000 - val_loss: 1.7979e-04 - val_acc: 1.0000\n",
      "Epoch 83/100\n",
      "3096/3096 [==============================] - 14s - loss: 1.5846e-05 - acc: 1.0000 - val_loss: 1.6154e-04 - val_acc: 1.0000\n",
      "Epoch 84/100\n",
      "3096/3096 [==============================] - 14s - loss: 2.0911e-05 - acc: 1.0000 - val_loss: 1.7015e-04 - val_acc: 1.0000\n",
      "Epoch 85/100\n",
      "3096/3096 [==============================] - 14s - loss: 1.9638e-05 - acc: 1.0000 - val_loss: 1.6971e-04 - val_acc: 1.0000\n",
      "Epoch 86/100\n",
      "3096/3096 [==============================] - 14s - loss: 3.2943e-05 - acc: 1.0000 - val_loss: 2.4490e-04 - val_acc: 1.0000\n",
      "Epoch 87/100\n",
      "3096/3096 [==============================] - 16s - loss: 3.5862e-05 - acc: 1.0000 - val_loss: 1.5304e-04 - val_acc: 1.0000\n",
      "Epoch 88/100\n",
      "3096/3096 [==============================] - 18s - loss: 6.7100e-05 - acc: 1.0000 - val_loss: 6.3123e-04 - val_acc: 1.0000\n",
      "Epoch 89/100\n",
      "3096/3096 [==============================] - 18s - loss: 2.7338e-05 - acc: 1.0000 - val_loss: 2.5668e-04 - val_acc: 1.0000\n",
      "Epoch 90/100\n",
      "3096/3096 [==============================] - 18s - loss: 1.5555e-05 - acc: 1.0000 - val_loss: 2.3301e-04 - val_acc: 1.0000\n",
      "Epoch 91/100\n",
      "3096/3096 [==============================] - 14s - loss: 1.6132e-05 - acc: 1.0000 - val_loss: 1.2476e-04 - val_acc: 1.0000\n",
      "Epoch 92/100\n",
      "3096/3096 [==============================] - 14s - loss: 2.6370e-05 - acc: 1.0000 - val_loss: 2.1495e-04 - val_acc: 1.0000\n",
      "Epoch 93/100\n",
      "3096/3096 [==============================] - 14s - loss: 5.7411e-05 - acc: 1.0000 - val_loss: 3.5490e-04 - val_acc: 1.0000\n",
      "Epoch 94/100\n",
      "3096/3096 [==============================] - 15s - loss: 2.9685e-05 - acc: 1.0000 - val_loss: 1.3623e-04 - val_acc: 1.0000\n",
      "Epoch 95/100\n",
      "3096/3096 [==============================] - 14s - loss: 1.9402e-05 - acc: 1.0000 - val_loss: 1.6836e-04 - val_acc: 1.0000\n",
      "Epoch 96/100\n",
      "3096/3096 [==============================] - 14s - loss: 1.7566e-05 - acc: 1.0000 - val_loss: 1.4675e-04 - val_acc: 1.0000\n",
      "Epoch 97/100\n",
      "3096/3096 [==============================] - 14s - loss: 2.9392e-05 - acc: 1.0000 - val_loss: 2.0915e-04 - val_acc: 1.0000\n",
      "Epoch 98/100\n",
      "3096/3096 [==============================] - 13s - loss: 1.4989e-05 - acc: 1.0000 - val_loss: 1.6790e-04 - val_acc: 1.0000\n",
      "Epoch 99/100\n",
      "3096/3096 [==============================] - 10s - loss: 6.2050e-05 - acc: 1.0000 - val_loss: 1.6749e-04 - val_acc: 1.0000\n",
      "Epoch 100/100\n",
      "3096/3096 [==============================] - 10s - loss: 2.1491e-05 - acc: 1.0000 - val_loss: 2.0511e-04 - val_acc: 1.0000\n"
     ]
    },
    {
     "data": {
      "text/plain": [
       "<keras.callbacks.History at 0x7fc685c42c18>"
      ]
     },
     "execution_count": 6,
     "metadata": {},
     "output_type": "execute_result"
    }
   ],
   "source": [
    "model.fit(\n",
    "    x_train,\n",
    "    y_train,\n",
    "    batch_size=128,\n",
    "    epochs=100,\n",
    "    verbose=1,\n",
    "    validation_data=(x_test, y_test))"
   ]
  },
  {
   "cell_type": "code",
   "execution_count": 7,
   "metadata": {
    "ExecuteTime": {
     "end_time": "2019-01-21T06:55:55.089145Z",
     "start_time": "2019-01-21T06:55:54.635491Z"
    }
   },
   "outputs": [
    {
     "name": "stdout",
     "output_type": "stream",
     "text": [
      "Test loss: 0.0002051061377481828\n",
      "Test accuracy: 1.0\n"
     ]
    }
   ],
   "source": [
    "score = model.evaluate(x_test, y_test, verbose=0)\n",
    "\n",
    "print('Test loss:', score[0])\n",
    "print('Test accuracy:', score[1])"
   ]
  },
  {
   "cell_type": "code",
   "execution_count": 9,
   "metadata": {
    "ExecuteTime": {
     "end_time": "2019-01-21T07:08:15.570415Z",
     "start_time": "2019-01-21T07:08:15.365010Z"
    }
   },
   "outputs": [],
   "source": [
    "model.save('../taiko/external/spirit_img_model.h5')"
   ]
  },
  {
   "cell_type": "code",
   "execution_count": null,
   "metadata": {},
   "outputs": [],
   "source": []
  }
 ],
 "metadata": {
  "kernelspec": {
   "display_name": "Python 3",
   "language": "python",
   "name": "python3"
  },
  "language_info": {
   "codemirror_mode": {
    "name": "ipython",
    "version": 3
   },
   "file_extension": ".py",
   "mimetype": "text/x-python",
   "name": "python",
   "nbconvert_exporter": "python",
   "pygments_lexer": "ipython3",
   "version": "3.6.7"
  },
  "toc": {
   "nav_menu": {},
   "number_sections": true,
   "sideBar": true,
   "skip_h1_title": false,
   "toc_cell": true,
   "toc_position": {},
   "toc_section_display": "block",
   "toc_window_display": false
  },
  "varInspector": {
   "cols": {
    "lenName": 16,
    "lenType": 16,
    "lenVar": 40
   },
   "kernels_config": {
    "python": {
     "delete_cmd_postfix": "",
     "delete_cmd_prefix": "del ",
     "library": "var_list.py",
     "varRefreshCmd": "print(var_dic_list())"
    },
    "r": {
     "delete_cmd_postfix": ") ",
     "delete_cmd_prefix": "rm(",
     "library": "var_list.r",
     "varRefreshCmd": "cat(var_dic_list()) "
    }
   },
   "types_to_exclude": [
    "module",
    "function",
    "builtin_function_or_method",
    "instance",
    "_Feature"
   ],
   "window_display": false
  }
 },
 "nbformat": 4,
 "nbformat_minor": 2
}
