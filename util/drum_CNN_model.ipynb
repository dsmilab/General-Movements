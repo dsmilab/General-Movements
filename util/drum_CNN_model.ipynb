{
 "cells": [
  {
   "cell_type": "markdown",
   "metadata": {
    "toc": true
   },
   "source": [
    "<h1>Table of Contents<span class=\"tocSkip\"></span></h1>\n",
    "<div class=\"toc\" style=\"margin-top: 1em;\"><ul class=\"toc-item\"></ul></div>"
   ]
  },
  {
   "cell_type": "code",
   "execution_count": 1,
   "metadata": {
    "ExecuteTime": {
     "end_time": "2018-09-17T04:26:04.591224Z",
     "start_time": "2018-09-17T04:25:59.634871Z"
    },
    "scrolled": true
   },
   "outputs": [
    {
     "name": "stderr",
     "output_type": "stream",
     "text": [
      "Using TensorFlow backend.\n"
     ]
    }
   ],
   "source": [
    "from io import BytesIO\n",
    "\n",
    "import os\n",
    "import numpy as np\n",
    "import matplotlib.pyplot as plt\n",
    "\n",
    "import keras\n",
    "from keras.layers.core import Dense, Dropout, Activation\n",
    "from keras.utils import np_utils\n",
    "from keras.datasets import mnist\n",
    "from keras.models import Sequential\n",
    "from keras.layers import Dense, Dropout, Flatten\n",
    "from keras.layers import Conv2D, MaxPooling2D\n",
    "from keras.preprocessing.image import random_shift, img_to_array\n",
    "import PIL.ImageOps\n",
    "\n",
    "from skimage.io import imshow, imread\n",
    "from skimage.color import rgb2grey\n",
    "import skimage\n"
   ]
  },
  {
   "cell_type": "code",
   "execution_count": 2,
   "metadata": {
    "ExecuteTime": {
     "end_time": "2018-09-17T04:26:04.594692Z",
     "start_time": "2018-09-17T04:26:04.592540Z"
    }
   },
   "outputs": [],
   "source": [
    "TRAIN_DIRECTORY_PATH = '../data/drum_dataset/train_set/'\n",
    "TEST_DIRECTORY_PATH = '../data/drum_dataset/test_set/'\n",
    "\n",
    "NUM_CLASSES = 2\n",
    "IMG_ROWS, IMG_COLS = 65, 65"
   ]
  },
  {
   "cell_type": "code",
   "execution_count": 3,
   "metadata": {
    "ExecuteTime": {
     "end_time": "2018-09-17T04:26:16.463908Z",
     "start_time": "2018-09-17T04:26:04.596058Z"
    }
   },
   "outputs": [
    {
     "name": "stdout",
     "output_type": "stream",
     "text": [
      "x_train shape: (14394, 65, 65, 1)\n",
      "14394 train samples\n",
      "1710 test samples\n"
     ]
    }
   ],
   "source": [
    "x_train = []\n",
    "x_test = []\n",
    "y_train = []\n",
    "y_test = []\n",
    "\n",
    "for digit in range(NUM_CLASSES):\n",
    "    directory = TRAIN_DIRECTORY_PATH + str(digit) + '/'\n",
    "    files = next(os.walk(directory))[2]\n",
    "    \n",
    "    for filename in files:\n",
    "        img = imread(directory + filename)\n",
    "        img = skimage.img_as_float(img)\n",
    "        imgs = [\n",
    "            random_shift(img, wrg=0.1, hrg=0.3, row_axis=0,\n",
    "                         col_axis=1, channel_axis=2, fill_mode='nearest') * 255\n",
    "            for _ in range(3)]\n",
    "        \n",
    "        for img_ in imgs:\n",
    "            shifted_img = img_.astype(np.uint8)\n",
    "            shifted_img = rgb2grey(shifted_img)\n",
    "            x_train.append(shifted_img)\n",
    "            y_train.append(digit)\n",
    "\n",
    "for digit in range(NUM_CLASSES):\n",
    "    directory = TEST_DIRECTORY_PATH + str(digit) + '/'\n",
    "    files = next(os.walk(directory))[2]\n",
    "    \n",
    "    for filename in files:\n",
    "        img = imread(directory + filename)\n",
    "        img = skimage.img_as_float(img)\n",
    "        imgs = [\n",
    "            random_shift(img, wrg=0.1, hrg=0.3, row_axis=0,\n",
    "                         col_axis=1, channel_axis=2, fill_mode='nearest') * 255\n",
    "            for _ in range(3)]\n",
    "        \n",
    "        for img_ in imgs:\n",
    "            shifted_img = img_.astype(np.uint8)\n",
    "            shifted_img = rgb2grey(shifted_img)\n",
    "            x_test.append(shifted_img)\n",
    "            y_test.append(digit)\n",
    "        \n",
    "x_train = np.asarray(x_train)\n",
    "x_train = x_train.reshape(x_train.shape[0], IMG_ROWS, IMG_COLS, 1)\n",
    "\n",
    "x_test = np.asarray(x_test)\n",
    "x_test = x_test.reshape(x_test.shape[0], IMG_ROWS, IMG_COLS, 1)\n",
    "\n",
    "input_shape = (IMG_ROWS, IMG_COLS, 1)\n",
    "\n",
    "print('x_train shape:', x_train.shape)\n",
    "print(x_train.shape[0], 'train samples')\n",
    "print(x_test.shape[0], 'test samples')\n",
    "\n",
    "y_train = keras.utils.to_categorical(y_train, NUM_CLASSES)\n",
    "y_test = keras.utils.to_categorical(y_test, NUM_CLASSES)"
   ]
  },
  {
   "cell_type": "code",
   "execution_count": 4,
   "metadata": {
    "ExecuteTime": {
     "end_time": "2018-09-17T04:26:16.609846Z",
     "start_time": "2018-09-17T04:26:16.465324Z"
    }
   },
   "outputs": [
    {
     "name": "stdout",
     "output_type": "stream",
     "text": [
      "WARNING:tensorflow:From /usr/bin/anaconda3/lib/python3.6/site-packages/keras/backend/tensorflow_backend.py:1205: calling reduce_prod (from tensorflow.python.ops.math_ops) with keep_dims is deprecated and will be removed in a future version.\n",
      "Instructions for updating:\n",
      "keep_dims is deprecated, use keepdims instead\n"
     ]
    }
   ],
   "source": [
    "model = Sequential()\n",
    "model.add(\n",
    "    Conv2D(32, kernel_size=(3, 3), activation='relu', input_shape=input_shape))\n",
    "model.add(Conv2D(64, (3, 3), activation='relu'))\n",
    "model.add(MaxPooling2D(pool_size=(2, 2)))\n",
    "model.add(Dropout(0.25))\n",
    "model.add(Flatten())\n",
    "model.add(Dense(128, activation='relu'))\n",
    "model.add(Dropout(0.5))\n",
    "model.add(Dense(NUM_CLASSES, activation='softmax'))"
   ]
  },
  {
   "cell_type": "code",
   "execution_count": 5,
   "metadata": {
    "ExecuteTime": {
     "end_time": "2018-09-17T04:26:16.663767Z",
     "start_time": "2018-09-17T04:26:16.611247Z"
    }
   },
   "outputs": [
    {
     "name": "stdout",
     "output_type": "stream",
     "text": [
      "WARNING:tensorflow:From /usr/bin/anaconda3/lib/python3.6/site-packages/keras/backend/tensorflow_backend.py:2755: calling reduce_sum (from tensorflow.python.ops.math_ops) with keep_dims is deprecated and will be removed in a future version.\n",
      "Instructions for updating:\n",
      "keep_dims is deprecated, use keepdims instead\n",
      "WARNING:tensorflow:From /usr/bin/anaconda3/lib/python3.6/site-packages/keras/backend/tensorflow_backend.py:1290: calling reduce_mean (from tensorflow.python.ops.math_ops) with keep_dims is deprecated and will be removed in a future version.\n",
      "Instructions for updating:\n",
      "keep_dims is deprecated, use keepdims instead\n"
     ]
    }
   ],
   "source": [
    "model.compile(\n",
    "    loss=keras.losses.categorical_crossentropy,\n",
    "    optimizer=keras.optimizers.Adadelta(),\n",
    "    metrics=['accuracy'])"
   ]
  },
  {
   "cell_type": "code",
   "execution_count": 6,
   "metadata": {
    "ExecuteTime": {
     "end_time": "2018-09-17T04:32:05.780632Z",
     "start_time": "2018-09-17T04:26:16.665095Z"
    },
    "scrolled": true
   },
   "outputs": [
    {
     "name": "stdout",
     "output_type": "stream",
     "text": [
      "Train on 14394 samples, validate on 1710 samples\n",
      "Epoch 1/100\n",
      "14394/14394 [==============================] - 5s - loss: 0.1912 - acc: 0.9266 - val_loss: 0.0881 - val_acc: 0.9708\n",
      "Epoch 2/100\n",
      "14394/14394 [==============================] - 3s - loss: 0.0521 - acc: 0.9860 - val_loss: 0.1022 - val_acc: 0.9708\n",
      "Epoch 3/100\n",
      "14394/14394 [==============================] - 3s - loss: 0.0417 - acc: 0.9903 - val_loss: 0.0376 - val_acc: 0.9842\n",
      "Epoch 4/100\n",
      "14394/14394 [==============================] - 3s - loss: 0.0318 - acc: 0.9917 - val_loss: 0.0291 - val_acc: 0.9877\n",
      "Epoch 5/100\n",
      "14394/14394 [==============================] - 3s - loss: 0.0256 - acc: 0.9939 - val_loss: 0.0262 - val_acc: 0.9918\n",
      "Epoch 6/100\n",
      "14394/14394 [==============================] - 3s - loss: 0.0232 - acc: 0.9941 - val_loss: 0.0189 - val_acc: 0.9936\n",
      "Epoch 7/100\n",
      "14394/14394 [==============================] - 3s - loss: 0.0186 - acc: 0.9956 - val_loss: 0.0205 - val_acc: 0.9930\n",
      "Epoch 8/100\n",
      "14394/14394 [==============================] - 3s - loss: 0.0154 - acc: 0.9962 - val_loss: 0.4896 - val_acc: 0.8000\n",
      "Epoch 9/100\n",
      "14394/14394 [==============================] - 3s - loss: 0.0191 - acc: 0.9940 - val_loss: 0.0239 - val_acc: 0.9924\n",
      "Epoch 10/100\n",
      "14394/14394 [==============================] - 3s - loss: 0.0136 - acc: 0.9968 - val_loss: 0.0127 - val_acc: 0.9965\n",
      "Epoch 11/100\n",
      "14394/14394 [==============================] - 3s - loss: 0.0131 - acc: 0.9969 - val_loss: 0.0079 - val_acc: 0.9977\n",
      "Epoch 12/100\n",
      "14394/14394 [==============================] - 3s - loss: 0.0140 - acc: 0.9955 - val_loss: 0.0100 - val_acc: 0.9971\n",
      "Epoch 13/100\n",
      "14394/14394 [==============================] - 3s - loss: 0.0084 - acc: 0.9976 - val_loss: 0.0049 - val_acc: 0.9982\n",
      "Epoch 14/100\n",
      "14394/14394 [==============================] - 3s - loss: 0.0151 - acc: 0.9952 - val_loss: 0.0064 - val_acc: 0.9977\n",
      "Epoch 15/100\n",
      "14394/14394 [==============================] - 3s - loss: 0.0102 - acc: 0.9969 - val_loss: 0.0077 - val_acc: 0.9977\n",
      "Epoch 16/100\n",
      "14394/14394 [==============================] - 3s - loss: 0.0069 - acc: 0.9981 - val_loss: 0.0558 - val_acc: 0.9883\n",
      "Epoch 17/100\n",
      "14394/14394 [==============================] - 3s - loss: 0.0135 - acc: 0.9956 - val_loss: 0.0037 - val_acc: 0.9988\n",
      "Epoch 18/100\n",
      "14394/14394 [==============================] - 3s - loss: 0.0076 - acc: 0.9981 - val_loss: 0.0037 - val_acc: 0.9988\n",
      "Epoch 19/100\n",
      "14394/14394 [==============================] - 3s - loss: 0.0066 - acc: 0.9982 - val_loss: 0.0039 - val_acc: 0.9994\n",
      "Epoch 20/100\n",
      "14394/14394 [==============================] - 3s - loss: 0.0105 - acc: 0.9969 - val_loss: 0.0028 - val_acc: 0.9988\n",
      "Epoch 21/100\n",
      "14394/14394 [==============================] - 3s - loss: 0.0049 - acc: 0.9990 - val_loss: 0.0023 - val_acc: 0.9994\n",
      "Epoch 22/100\n",
      "14394/14394 [==============================] - 3s - loss: 0.0127 - acc: 0.9961 - val_loss: 0.0027 - val_acc: 0.9988\n",
      "Epoch 23/100\n",
      "14394/14394 [==============================] - 3s - loss: 0.0053 - acc: 0.9983 - val_loss: 0.0026 - val_acc: 0.9988\n",
      "Epoch 24/100\n",
      "14394/14394 [==============================] - 3s - loss: 0.0079 - acc: 0.9981 - val_loss: 0.0022 - val_acc: 1.0000\n",
      "Epoch 25/100\n",
      "14394/14394 [==============================] - 3s - loss: 0.0126 - acc: 0.9969 - val_loss: 0.0039 - val_acc: 0.9977\n",
      "Epoch 26/100\n",
      "14394/14394 [==============================] - 3s - loss: 0.0057 - acc: 0.9989 - val_loss: 0.0030 - val_acc: 0.9977\n",
      "Epoch 27/100\n",
      "14394/14394 [==============================] - 3s - loss: 0.0082 - acc: 0.9978 - val_loss: 0.0416 - val_acc: 0.9836\n",
      "Epoch 28/100\n",
      "14394/14394 [==============================] - 3s - loss: 0.0060 - acc: 0.9984 - val_loss: 0.0019 - val_acc: 0.9994\n",
      "Epoch 29/100\n",
      "14394/14394 [==============================] - 3s - loss: 0.0084 - acc: 0.9972 - val_loss: 0.0020 - val_acc: 1.0000\n",
      "Epoch 30/100\n",
      "14394/14394 [==============================] - 3s - loss: 0.0051 - acc: 0.9988 - val_loss: 0.0021 - val_acc: 0.9988\n",
      "Epoch 31/100\n",
      "14394/14394 [==============================] - 3s - loss: 0.0049 - acc: 0.9985 - val_loss: 0.0057 - val_acc: 0.9977\n",
      "Epoch 32/100\n",
      "14394/14394 [==============================] - 3s - loss: 0.0054 - acc: 0.9985 - val_loss: 0.0015 - val_acc: 1.0000\n",
      "Epoch 33/100\n",
      "14394/14394 [==============================] - 3s - loss: 0.0052 - acc: 0.9983 - val_loss: 0.0103 - val_acc: 0.9982\n",
      "Epoch 34/100\n",
      "14394/14394 [==============================] - 3s - loss: 0.0041 - acc: 0.9985 - val_loss: 0.0016 - val_acc: 0.9994\n",
      "Epoch 35/100\n",
      "14394/14394 [==============================] - 3s - loss: 0.0044 - acc: 0.9988 - val_loss: 0.0057 - val_acc: 0.9982\n",
      "Epoch 36/100\n",
      "14394/14394 [==============================] - 3s - loss: 0.0066 - acc: 0.9979 - val_loss: 0.0020 - val_acc: 0.9988\n",
      "Epoch 37/100\n",
      "14394/14394 [==============================] - 3s - loss: 0.0055 - acc: 0.9983 - val_loss: 0.0031 - val_acc: 0.9982\n",
      "Epoch 38/100\n",
      "14394/14394 [==============================] - 3s - loss: 0.0019 - acc: 0.9995 - val_loss: 0.0028 - val_acc: 1.0000\n",
      "Epoch 39/100\n",
      "14394/14394 [==============================] - 3s - loss: 0.0059 - acc: 0.9987 - val_loss: 0.0012 - val_acc: 1.0000\n",
      "Epoch 40/100\n",
      "14394/14394 [==============================] - 3s - loss: 0.0043 - acc: 0.9988 - val_loss: 8.9825e-04 - val_acc: 1.0000\n",
      "Epoch 41/100\n",
      "14394/14394 [==============================] - 3s - loss: 0.0061 - acc: 0.9984 - val_loss: 8.5446e-04 - val_acc: 1.0000\n",
      "Epoch 42/100\n",
      "14394/14394 [==============================] - 3s - loss: 0.0038 - acc: 0.9990 - val_loss: 8.2270e-04 - val_acc: 1.0000\n",
      "Epoch 43/100\n",
      "14394/14394 [==============================] - 3s - loss: 0.0044 - acc: 0.9987 - val_loss: 0.0032 - val_acc: 0.9982\n",
      "Epoch 44/100\n",
      "14394/14394 [==============================] - 3s - loss: 0.0013 - acc: 0.9994 - val_loss: 0.0029 - val_acc: 0.9988\n",
      "Epoch 45/100\n",
      "14394/14394 [==============================] - 3s - loss: 0.0025 - acc: 0.9992 - val_loss: 5.6120e-04 - val_acc: 1.0000\n",
      "Epoch 46/100\n",
      "14394/14394 [==============================] - 3s - loss: 0.0021 - acc: 0.9991 - val_loss: 6.9309e-04 - val_acc: 1.0000\n",
      "Epoch 47/100\n",
      "14394/14394 [==============================] - 3s - loss: 0.0041 - acc: 0.9987 - val_loss: 5.3626e-04 - val_acc: 1.0000\n",
      "Epoch 48/100\n",
      "14394/14394 [==============================] - 3s - loss: 0.0126 - acc: 0.9967 - val_loss: 0.0058 - val_acc: 0.9977\n",
      "Epoch 49/100\n",
      "14394/14394 [==============================] - 3s - loss: 0.0011 - acc: 0.9999 - val_loss: 5.9338e-04 - val_acc: 1.0000\n",
      "Epoch 50/100\n",
      "14394/14394 [==============================] - 3s - loss: 0.0030 - acc: 0.9992 - val_loss: 7.6236e-04 - val_acc: 1.0000\n",
      "Epoch 51/100\n",
      "14394/14394 [==============================] - 3s - loss: 0.0027 - acc: 0.9990 - val_loss: 0.0159 - val_acc: 0.9959\n",
      "Epoch 52/100\n",
      "14394/14394 [==============================] - 3s - loss: 0.0047 - acc: 0.9982 - val_loss: 0.0026 - val_acc: 0.9988\n",
      "Epoch 53/100\n",
      "14394/14394 [==============================] - 3s - loss: 8.5824e-04 - acc: 0.9998 - val_loss: 9.7523e-04 - val_acc: 1.0000\n",
      "Epoch 54/100\n",
      "14394/14394 [==============================] - 3s - loss: 0.0095 - acc: 0.9971 - val_loss: 5.7165e-04 - val_acc: 1.0000\n",
      "Epoch 55/100\n",
      "14394/14394 [==============================] - 3s - loss: 0.0049 - acc: 0.9985 - val_loss: 5.0543e-04 - val_acc: 1.0000\n",
      "Epoch 56/100\n",
      "14394/14394 [==============================] - 3s - loss: 0.0011 - acc: 0.9996 - val_loss: 3.9639e-04 - val_acc: 1.0000\n",
      "Epoch 57/100\n",
      "14394/14394 [==============================] - 3s - loss: 0.0048 - acc: 0.9985 - val_loss: 0.0018 - val_acc: 0.9994\n",
      "Epoch 58/100\n",
      "14394/14394 [==============================] - 3s - loss: 0.0013 - acc: 0.9997 - val_loss: 0.6565 - val_acc: 0.8351\n",
      "Epoch 59/100\n",
      "14394/14394 [==============================] - 3s - loss: 0.0118 - acc: 0.9969 - val_loss: 5.2833e-04 - val_acc: 1.0000\n",
      "Epoch 60/100\n",
      "14394/14394 [==============================] - 3s - loss: 0.0026 - acc: 0.9992 - val_loss: 0.0012 - val_acc: 1.0000\n",
      "Epoch 61/100\n",
      "14394/14394 [==============================] - 3s - loss: 0.0036 - acc: 0.9992 - val_loss: 3.8109e-04 - val_acc: 1.0000\n",
      "Epoch 62/100\n",
      "14394/14394 [==============================] - 3s - loss: 0.0087 - acc: 0.9976 - val_loss: 8.9372e-04 - val_acc: 1.0000\n",
      "Epoch 63/100\n",
      "14394/14394 [==============================] - 3s - loss: 0.0020 - acc: 0.9995 - val_loss: 0.0025 - val_acc: 0.9994\n",
      "Epoch 64/100\n",
      "14394/14394 [==============================] - 3s - loss: 0.0031 - acc: 0.9994 - val_loss: 6.0309e-04 - val_acc: 1.0000\n",
      "Epoch 65/100\n",
      "14394/14394 [==============================] - 3s - loss: 0.0037 - acc: 0.9992 - val_loss: 3.1564e-04 - val_acc: 1.0000\n",
      "Epoch 66/100\n",
      "14394/14394 [==============================] - 3s - loss: 0.0025 - acc: 0.9993 - val_loss: 3.6997e-04 - val_acc: 1.0000\n",
      "Epoch 67/100\n",
      "14394/14394 [==============================] - 3s - loss: 0.0040 - acc: 0.9990 - val_loss: 0.0022 - val_acc: 0.9994\n",
      "Epoch 68/100\n",
      "14394/14394 [==============================] - 3s - loss: 0.0040 - acc: 0.9991 - val_loss: 0.0011 - val_acc: 1.0000\n",
      "Epoch 69/100\n",
      "14394/14394 [==============================] - 3s - loss: 0.0128 - acc: 0.9968 - val_loss: 0.0011 - val_acc: 1.0000\n",
      "Epoch 70/100\n",
      "14394/14394 [==============================] - 3s - loss: 0.0027 - acc: 0.9992 - val_loss: 0.0064 - val_acc: 0.9977\n",
      "Epoch 71/100\n",
      "14394/14394 [==============================] - 3s - loss: 0.0018 - acc: 0.9995 - val_loss: 3.8083e-04 - val_acc: 1.0000\n",
      "Epoch 72/100\n",
      "14394/14394 [==============================] - 3s - loss: 0.0031 - acc: 0.9990 - val_loss: 3.5960e-04 - val_acc: 1.0000\n",
      "Epoch 73/100\n",
      "14394/14394 [==============================] - 3s - loss: 0.0014 - acc: 0.9998 - val_loss: 3.3535e-04 - val_acc: 1.0000\n",
      "Epoch 74/100\n",
      "14394/14394 [==============================] - 3s - loss: 0.0052 - acc: 0.9990 - val_loss: 0.0019 - val_acc: 0.9994\n",
      "Epoch 75/100\n",
      "14394/14394 [==============================] - 3s - loss: 0.0036 - acc: 0.9990 - val_loss: 5.3647e-04 - val_acc: 1.0000\n",
      "Epoch 76/100\n",
      "14394/14394 [==============================] - 3s - loss: 0.0178 - acc: 0.9956 - val_loss: 7.4354e-04 - val_acc: 1.0000\n",
      "Epoch 77/100\n",
      "14394/14394 [==============================] - 3s - loss: 0.0024 - acc: 0.9995 - val_loss: 0.0058 - val_acc: 0.9982\n",
      "Epoch 78/100\n",
      "14394/14394 [==============================] - 3s - loss: 0.0010 - acc: 0.9999 - val_loss: 0.0095 - val_acc: 0.9982\n",
      "Epoch 79/100\n",
      "14394/14394 [==============================] - 3s - loss: 0.0074 - acc: 0.9978 - val_loss: 3.5707e-04 - val_acc: 1.0000\n",
      "Epoch 80/100\n",
      "14394/14394 [==============================] - 3s - loss: 6.2488e-04 - acc: 0.9999 - val_loss: 0.0083 - val_acc: 0.9959\n",
      "Epoch 81/100\n",
      "14394/14394 [==============================] - 3s - loss: 0.0029 - acc: 0.9990 - val_loss: 0.0114 - val_acc: 0.9971\n",
      "Epoch 82/100\n",
      "14394/14394 [==============================] - 3s - loss: 0.0024 - acc: 0.9994 - val_loss: 5.8863e-04 - val_acc: 1.0000\n",
      "Epoch 83/100\n",
      "14394/14394 [==============================] - 3s - loss: 0.0017 - acc: 0.9996 - val_loss: 3.1381e-04 - val_acc: 1.0000\n",
      "Epoch 84/100\n",
      "14394/14394 [==============================] - 3s - loss: 0.0032 - acc: 0.9989 - val_loss: 2.5557e-04 - val_acc: 1.0000\n",
      "Epoch 85/100\n",
      "14394/14394 [==============================] - 3s - loss: 9.3480e-04 - acc: 0.9995 - val_loss: 2.9543e-04 - val_acc: 1.0000\n",
      "Epoch 86/100\n",
      "14394/14394 [==============================] - 3s - loss: 0.0019 - acc: 0.9997 - val_loss: 0.0031 - val_acc: 0.9988\n",
      "Epoch 87/100\n",
      "14394/14394 [==============================] - 3s - loss: 0.0028 - acc: 0.9994 - val_loss: 3.4661e-04 - val_acc: 1.0000\n",
      "Epoch 88/100\n",
      "14394/14394 [==============================] - 3s - loss: 0.0066 - acc: 0.9979 - val_loss: 0.0084 - val_acc: 0.9971\n",
      "Epoch 89/100\n",
      "14394/14394 [==============================] - 3s - loss: 8.3004e-04 - acc: 0.9998 - val_loss: 2.5477e-04 - val_acc: 1.0000\n",
      "Epoch 90/100\n",
      "14394/14394 [==============================] - 3s - loss: 0.0042 - acc: 0.9985 - val_loss: 8.5746e-04 - val_acc: 0.9994\n",
      "Epoch 91/100\n",
      "14394/14394 [==============================] - 3s - loss: 6.8023e-04 - acc: 0.9999 - val_loss: 2.3038e-04 - val_acc: 1.0000\n",
      "Epoch 92/100\n",
      "14394/14394 [==============================] - 3s - loss: 0.0085 - acc: 0.9976 - val_loss: 2.9397e-04 - val_acc: 1.0000\n",
      "Epoch 93/100\n",
      "14394/14394 [==============================] - 3s - loss: 0.0033 - acc: 0.9992 - val_loss: 0.0219 - val_acc: 0.9965\n",
      "Epoch 94/100\n",
      "14394/14394 [==============================] - 3s - loss: 0.0016 - acc: 0.9997 - val_loss: 0.0013 - val_acc: 0.9994\n",
      "Epoch 95/100\n",
      "14394/14394 [==============================] - 3s - loss: 0.0032 - acc: 0.9993 - val_loss: 2.8208e-04 - val_acc: 1.0000\n",
      "Epoch 96/100\n",
      "14394/14394 [==============================] - 3s - loss: 9.5455e-04 - acc: 0.9998 - val_loss: 0.0022 - val_acc: 0.9988\n",
      "Epoch 97/100\n",
      "14394/14394 [==============================] - 3s - loss: 0.0038 - acc: 0.9992 - val_loss: 3.8447e-04 - val_acc: 1.0000\n",
      "Epoch 98/100\n",
      "14394/14394 [==============================] - 3s - loss: 0.0016 - acc: 0.9994 - val_loss: 5.3470e-04 - val_acc: 1.0000\n",
      "Epoch 99/100\n",
      "14394/14394 [==============================] - 3s - loss: 0.0019 - acc: 0.9995 - val_loss: 4.0108e-04 - val_acc: 1.0000\n",
      "Epoch 100/100\n",
      "14394/14394 [==============================] - 3s - loss: 0.0050 - acc: 0.9981 - val_loss: 0.0044 - val_acc: 0.9982\n"
     ]
    },
    {
     "data": {
      "text/plain": [
       "<keras.callbacks.History at 0x7f7dab7c8978>"
      ]
     },
     "execution_count": 6,
     "metadata": {},
     "output_type": "execute_result"
    }
   ],
   "source": [
    "model.fit(\n",
    "    x_train,\n",
    "    y_train,\n",
    "    batch_size=128,\n",
    "    epochs=100,\n",
    "    verbose=1,\n",
    "    validation_data=(x_test, y_test))"
   ]
  },
  {
   "cell_type": "code",
   "execution_count": 7,
   "metadata": {
    "ExecuteTime": {
     "end_time": "2018-09-17T04:32:06.004746Z",
     "start_time": "2018-09-17T04:32:05.783529Z"
    }
   },
   "outputs": [
    {
     "name": "stdout",
     "output_type": "stream",
     "text": [
      "Test loss: 0.004444469933380452\n",
      "Test accuracy: 0.9982456140350877\n"
     ]
    }
   ],
   "source": [
    "score = model.evaluate(x_test, y_test, verbose=0)\n",
    "\n",
    "print('Test loss:', score[0])\n",
    "print('Test accuracy:', score[1])"
   ]
  },
  {
   "cell_type": "code",
   "execution_count": 8,
   "metadata": {
    "ExecuteTime": {
     "end_time": "2018-09-17T04:32:06.150517Z",
     "start_time": "2018-09-17T04:32:06.007993Z"
    }
   },
   "outputs": [],
   "source": [
    "model.save('../taiko/image/drum_img_model.h5')"
   ]
  }
 ],
 "metadata": {
  "kernelspec": {
   "display_name": "Python 3",
   "language": "python",
   "name": "python3"
  },
  "language_info": {
   "codemirror_mode": {
    "name": "ipython",
    "version": 3
   },
   "file_extension": ".py",
   "mimetype": "text/x-python",
   "name": "python",
   "nbconvert_exporter": "python",
   "pygments_lexer": "ipython3",
   "version": "3.6.5"
  },
  "toc": {
   "nav_menu": {},
   "number_sections": true,
   "sideBar": true,
   "skip_h1_title": false,
   "toc_cell": true,
   "toc_position": {},
   "toc_section_display": "block",
   "toc_window_display": false
  },
  "varInspector": {
   "cols": {
    "lenName": 16,
    "lenType": 16,
    "lenVar": 40
   },
   "kernels_config": {
    "python": {
     "delete_cmd_postfix": "",
     "delete_cmd_prefix": "del ",
     "library": "var_list.py",
     "varRefreshCmd": "print(var_dic_list())"
    },
    "r": {
     "delete_cmd_postfix": ") ",
     "delete_cmd_prefix": "rm(",
     "library": "var_list.r",
     "varRefreshCmd": "cat(var_dic_list()) "
    }
   },
   "types_to_exclude": [
    "module",
    "function",
    "builtin_function_or_method",
    "instance",
    "_Feature"
   ],
   "window_display": false
  }
 },
 "nbformat": 4,
 "nbformat_minor": 2
}
