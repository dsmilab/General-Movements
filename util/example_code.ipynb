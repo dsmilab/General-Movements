{
 "cells": [
  {
   "cell_type": "markdown",
   "metadata": {
    "toc": true
   },
   "source": [
    "<h1>Table of Contents<span class=\"tocSkip\"></span></h1>\n",
    "<div class=\"toc\" style=\"margin-top: 1em;\"><ul class=\"toc-item\"></ul></div>"
   ]
  },
  {
   "cell_type": "code",
   "execution_count": 1,
   "metadata": {
    "ExecuteTime": {
     "end_time": "2018-09-24T06:29:04.629315Z",
     "start_time": "2018-09-24T06:29:04.255101Z"
    }
   },
   "outputs": [],
   "source": [
    "import pandas as pd\n",
    "import numpy as np\n",
    "from scipy.stats import mode\n",
    "ZERO_ADJ_COL = ['imu_ax', 'imu_ay', 'imu_az', 'imu_gx', 'imu_gy', 'imu_gz']"
   ]
  },
  {
   "cell_type": "code",
   "execution_count": 2,
   "metadata": {
    "ExecuteTime": {
     "end_time": "2018-09-24T06:29:04.636003Z",
     "start_time": "2018-09-24T06:29:04.630610Z"
    }
   },
   "outputs": [],
   "source": [
    "\"\"\"\n",
    "df: the raw dataframe you want to process\n",
    "\n",
    "return: preprocessed df, resample by 0.01S and calibrate by mode(the most frequency appeared)\n",
    "\"\"\"\n",
    "def __build_play_df(df, calibrate=True, resample=True):\n",
    "    # crop desired play time interval\n",
    "    play_df = df.copy()\n",
    "    play_df.dropna(inplace=True)\n",
    "    play_df[play_df == 0] = np.nan\n",
    "    # resample for more samples\n",
    "    if resample:\n",
    "        play_df.loc[:, 'timestamp'] = pd.to_datetime(\n",
    "            play_df['timestamp'], unit='s')\n",
    "        play_df.loc[:, 'timestamp'] = play_df['timestamp'].apply(\n",
    "            lambda x: x.tz_localize('UTC').tz_convert('Asia/Taipei'))\n",
    "        play_df = play_df.set_index('timestamp').resample(\n",
    "            '0.01S').mean()\n",
    "        play_df = play_df.interpolate(method='linear')\n",
    "        play_df.reset_index(inplace=True)\n",
    "        play_df.loc[:, 'timestamp'] = play_df['timestamp'].apply(\n",
    "            lambda x: x.timestamp())\n",
    "        play_df.fillna(method='ffill', inplace=True)\n",
    "\n",
    "    # implement zero adjust for needed columns\n",
    "    if calibrate:\n",
    "        modes_dict = {}\n",
    "        copy_df = play_df.copy()\n",
    "        for col in ZERO_ADJ_COL:\n",
    "            mode_ = mode(copy_df[col])[0]\n",
    "            modes_dict[col] = mode_\n",
    "\n",
    "        # only considered attributes need zero adjust\n",
    "        for col in ZERO_ADJ_COL:\n",
    "            copy_df.loc[:, col] = copy_df[col] - modes_dict[col]\n",
    "\n",
    "        play_df = copy_df\n",
    "\n",
    "    return play_df"
   ]
  },
  {
   "cell_type": "code",
   "execution_count": 3,
   "metadata": {
    "ExecuteTime": {
     "end_time": "2018-09-24T06:29:05.949072Z",
     "start_time": "2018-09-24T06:29:04.638857Z"
    }
   },
   "outputs": [
    {
     "data": {
      "text/html": [
       "<div>\n",
       "<style scoped>\n",
       "    .dataframe tbody tr th:only-of-type {\n",
       "        vertical-align: middle;\n",
       "    }\n",
       "\n",
       "    .dataframe tbody tr th {\n",
       "        vertical-align: top;\n",
       "    }\n",
       "\n",
       "    .dataframe thead th {\n",
       "        text-align: right;\n",
       "    }\n",
       "</style>\n",
       "<table border=\"1\" class=\"dataframe\">\n",
       "  <thead>\n",
       "    <tr style=\"text-align: right;\">\n",
       "      <th></th>\n",
       "      <th>timestamp</th>\n",
       "      <th>imu_ax</th>\n",
       "      <th>imu_ay</th>\n",
       "      <th>imu_az</th>\n",
       "      <th>imu_gx</th>\n",
       "      <th>imu_gy</th>\n",
       "      <th>imu_gz</th>\n",
       "    </tr>\n",
       "  </thead>\n",
       "  <tbody>\n",
       "    <tr>\n",
       "      <th>count</th>\n",
       "      <td>5.297000e+03</td>\n",
       "      <td>5297.000000</td>\n",
       "      <td>5297.000000</td>\n",
       "      <td>5297.000000</td>\n",
       "      <td>5297.000000</td>\n",
       "      <td>5297.000000</td>\n",
       "      <td>5297.000000</td>\n",
       "    </tr>\n",
       "    <tr>\n",
       "      <th>mean</th>\n",
       "      <td>1.537597e+09</td>\n",
       "      <td>0.052092</td>\n",
       "      <td>-0.041186</td>\n",
       "      <td>1.532541</td>\n",
       "      <td>2.329466</td>\n",
       "      <td>1.837803</td>\n",
       "      <td>1.190681</td>\n",
       "    </tr>\n",
       "    <tr>\n",
       "      <th>std</th>\n",
       "      <td>1.529257e+01</td>\n",
       "      <td>2.009217</td>\n",
       "      <td>2.387346</td>\n",
       "      <td>1.821444</td>\n",
       "      <td>58.964106</td>\n",
       "      <td>45.397879</td>\n",
       "      <td>72.086120</td>\n",
       "    </tr>\n",
       "    <tr>\n",
       "      <th>min</th>\n",
       "      <td>1.537597e+09</td>\n",
       "      <td>-12.156525</td>\n",
       "      <td>-18.862500</td>\n",
       "      <td>-3.987525</td>\n",
       "      <td>-122.625750</td>\n",
       "      <td>-171.051000</td>\n",
       "      <td>-183.166525</td>\n",
       "    </tr>\n",
       "    <tr>\n",
       "      <th>25%</th>\n",
       "      <td>1.537597e+09</td>\n",
       "      <td>-0.981620</td>\n",
       "      <td>-0.394425</td>\n",
       "      <td>0.356260</td>\n",
       "      <td>-35.919200</td>\n",
       "      <td>-11.291520</td>\n",
       "      <td>-46.069340</td>\n",
       "    </tr>\n",
       "    <tr>\n",
       "      <th>50%</th>\n",
       "      <td>1.537597e+09</td>\n",
       "      <td>0.029300</td>\n",
       "      <td>0.262150</td>\n",
       "      <td>1.266525</td>\n",
       "      <td>1.602150</td>\n",
       "      <td>1.879860</td>\n",
       "      <td>0.085460</td>\n",
       "    </tr>\n",
       "    <tr>\n",
       "      <th>75%</th>\n",
       "      <td>1.537597e+09</td>\n",
       "      <td>0.940300</td>\n",
       "      <td>1.099880</td>\n",
       "      <td>2.494260</td>\n",
       "      <td>16.107170</td>\n",
       "      <td>15.319800</td>\n",
       "      <td>20.544440</td>\n",
       "    </tr>\n",
       "    <tr>\n",
       "      <th>max</th>\n",
       "      <td>1.537597e+09</td>\n",
       "      <td>12.899500</td>\n",
       "      <td>4.908620</td>\n",
       "      <td>11.319340</td>\n",
       "      <td>194.647190</td>\n",
       "      <td>260.668960</td>\n",
       "      <td>261.215200</td>\n",
       "    </tr>\n",
       "  </tbody>\n",
       "</table>\n",
       "</div>"
      ],
      "text/plain": [
       "          timestamp       imu_ax       imu_ay       imu_az       imu_gx  \\\n",
       "count  5.297000e+03  5297.000000  5297.000000  5297.000000  5297.000000   \n",
       "mean   1.537597e+09     0.052092    -0.041186     1.532541     2.329466   \n",
       "std    1.529257e+01     2.009217     2.387346     1.821444    58.964106   \n",
       "min    1.537597e+09   -12.156525   -18.862500    -3.987525  -122.625750   \n",
       "25%    1.537597e+09    -0.981620    -0.394425     0.356260   -35.919200   \n",
       "50%    1.537597e+09     0.029300     0.262150     1.266525     1.602150   \n",
       "75%    1.537597e+09     0.940300     1.099880     2.494260    16.107170   \n",
       "max    1.537597e+09    12.899500     4.908620    11.319340   194.647190   \n",
       "\n",
       "            imu_gy       imu_gz  \n",
       "count  5297.000000  5297.000000  \n",
       "mean      1.837803     1.190681  \n",
       "std      45.397879    72.086120  \n",
       "min    -171.051000  -183.166525  \n",
       "25%     -11.291520   -46.069340  \n",
       "50%       1.879860     0.085460  \n",
       "75%      15.319800    20.544440  \n",
       "max     260.668960   261.215200  "
      ]
     },
     "execution_count": 3,
     "metadata": {},
     "output_type": "execute_result"
    }
   ],
   "source": [
    "ddf = pd.read_csv('../data/bb_left_forearm_csv/L_2018-09-22_141420.csv')\n",
    "play_df = __build_play_df(ddf)\n",
    "play_df.describe()"
   ]
  },
  {
   "cell_type": "code",
   "execution_count": null,
   "metadata": {},
   "outputs": [],
   "source": []
  }
 ],
 "metadata": {
  "kernelspec": {
   "display_name": "Python 3",
   "language": "python",
   "name": "python3"
  },
  "language_info": {
   "codemirror_mode": {
    "name": "ipython",
    "version": 3
   },
   "file_extension": ".py",
   "mimetype": "text/x-python",
   "name": "python",
   "nbconvert_exporter": "python",
   "pygments_lexer": "ipython3",
   "version": "3.6.5"
  },
  "toc": {
   "nav_menu": {},
   "number_sections": true,
   "sideBar": true,
   "skip_h1_title": false,
   "toc_cell": true,
   "toc_position": {},
   "toc_section_display": "block",
   "toc_window_display": false
  },
  "varInspector": {
   "cols": {
    "lenName": 16,
    "lenType": 16,
    "lenVar": 40
   },
   "kernels_config": {
    "python": {
     "delete_cmd_postfix": "",
     "delete_cmd_prefix": "del ",
     "library": "var_list.py",
     "varRefreshCmd": "print(var_dic_list())"
    },
    "r": {
     "delete_cmd_postfix": ") ",
     "delete_cmd_prefix": "rm(",
     "library": "var_list.r",
     "varRefreshCmd": "cat(var_dic_list()) "
    }
   },
   "types_to_exclude": [
    "module",
    "function",
    "builtin_function_or_method",
    "instance",
    "_Feature"
   ],
   "window_display": false
  }
 },
 "nbformat": 4,
 "nbformat_minor": 2
}
