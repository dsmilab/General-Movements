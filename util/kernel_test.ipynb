{
 "cells": [
  {
   "cell_type": "markdown",
   "metadata": {
    "toc": true
   },
   "source": [
    "<h1>Table of Contents<span class=\"tocSkip\"></span></h1>\n",
    "<div class=\"toc\" style=\"margin-top: 1em;\"><ul class=\"toc-item\"></ul></div>"
   ]
  },
  {
   "cell_type": "code",
   "execution_count": 1,
   "metadata": {
    "ExecuteTime": {
     "end_time": "2018-06-27T05:33:02.014883Z",
     "start_time": "2018-06-27T05:33:01.388392Z"
    },
    "collapsed": true,
    "scrolled": true
   },
   "outputs": [],
   "source": [
    "from apps.lib import Sensor, Performance, Model\n",
    "import matplotlib.pyplot as plt\n",
    "import numpy as np\n",
    "from tqdm import tqdm\n",
    "\n",
    "WHO = 7\n",
    "SONG = 1\n",
    "TRAIN_ORDER = 3"
   ]
  },
  {
   "cell_type": "code",
   "execution_count": 2,
   "metadata": {
    "ExecuteTime": {
     "end_time": "2018-06-27T05:33:02.042631Z",
     "start_time": "2018-06-27T05:33:02.016330Z"
    },
    "collapsed": true
   },
   "outputs": [],
   "source": [
    "from sklearn.metrics import confusion_matrix\n",
    "import itertools\n",
    "\n",
    "def plot_confusion_matrix(cm, classes,\n",
    "                          normalize=False,\n",
    "                          title='Confusion matrix',\n",
    "                          cmap=plt.cm.Blues):\n",
    "    \"\"\"\n",
    "    This function prints and plots the confusion matrix.\n",
    "    Normalization can be applied by setting `normalize=True`.\n",
    "    \"\"\"\n",
    "    if normalize:\n",
    "        cm = cm.astype('float') / cm.sum(axis=1)[:, np.newaxis]\n",
    "        print(\"Normalized confusion matrix\")\n",
    "    else:\n",
    "        print('Confusion matrix, without normalization')\n",
    "\n",
    "    print(cm)\n",
    "\n",
    "    plt.imshow(cm, interpolation='nearest', cmap=cmap)\n",
    "    plt.title(title)\n",
    "    plt.colorbar()\n",
    "    tick_marks = np.arange(len(classes))\n",
    "    plt.xticks(tick_marks, classes, rotation=45)\n",
    "    plt.yticks(tick_marks, classes)\n",
    "\n",
    "    fmt = '.2f' if normalize else 'd'\n",
    "    thresh = cm.max() / 2.\n",
    "    for i, j in itertools.product(range(cm.shape[0]), range(cm.shape[1])):\n",
    "        plt.text(j, i, format(cm[i, j], fmt),\n",
    "                 horizontalalignment=\"center\",\n",
    "                 color=\"white\" if cm[i, j] > thresh else \"black\")\n",
    "\n",
    "    plt.tight_layout()\n",
    "    plt.ylabel('True label')\n",
    "    plt.xlabel('Predicted label')"
   ]
  },
  {
   "cell_type": "code",
   "execution_count": 3,
   "metadata": {
    "ExecuteTime": {
     "end_time": "2018-06-27T05:33:03.964616Z",
     "start_time": "2018-06-27T05:33:02.045294Z"
    }
   },
   "outputs": [
    {
     "name": "stderr",
     "output_type": "stream",
     "text": [
      "13:33:03 INFO << load arm CSV.\n",
      "13:33:03 INFO << load drummer CSV.\n"
     ]
    }
   ],
   "source": [
    "sensor_data = Sensor(verbose=1)"
   ]
  },
  {
   "cell_type": "code",
   "execution_count": 4,
   "metadata": {
    "ExecuteTime": {
     "end_time": "2018-06-27T05:33:03.972805Z",
     "start_time": "2018-06-27T05:33:03.966011Z"
    },
    "collapsed": true
   },
   "outputs": [],
   "source": [
    "def gogo(who_id, song_id, train_pf_order):\n",
    "    train_pf = Performance(sensor_data, who_id, song_id, train_pf_order)\n",
    "    \n",
    "    pfs = []\n",
    "    for pf_order in tqdm(range(1, 3 + 1)):\n",
    "        if pf_order == train_pf_order:\n",
    "            pfs.append(train_pf)\n",
    "        else:\n",
    "            pfs.append(Performance(sensor_data, 7, 1, pf_order)) \n",
    "            \n",
    "    return pfs"
   ]
  },
  {
   "cell_type": "code",
   "execution_count": 5,
   "metadata": {
    "ExecuteTime": {
     "end_time": "2018-06-27T05:34:08.994820Z",
     "start_time": "2018-06-27T05:33:03.974179Z"
    },
    "scrolled": true
   },
   "outputs": [
    {
     "name": "stderr",
     "output_type": "stream",
     "text": [
      "100%|██████████| 3/3 [00:43<00:00, 14.43s/it]\n"
     ]
    }
   ],
   "source": [
    "pfs = gogo(WHO, SONG, TRAIN_ORDER)"
   ]
  },
  {
   "cell_type": "code",
   "execution_count": 6,
   "metadata": {
    "ExecuteTime": {
     "end_time": "2018-06-27T05:34:08.998044Z",
     "start_time": "2018-06-27T05:34:08.996215Z"
    },
    "collapsed": true
   },
   "outputs": [],
   "source": [
    "# pf.plot_global_event()"
   ]
  },
  {
   "cell_type": "code",
   "execution_count": 7,
   "metadata": {
    "ExecuteTime": {
     "end_time": "2018-06-27T05:34:09.083411Z",
     "start_time": "2018-06-27T05:34:08.999226Z"
    }
   },
   "outputs": [
    {
     "name": "stdout",
     "output_type": "stream",
     "text": [
      "     hand_side       AAI           AVI      ASMA         GAI        GVI  \\\n",
      "0         left  0.337924  2.369709e-05  0.567000   13.844102   0.008371   \n",
      "1        right  0.182380  1.020610e-04  0.306667  345.820356   6.518311   \n",
      "2         left  0.359329  7.733747e-07  0.604000   11.557181   0.044843   \n",
      "3        right  0.222031  1.158585e-05  0.334500  339.084437  10.039850   \n",
      "4         left  0.353843  3.472095e-07  0.590000   14.703764   3.050871   \n",
      "5        right  0.281050  0.000000e+00  0.477000  319.681394   0.000000   \n",
      "6         left  0.325767  8.594093e-05  0.538000   20.979637   1.690784   \n",
      "7        right  0.290235  8.739277e-06  0.482000  302.535141  39.306154   \n",
      "8         left  0.302439  5.574074e-05  0.492000   22.791887   1.355889   \n",
      "9        right  0.323997  1.025405e-05  0.552000  279.527974  53.286715   \n",
      "10        left  0.278878  0.000000e+00  0.451000   16.328792   0.000000   \n",
      "11       right  0.288107  2.177126e-03  0.430000  257.478691  23.097861   \n",
      "12        left  0.266627  0.000000e+00  0.428000    9.238087   0.000000   \n",
      "13       right  0.289223  0.000000e+00  0.446000  244.492040   0.000000   \n",
      "14        left  0.278468  2.027087e-05  0.461500    4.047039   0.547172   \n",
      "15       right  0.260194  0.000000e+00  0.421000  236.014282   0.000000   \n",
      "16        left  0.299695  0.000000e+00  0.503000    8.795837   0.000000   \n",
      "17       right  0.213555  5.172694e-04  0.345000  231.186679  11.368876   \n",
      "18        left  0.286575  2.348403e-05  0.480500    6.023644   0.017199   \n",
      "19       right  0.247051  0.000000e+00  0.380000  242.836953   0.000000   \n",
      "20        left  0.287299  0.000000e+00  0.489000    6.314247   0.000000   \n",
      "21       right  0.238950  0.000000e+00  0.347000  244.657290   0.000000   \n",
      "22        left  0.302435  0.000000e+00  0.515000    4.666256   0.000000   \n",
      "23       right  0.190487  2.242441e-06  0.270500  247.862399   0.337859   \n",
      "24        left  0.290187  9.519223e-05  0.495500    3.250584   0.740674   \n",
      "25       right  0.196423  0.000000e+00  0.272000  246.250717   0.000000   \n",
      "26        left  0.300037  0.000000e+00  0.518000    3.763326   0.000000   \n",
      "27       right  0.194406  1.791091e-05  0.267500  244.700338   0.858694   \n",
      "28        left  0.304826  3.326952e-06  0.519000    8.288807   0.241903   \n",
      "29       right  0.215520  0.000000e+00  0.303000  255.878472   0.000000   \n",
      "...        ...       ...           ...       ...         ...        ...   \n",
      "3413     right  0.095168  0.000000e+00  0.157000  242.538086   0.000000   \n",
      "3414      left  0.221564  1.614205e-04  0.357000   24.508838   6.753324   \n",
      "3415     right  0.111441  4.886338e-05  0.172000  241.246571   0.153446   \n",
      "3416      left  0.216100  9.715191e-07  0.359000   20.460183   0.495221   \n",
      "3417     right  0.120553  0.000000e+00  0.199000  242.064495   0.000000   \n",
      "3418      left  0.227895  2.921287e-05  0.358500   17.186936   0.949812   \n",
      "3419     right  0.137792  8.229442e-05  0.222000  245.760316   1.511435   \n",
      "3420      left  0.232774  5.059636e-05  0.356500   15.732113   0.030102   \n",
      "3421     right  0.150479  0.000000e+00  0.250000  246.179242   0.000000   \n",
      "3422      left  0.248059  3.779463e-05  0.387000   15.402845   0.052849   \n",
      "3423     right  0.160994  1.093793e-04  0.259500  247.766099   0.314911   \n",
      "3424      left  0.266638  0.000000e+00  0.408000   13.143481   0.000000   \n",
      "3425     right  0.146663  0.000000e+00  0.238000  248.412682   0.000000   \n",
      "3426      left  0.275329  3.920777e-05  0.416000   11.896705   0.857721   \n",
      "3428      left  0.257630  1.221049e-05  0.389500    9.428895   0.097784   \n",
      "3429     right  0.185510  1.491751e-05  0.302000  250.989246  11.001404   \n",
      "3430      left  0.256136  3.258030e-05  0.412000    9.091962   0.003626   \n",
      "3431     right  0.197922  0.000000e+00  0.315000  250.822133   0.000000   \n",
      "3432      left  0.254770  7.138213e-07  0.406500    6.993554   0.079727   \n",
      "3433     right  0.195805  2.900553e-04  0.320500  253.926340   4.361773   \n",
      "3434      left  0.254444  3.442995e-05  0.402000    8.844851   1.793193   \n",
      "3435     right  0.231422  0.000000e+00  0.382000  251.325294   0.000000   \n",
      "3436      left  0.284930  0.000000e+00  0.443000    9.669236   0.000000   \n",
      "3437     right  0.234968  0.000000e+00  0.388000  253.041533   0.000000   \n",
      "3438      left  0.284347  0.000000e+00  0.451000    8.971257   0.000000   \n",
      "3439     right  0.207385  2.612492e-07  0.331000  249.076104   4.582379   \n",
      "3440      left  0.285738  0.000000e+00  0.442000    6.190725   0.000000   \n",
      "3441     right  0.199334  0.000000e+00  0.308000  249.018991   0.000000   \n",
      "3442      left  0.265884  9.599147e-07  0.415000    6.436705   0.775190   \n",
      "3443     right  0.196007  1.207116e-05  0.315000  246.536993   0.002079   \n",
      "\n",
      "            GSMA       AAE            ARE  \n",
      "0      23.342000  0.114216     191.667534  \n",
      "1     402.237333  0.033365  119598.237111  \n",
      "2      14.648500  0.129118     133.613271  \n",
      "3     381.748000  0.049309  114988.295021  \n",
      "4      24.712000  0.125205     219.251560  \n",
      "5     348.427000  0.078989  102196.193781  \n",
      "6      30.948000  0.106210     441.835951  \n",
      "7     321.921500  0.084245   91566.817451  \n",
      "8      34.058000  0.091525     520.825979  \n",
      "9     306.296500  0.104984   78189.174958  \n",
      "10     26.024000  0.077773     266.629454  \n",
      "11    278.224500  0.085183   66318.374288  \n",
      "12     15.900000  0.071090      85.342248  \n",
      "13    268.066000  0.083650   59776.357380  \n",
      "14      6.431500  0.077564      16.925695  \n",
      "15    264.365000  0.067701   55702.741509  \n",
      "16     13.283000  0.089817      77.366747  \n",
      "17    252.800000  0.046123   53458.649563  \n",
      "18      9.074500  0.082148      36.301491  \n",
      "19    262.122000  0.061034   58969.785716  \n",
      "20      9.956000  0.082541      39.869710  \n",
      "21    255.385000  0.057097   59857.189539  \n",
      "22      6.598000  0.091467      21.773946  \n",
      "23    258.346000  0.036287   61436.106655  \n",
      "24      5.214500  0.084303      11.306969  \n",
      "25    248.390000  0.038582   60639.415526  \n",
      "26      5.043000  0.090022      14.162625  \n",
      "27    248.063000  0.037811   59879.114101  \n",
      "28     12.703500  0.092922      68.946219  \n",
      "29    257.760000  0.046449   65473.792502  \n",
      "...          ...       ...            ...  \n",
      "3413  244.385000  0.009057   58824.723277  \n",
      "3414   34.709500  0.049252     607.436442  \n",
      "3415  252.018000  0.012468   58200.061581  \n",
      "3416   29.993500  0.046700     419.114290  \n",
      "3417  256.890000  0.014533   58595.219534  \n",
      "3418   26.518500  0.051965     296.340597  \n",
      "3419  263.359000  0.019069   60399.644160  \n",
      "3420   22.578500  0.054234     247.529477  \n",
      "3421  264.556000  0.022644   60604.219346  \n",
      "3422   24.707000  0.061571     237.300490  \n",
      "3423  263.381500  0.026028   61388.354523  \n",
      "3424   19.417000  0.071096     172.751081  \n",
      "3425  258.010000  0.021510   61708.860822  \n",
      "3426   16.548500  0.075845     142.389307  \n",
      "3428   14.736000  0.066386      89.001847  \n",
      "3429  258.704500  0.034429   63006.602857  \n",
      "3430   15.128500  0.065638      82.667392  \n",
      "3431  253.510000  0.039173   62911.742494  \n",
      "3432   11.627000  0.064908      48.989518  \n",
      "3433  257.941500  0.038630   64482.947814  \n",
      "3434   11.539000  0.064776      80.024579  \n",
      "3435  259.964000  0.053556   63164.403534  \n",
      "3436   14.298000  0.081185      93.494126  \n",
      "3437  255.195000  0.055210   64030.017417  \n",
      "3438   13.123000  0.080853      80.483457  \n",
      "3439  254.050500  0.043009   62043.488114  \n",
      "3440   10.520000  0.081646      38.325082  \n",
      "3441  263.679000  0.039734   62010.458013  \n",
      "3442    9.254000  0.070695      42.206356  \n",
      "3443  261.337000  0.038431   60780.490856  \n",
      "\n",
      "[3308 rows x 9 columns]\n",
      "     hand_side       AAI           AVI    ASMA         GAI         GVI  \\\n",
      "0         left  0.126511  1.107415e-05  0.2170    3.980636    4.270128   \n",
      "1        right  0.221298  0.000000e+00  0.3610  310.414843    0.000000   \n",
      "2         left  0.143812  0.000000e+00  0.2480   12.677386    0.000000   \n",
      "3        right  0.202598  0.000000e+00  0.3420  339.419731    0.000000   \n",
      "4         left  0.189491  1.269850e-05  0.3225   14.307682    1.150736   \n",
      "5        right  0.242572  0.000000e+00  0.3730  334.551795    0.000000   \n",
      "6         left  0.217078  0.000000e+00  0.3630    8.085820    0.000000   \n",
      "7        right  0.269262  1.954369e-04  0.4275  311.273506   49.956832   \n",
      "8         left  0.200082  0.000000e+00  0.3350    5.710138    0.000000   \n",
      "9        right  0.298097  0.000000e+00  0.4980  285.941315    0.000000   \n",
      "10        left  0.155882  5.367078e-05  0.2640    8.354683    0.645147   \n",
      "11       right  0.300569  0.000000e+00  0.5020  279.835204    0.000000   \n",
      "12        left  0.135897  0.000000e+00  0.2260    7.293210    0.000000   \n",
      "13       right  0.292441  6.284119e-05  0.4865  272.174129    2.190171   \n",
      "14        left  0.134361  0.000000e+00  0.2250    5.814044    0.000000   \n",
      "15       right  0.262701  0.000000e+00  0.4300  264.379277    0.000000   \n",
      "16        left  0.126190  0.000000e+00  0.2140    2.158604    0.000000   \n",
      "17       right  0.239810  0.000000e+00  0.3990  259.677720    0.000000   \n",
      "18        left  0.137329  1.497451e-04  0.2370    6.901109    0.333557   \n",
      "19       right  0.224740  4.055751e-05  0.3685  258.604377    0.549137   \n",
      "20        left  0.154188  0.000000e+00  0.2660    9.591996    0.000000   \n",
      "21       right  0.220821  0.000000e+00  0.3520  255.781546    0.000000   \n",
      "22        left  0.165801  0.000000e+00  0.2840    8.801217    0.000000   \n",
      "23       right  0.219205  3.818187e-05  0.3440  253.056230    0.625885   \n",
      "24        left  0.161574  1.482821e-06  0.2745    7.218805    0.018363   \n",
      "25       right  0.210891  0.000000e+00  0.3230  249.124185    0.000000   \n",
      "26        left  0.162015  0.000000e+00  0.2730    4.856022    0.000000   \n",
      "27       right  0.208492  0.000000e+00  0.3170  245.406733    0.000000   \n",
      "28        left  0.159313  3.669038e-07  0.2700    4.037524    0.177689   \n",
      "29       right  0.198509  0.000000e+00  0.3040  246.362831    0.000000   \n",
      "...        ...       ...           ...     ...         ...         ...   \n",
      "3414      left  0.235558  2.036443e-04  0.3630   52.792235    0.364038   \n",
      "3415     right  0.663358  1.528687e-03  1.0305  232.836090   24.602224   \n",
      "3416      left  0.278827  8.576806e-05  0.4465   31.228668   19.677009   \n",
      "3417     right  0.792841  1.625072e-04  1.0810  235.016105    0.139228   \n",
      "3418      left  0.362101  1.233514e-05  0.5885   27.288112   32.802186   \n",
      "3419     right  0.680510  1.211014e-04  0.9455  260.254052  101.345527   \n",
      "3420      left  0.303508  0.000000e+00  0.5010   28.355224    0.000000   \n",
      "3421     right  0.605613  1.192939e-03  0.9155  275.921442   10.613171   \n",
      "3422      left  0.363507  0.000000e+00  0.6150   20.478843    0.000000   \n",
      "3423     right  0.388570  2.767085e-03  0.5670  278.327031    1.075322   \n",
      "3424      left  0.301066  0.000000e+00  0.4770   28.406266    0.000000   \n",
      "3425     right  0.400687  0.000000e+00  0.4740  286.461462    0.000000   \n",
      "3426      left  0.283785  0.000000e+00  0.4620   23.573397    0.000000   \n",
      "3427     right  0.516854  0.000000e+00  0.7580  300.092229    0.000000   \n",
      "3428      left  0.231627  0.000000e+00  0.3430   27.778145    0.000000   \n",
      "3429     right  0.505961  1.199342e-04  0.7610  293.060767   44.322181   \n",
      "3430      left  0.223993  2.063336e-04  0.3620   15.129302   19.601148   \n",
      "3431     right  0.406809  1.250457e-03  0.5190  273.531444   12.605333   \n",
      "3432      left  0.207642  0.000000e+00  0.3330   15.105383    0.000000   \n",
      "3433     right  0.363907  8.219580e-05  0.5645  271.222530   81.746817   \n",
      "3434      left  0.285253  0.000000e+00  0.4410   17.383475    0.000000   \n",
      "3435     right  0.443002  0.000000e+00  0.6970  252.787433    0.000000   \n",
      "3436      left  0.171628  3.546424e-03  0.2785   54.639931  119.102606   \n",
      "3437     right  0.391982  0.000000e+00  0.6720  244.716480    0.000000   \n",
      "3438      left  0.130958  0.000000e+00  0.1960   76.320643    0.000000   \n",
      "3439     right  0.472047  1.893996e-03  0.7180  270.389311   23.875169   \n",
      "3440      left  0.336912  0.000000e+00  0.4580   75.410876    0.000000   \n",
      "3441     right  0.649420  0.000000e+00  0.9360  253.002340    0.000000   \n",
      "3442      left  0.408726  0.000000e+00  0.4930   85.955061    0.000000   \n",
      "3443     right  0.653653  0.000000e+00  0.8940  292.509995    0.000000   \n",
      "\n",
      "          GSMA       AAE            ARE  \n",
      "0       5.7410  0.016016      20.115594  \n",
      "1     348.8700  0.048973   96357.374564  \n",
      "2      16.9000  0.020682     160.716106  \n",
      "3     381.9880  0.041046  115205.754054  \n",
      "4      21.4200  0.035920     205.860497  \n",
      "5     367.6000  0.058841  111924.903446  \n",
      "6      13.0010  0.047123      65.380493  \n",
      "7     348.5455  0.072697   96941.152572  \n",
      "8       8.1470  0.040033      32.605677  \n",
      "9     314.3470  0.088862   81762.435897  \n",
      "10     12.1530  0.024353      70.445869  \n",
      "11    309.4950  0.090342   78307.741499  \n",
      "12     10.0620  0.018468      53.190914  \n",
      "13    292.9805  0.085584   74080.946833  \n",
      "14      8.9410  0.018053      33.803105  \n",
      "15    275.7720  0.069012   69896.401886  \n",
      "16      2.7380  0.015924       4.659572  \n",
      "17    268.6230  0.057509   67432.518089  \n",
      "18     11.4055  0.019009      47.958865  \n",
      "19    263.2295  0.050548   66876.772856  \n",
      "20     15.5260  0.023774      92.006386  \n",
      "21    258.1250  0.048762   65424.199403  \n",
      "22     13.5950  0.027490      77.461417  \n",
      "23    256.8085  0.048089   64038.081615  \n",
      "24     11.3980  0.026108      52.129513  \n",
      "25    257.7370  0.044475   62062.859771  \n",
      "26      8.3380  0.026249      23.580946  \n",
      "27    253.5020  0.043469   60224.464692  \n",
      "28      6.4765  0.025381      16.479286  \n",
      "29    250.6100  0.039406   60694.644358  \n",
      "...        ...       ...            ...  \n",
      "3414   63.4320  0.055691    2787.384159  \n",
      "3415  345.5510  0.441572   54237.246884  \n",
      "3416   42.0380  0.077831     994.906690  \n",
      "3417  310.2880  0.628759   55232.708896  \n",
      "3418   41.2590  0.131129     777.443267  \n",
      "3419  354.0760  0.463216   67833.517071  \n",
      "3420   44.6150  0.092117     804.018717  \n",
      "3421  355.9605  0.367960   76143.255267  \n",
      "3422   27.6260  0.132137     419.383030  \n",
      "3423  373.0695  0.153754   77467.011571  \n",
      "3424   41.8770  0.090641     806.915949  \n",
      "3425  363.0130  0.160550   82060.169371  \n",
      "3426   33.6990  0.080534     555.705029  \n",
      "3427  360.6030  0.267138   90055.346195  \n",
      "3428   47.7750  0.053651     771.625337  \n",
      "3429  323.1740  0.256116   85928.935505  \n",
      "3430   22.1440  0.050379     248.496922  \n",
      "3431  353.9315  0.166744   74832.056000  \n",
      "3432   21.3540  0.043115     228.172590  \n",
      "3433  377.8075  0.132510   73643.407728  \n",
      "3434   27.5510  0.081369     302.185213  \n",
      "3435  351.0140  0.196251   63901.486124  \n",
      "3436   89.2795  0.033003    3104.624691  \n",
      "3437  321.9080  0.153650   59886.155794  \n",
      "3438  128.9820  0.017150    5824.840620  \n",
      "3439  326.4055  0.224722   73134.254403  \n",
      "3440  125.1990  0.113510    5686.800149  \n",
      "3441  266.3350  0.421746   64010.183843  \n",
      "3442  143.9750  0.167057    7388.272521  \n",
      "3443  374.8080  0.427262   85562.096886  \n",
      "\n",
      "[3250 rows x 9 columns]\n",
      "     hand_side       AAI           AVI      ASMA         GAI         GVI  \\\n",
      "0         left  0.303396  0.000000e+00  0.495000   37.237233    0.000000   \n",
      "1        right  0.251527  9.237728e-05  0.362000    4.197606    0.393064   \n",
      "2         left  0.312027  0.000000e+00  0.527000   39.027239    0.000000   \n",
      "3        right  0.219723  5.873981e-05  0.312000    4.710803    2.035560   \n",
      "4         left  0.303014  1.452910e-05  0.506000   34.633223    0.680145   \n",
      "5        right  0.167701  3.912165e-04  0.249000   12.554437    1.047164   \n",
      "6         left  0.325286  0.000000e+00  0.551000   37.297853    0.000000   \n",
      "7        right  0.105167  2.579297e-04  0.149000   27.398464    6.003235   \n",
      "8         left  0.311835  0.000000e+00  0.529000   35.221079    0.000000   \n",
      "9        right  0.048547  1.882029e-04  0.066000   65.023929  231.976262   \n",
      "10        left  0.325382  5.271780e-05  0.548000   30.357100    3.260822   \n",
      "11       right  0.184034  1.903388e-04  0.285000  128.691021  162.291729   \n",
      "12        left  0.331557  0.000000e+00  0.554000   28.033502    0.000000   \n",
      "13       right  0.234028  8.584227e-04  0.363500  178.072793   55.185624   \n",
      "14        left  0.321741  3.220102e-05  0.527500   30.745422    1.624469   \n",
      "15       right  0.394125  1.296733e-03  0.615000  208.529607   43.813408   \n",
      "16        left  0.307182  0.000000e+00  0.505000   31.446666    0.000000   \n",
      "17       right  0.450191  7.388783e-05  0.673500  215.669276   11.570216   \n",
      "18        left  0.314428  0.000000e+00  0.529000   30.131856    0.000000   \n",
      "19       right  0.386419  0.000000e+00  0.604000  204.035575    0.000000   \n",
      "20        left  0.318002  0.000000e+00  0.527000   24.475752    0.000000   \n",
      "21       right  0.278587  5.139522e-03  0.432000  158.786471  117.639539   \n",
      "22        left  0.324721  0.000000e+00  0.550000   18.287746    0.000000   \n",
      "23       right  0.282407  3.893461e-03  0.447000  107.690294  332.846150   \n",
      "24        left  0.317764  4.009099e-05  0.523000   11.022466    0.077932   \n",
      "25       right  0.457543  0.000000e+00  0.700000   67.112390    0.000000   \n",
      "26        left  0.296469  0.000000e+00  0.492000   11.316356    0.000000   \n",
      "27       right  0.500056  1.117843e-04  0.738000   50.452819   41.771587   \n",
      "28        left  0.270618  5.338383e-05  0.439500    6.201564    0.059191   \n",
      "29       right  0.467039  0.000000e+00  0.769000   45.676124    0.000000   \n",
      "...        ...       ...           ...       ...         ...         ...   \n",
      "3413     right  0.398082  2.415939e-06  0.688500  179.114889  226.715588   \n",
      "3414      left  0.121211  1.886739e-05  0.169000   14.345587    0.041525   \n",
      "3415     right  0.401274  0.000000e+00  0.665000  215.178425    0.000000   \n",
      "3416      left  0.126446  6.111486e-05  0.147667   18.273902    1.617588   \n",
      "3417     right  0.402373  3.106726e-05  0.654500  214.558480    0.032840   \n",
      "3418      left  0.141579  2.480928e-06  0.178000   24.292722    0.786792   \n",
      "3419     right  0.359924  0.000000e+00  0.611000  192.476606    0.000000   \n",
      "3420      left  0.139966  2.381548e-06  0.193000   28.006519    0.872944   \n",
      "3421     right  0.348201  1.345317e-03  0.594000  154.962473  362.288732   \n",
      "3422      left  0.155836  5.736748e-06  0.199500   31.989617    0.510474   \n",
      "3423     right  0.355449  0.000000e+00  0.548000  123.068090    0.000000   \n",
      "3424      left  0.161526  4.449919e-05  0.200000   36.408878    1.996132   \n",
      "3425     right  0.366203  0.000000e+00  0.559000   95.376347    0.000000   \n",
      "3426      left  0.196008  0.000000e+00  0.235000   38.409460    0.000000   \n",
      "3427     right  0.508615  9.960121e-05  0.788000   76.827429  191.944927   \n",
      "3428      left  0.231467  0.000000e+00  0.303000   38.385320    0.000000   \n",
      "3429     right  0.512473  0.000000e+00  0.815000   13.228604    0.000000   \n",
      "3430      left  0.240805  0.000000e+00  0.327000   37.623596    0.000000   \n",
      "3432      left  0.237029  4.193871e-07  0.319000   36.440469    0.007480   \n",
      "3433     right  0.555583  1.590714e-03  0.899500   26.681054   60.271953   \n",
      "3434      left  0.244697  4.352452e-06  0.338000   33.319298    1.968753   \n",
      "3435     right  0.411586  0.000000e+00  0.681000   23.905724    0.000000   \n",
      "3436      left  0.259392  5.103161e-05  0.361000   31.516545    0.028999   \n",
      "3437     right  0.438412  0.000000e+00  0.731000   24.930787    0.000000   \n",
      "3438      left  0.291261  7.287481e-05  0.410000   31.368961    0.216165   \n",
      "3439     right  0.474664  0.000000e+00  0.786000   20.370617    0.000000   \n",
      "3440      left  0.307480  3.305149e-06  0.431000   27.837793    1.087634   \n",
      "3441     right  0.488277  1.611015e-04  0.793000   20.294464   12.910719   \n",
      "3442      left  0.312474  0.000000e+00  0.456000   25.287298    0.000000   \n",
      "3443     right  0.439375  0.000000e+00  0.710000   19.999526    0.000000   \n",
      "\n",
      "            GSMA       AAE           ARE  \n",
      "0      49.354000  0.092049   1386.611500  \n",
      "1       5.379000  0.063358     18.012963  \n",
      "2      49.461000  0.097361   1523.125373  \n",
      "3       6.935000  0.048337     24.227228  \n",
      "4      46.642000  0.091832   1200.140291  \n",
      "5      17.773000  0.028515    158.661050  \n",
      "6      47.501000  0.105811   1391.129819  \n",
      "7      40.455500  0.011318    756.679087  \n",
      "8      50.949000  0.097241   1240.524393  \n",
      "9      91.049500  0.002545   4460.087613  \n",
      "10     44.582500  0.105926    924.814313  \n",
      "11    175.164000  0.034059  16723.670680  \n",
      "12     34.607000  0.109930    785.877245  \n",
      "13    242.764000  0.055628  31765.105275  \n",
      "14     39.554000  0.103550    946.905423  \n",
      "15    286.213500  0.156631  43528.410501  \n",
      "16     45.814000  0.094361    988.892798  \n",
      "17    303.311000  0.202745  46524.806798  \n",
      "18     44.502000  0.098865    907.928726  \n",
      "19    316.056000  0.149320  41630.515976  \n",
      "20     37.536000  0.101125    599.062446  \n",
      "21    254.288000  0.082750  25330.783063  \n",
      "22     26.206000  0.105444    334.441646  \n",
      "23    182.953000  0.083647  11930.045515  \n",
      "24     17.620000  0.101014    121.572686  \n",
      "25     93.934000  0.209346   4504.072836  \n",
      "26     16.175000  0.087894    128.059917  \n",
      "27     72.410000  0.250168   2587.258547  \n",
      "28      8.934500  0.073288     38.518582  \n",
      "29     65.032000  0.218125   2086.308322  \n",
      "...          ...       ...           ...  \n",
      "3413  259.964000  0.158471  32308.858903  \n",
      "3414   16.812000  0.014711    205.837377  \n",
      "3415  317.634000  0.161021  46301.754546  \n",
      "3416   23.778333  0.016050    335.553070  \n",
      "3417  314.208000  0.161935  46035.373999  \n",
      "3418   36.800500  0.020047    590.923142  \n",
      "3419  277.321000  0.129545  37047.243843  \n",
      "3420   43.742500  0.019593    785.238043  \n",
      "3421  211.200500  0.122589  24375.656914  \n",
      "3422   49.309000  0.024291   1023.846060  \n",
      "3423  126.289000  0.126344  15145.754693  \n",
      "3424   57.929500  0.026135   1327.602549  \n",
      "3425  126.906000  0.134105   9096.647508  \n",
      "3426   60.486000  0.038419   1475.286638  \n",
      "3427  119.094500  0.258789   6094.398782  \n",
      "3428   60.242000  0.053577   1473.432756  \n",
      "3429   20.775000  0.262629    174.995963  \n",
      "3430   57.984000  0.057987   1415.534978  \n",
      "3432   57.994500  0.056183   1327.915269  \n",
      "3433   41.043000  0.310263    772.150617  \n",
      "3434   51.884000  0.059881   1112.144361  \n",
      "3435   33.402000  0.169403    571.483646  \n",
      "3436   47.172500  0.067335    993.321601  \n",
      "3437   33.372000  0.192205    621.544136  \n",
      "3438   39.988000  0.084906    984.227859  \n",
      "3439   29.397000  0.225306    414.962027  \n",
      "3440   36.883500  0.094547    776.030343  \n",
      "3441   29.267000  0.238576    424.775984  \n",
      "3442   34.225000  0.097640    639.447453  \n",
      "3443   30.358000  0.193050    399.981030  \n",
      "\n",
      "[3312 rows x 9 columns]\n"
     ]
    }
   ],
   "source": [
    "for i in range(len(pfs)):\n",
    "    print(pfs[i].primitive_df)"
   ]
  },
  {
   "cell_type": "code",
   "execution_count": 8,
   "metadata": {
    "ExecuteTime": {
     "end_time": "2018-06-27T05:35:10.045944Z",
     "start_time": "2018-06-27T05:34:09.086071Z"
    }
   },
   "outputs": [
    {
     "name": "stderr",
     "output_type": "stream",
     "text": [
      "100%|██████████| 361/361 [01:00<00:00,  5.99it/s]\n"
     ]
    }
   ],
   "source": [
    "model = Model(k_centroid=50)\n",
    "model.fit(pfs[TRAIN_ORDER - 1])"
   ]
  },
  {
   "cell_type": "code",
   "execution_count": 9,
   "metadata": {
    "ExecuteTime": {
     "end_time": "2018-06-27T05:35:10.051617Z",
     "start_time": "2018-06-27T05:35:10.047445Z"
    },
    "collapsed": true
   },
   "outputs": [],
   "source": [
    "def cutstom_output_cnf_matrix(y, pred_y):\n",
    "    cnf_matrix = confusion_matrix(y, pred_y)\n",
    "    \n",
    "    # Plot normalized confusion matrix\n",
    "    plt.figure(figsize=(10, 10))\n",
    "    plot_confusion_matrix(cnf_matrix, classes=[0, 1, 2, 3, 5, 6], normalize=True,\n",
    "                          title='Normalized confusion matrix')\n",
    "    plt.show()"
   ]
  },
  {
   "cell_type": "code",
   "execution_count": 10,
   "metadata": {
    "ExecuteTime": {
     "end_time": "2018-06-27T05:38:11.365911Z",
     "start_time": "2018-06-27T05:35:10.052747Z"
    },
    "scrolled": false
   },
   "outputs": [
    {
     "name": "stdout",
     "output_type": "stream",
     "text": [
      "predicting 1 performance\n"
     ]
    },
    {
     "name": "stderr",
     "output_type": "stream",
     "text": [
      "100%|██████████| 361/361 [01:00<00:00,  5.99it/s]\n",
      "13:36:10 DEBUG << findfont: Matching :family=sans-serif:style=normal:variant=normal:weight=normal:stretch=normal:size=12.0 to DejaVu Sans ('/usr/bin/anaconda3/lib/python3.6/site-packages/matplotlib/mpl-data/fonts/ttf/DejaVuSans.ttf') with score of 0.050000\n",
      "13:36:10 DEBUG << findfont: Matching :family=sans-serif:style=normal:variant=normal:weight=normal:stretch=normal:size=10.0 to DejaVu Sans ('/usr/bin/anaconda3/lib/python3.6/site-packages/matplotlib/mpl-data/fonts/ttf/DejaVuSans.ttf') with score of 0.050000\n"
     ]
    },
    {
     "name": "stdout",
     "output_type": "stream",
     "text": [
      "============ prediction arm ============\n",
      "Normalized confusion matrix\n",
      "[[0.87916667 0.05208333 0.01041667 0.00208333 0.05625    0.        ]\n",
      " [0.9025974  0.04545455 0.01298701 0.         0.03896104 0.        ]\n",
      " [1.         0.         0.         0.         0.         0.        ]\n",
      " [0.5        0.0625     0.0625     0.         0.375      0.        ]\n",
      " [0.12       0.         0.02       0.         0.8        0.06      ]\n",
      " [0.2        0.         0.         0.         0.5        0.3       ]]\n"
     ]
    },
    {
     "data": {
      "image/png": "[encoded data removed]",
      "text/plain": [
       "<Figure size 720x720 with 2 Axes>"
      ]
     },
     "metadata": {},
     "output_type": "display_data"
    },
    {
     "name": "stdout",
     "output_type": "stream",
     "text": [
      "predicting 2 performance\n"
     ]
    },
    {
     "name": "stderr",
     "output_type": "stream",
     "text": [
      "100%|██████████| 361/361 [00:59<00:00,  6.03it/s]\n"
     ]
    },
    {
     "name": "stdout",
     "output_type": "stream",
     "text": [
      "============ prediction arm ============\n",
      "Normalized confusion matrix\n",
      "[[0.78333333 0.10625    0.00625    0.00416667 0.1        0.        ]\n",
      " [0.7987013  0.11038961 0.00649351 0.         0.08441558 0.        ]\n",
      " [1.         0.         0.         0.         0.         0.        ]\n",
      " [0.6875     0.0625     0.         0.         0.25       0.        ]\n",
      " [0.08       0.         0.         0.         0.92       0.        ]\n",
      " [0.         0.         0.         0.         0.5        0.5       ]]\n"
     ]
    },
    {
     "data": {
      "image/png": "[encoded data removed]",
      "text/plain": [
       "<Figure size 720x720 with 2 Axes>"
      ]
     },
     "metadata": {},
     "output_type": "display_data"
    },
    {
     "name": "stdout",
     "output_type": "stream",
     "text": [
      "predicting 3 performance\n"
     ]
    },
    {
     "name": "stderr",
     "output_type": "stream",
     "text": [
      "100%|██████████| 361/361 [01:00<00:00,  6.00it/s]\n"
     ]
    },
    {
     "name": "stdout",
     "output_type": "stream",
     "text": [
      "============ prediction arm ============\n",
      "Normalized confusion matrix\n",
      "[[1.         0.         0.         0.         0.         0.        ]\n",
      " [0.14935065 0.85064935 0.         0.         0.         0.        ]\n",
      " [0.16666667 0.         0.83333333 0.         0.         0.        ]\n",
      " [0.         0.         0.         1.         0.         0.        ]\n",
      " [0.         0.         0.         0.         1.         0.        ]\n",
      " [0.         0.         0.         0.         0.         1.        ]]\n"
     ]
    },
    {
     "data": {
      "image/png": "[encoded data removed]",
      "text/plain": [
       "<Figure size 720x720 with 2 Axes>"
      ]
     },
     "metadata": {},
     "output_type": "display_data"
    }
   ],
   "source": [
    "for od in range(len(pfs)):\n",
    "    print('predicting %d performance' % (od + 1))\n",
    "    pred_y, y = model.predict(pfs[od])\n",
    "    \n",
    "    print('============ prediction arm ============')\n",
    "    cutstom_output_cnf_matrix(y, pred_y)"
   ]
  },
  {
   "cell_type": "code",
   "execution_count": null,
   "metadata": {
    "collapsed": true
   },
   "outputs": [],
   "source": []
  }
 ],
 "metadata": {
  "kernelspec": {
   "display_name": "Python 3",
   "language": "python",
   "name": "python3"
  },
  "language_info": {
   "codemirror_mode": {
    "name": "ipython",
    "version": 3
   },
   "file_extension": ".py",
   "mimetype": "text/x-python",
   "name": "python",
   "nbconvert_exporter": "python",
   "pygments_lexer": "ipython3",
   "version": "3.6.3"
  },
  "toc": {
   "nav_menu": {},
   "number_sections": true,
   "sideBar": true,
   "skip_h1_title": false,
   "toc_cell": true,
   "toc_position": {},
   "toc_section_display": "block",
   "toc_window_display": false
  },
  "varInspector": {
   "cols": {
    "lenName": 16,
    "lenType": 16,
    "lenVar": 40
   },
   "kernels_config": {
    "python": {
     "delete_cmd_postfix": "",
     "delete_cmd_prefix": "del ",
     "library": "var_list.py",
     "varRefreshCmd": "print(var_dic_list())"
    },
    "r": {
     "delete_cmd_postfix": ") ",
     "delete_cmd_prefix": "rm(",
     "library": "var_list.r",
     "varRefreshCmd": "cat(var_dic_list()) "
    }
   },
   "types_to_exclude": [
    "module",
    "function",
    "builtin_function_or_method",
    "instance",
    "_Feature"
   ],
   "window_display": false
  }
 },
 "nbformat": 4,
 "nbformat_minor": 2
}
