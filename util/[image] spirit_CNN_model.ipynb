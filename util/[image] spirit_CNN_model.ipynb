{
 "cells": [
  {
   "cell_type": "markdown",
   "metadata": {
    "toc": true
   },
   "source": [
    "<h1>Table of Contents<span class=\"tocSkip\"></span></h1>\n",
    "<div class=\"toc\"><ul class=\"toc-item\"></ul></div>"
   ]
  },
  {
   "cell_type": "code",
   "execution_count": 1,
   "metadata": {
    "ExecuteTime": {
     "end_time": "2019-01-25T08:47:00.971532Z",
     "start_time": "2019-01-25T08:47:00.198776Z"
    },
    "scrolled": true
   },
   "outputs": [
    {
     "name": "stderr",
     "output_type": "stream",
     "text": [
      "Using TensorFlow backend.\n"
     ]
    }
   ],
   "source": [
    "from io import BytesIO\n",
    "\n",
    "import os\n",
    "import numpy as np\n",
    "import matplotlib.pyplot as plt\n",
    "\n",
    "import keras\n",
    "from keras.layers.core import Dense, Dropout, Activation\n",
    "from keras.utils import np_utils\n",
    "from keras.datasets import mnist\n",
    "from keras.models import Sequential\n",
    "from keras.layers import Dense, Dropout, Flatten\n",
    "from keras.layers import Conv2D, MaxPooling2D\n",
    "from keras.preprocessing.image import random_shift, img_to_array\n",
    "import PIL.ImageOps\n",
    "\n",
    "from skimage.io import imshow, imread\n",
    "from skimage.color import rgb2grey\n",
    "import skimage\n",
    "\n",
    "os.environ[\"CUDA_VISIBLE_DEVICES\"]=\"-1\""
   ]
  },
  {
   "cell_type": "code",
   "execution_count": 2,
   "metadata": {
    "ExecuteTime": {
     "end_time": "2019-01-25T08:47:00.974664Z",
     "start_time": "2019-01-25T08:47:00.972644Z"
    }
   },
   "outputs": [],
   "source": [
    "TRAIN_DIRECTORY_PATH = '../data/spirit_dataset/train_set/'\n",
    "TEST_DIRECTORY_PATH = '../data/spirit_dataset/test_set/'\n",
    "\n",
    "NUM_CLASSES = 2\n",
    "IMG_ROWS, IMG_COLS = 45, 45"
   ]
  },
  {
   "cell_type": "code",
   "execution_count": 3,
   "metadata": {
    "ExecuteTime": {
     "end_time": "2019-01-25T08:47:02.387002Z",
     "start_time": "2019-01-25T08:47:00.975815Z"
    }
   },
   "outputs": [
    {
     "name": "stdout",
     "output_type": "stream",
     "text": [
      "x_train shape: (3231, 45, 45, 1)\n",
      "3231 train samples\n",
      "462 test samples\n"
     ]
    }
   ],
   "source": [
    "x_train = []\n",
    "x_test = []\n",
    "y_train = []\n",
    "y_test = []\n",
    "\n",
    "for digit in range(NUM_CLASSES):\n",
    "    directory = TRAIN_DIRECTORY_PATH + str(digit) + '/'\n",
    "    files = next(os.walk(directory))[2]\n",
    "    \n",
    "    for filename in files:\n",
    "        img = imread(directory + filename)\n",
    "        img = skimage.img_as_float(img)\n",
    "        imgs = [\n",
    "            random_shift(img, wrg=0.1, hrg=0.3, row_axis=0,\n",
    "                         col_axis=1, channel_axis=2, fill_mode='nearest') * 255\n",
    "            for _ in range(3)]\n",
    "        \n",
    "        for img_ in imgs:\n",
    "            shifted_img = img_.astype(np.uint8)\n",
    "            shifted_img = rgb2grey(shifted_img)\n",
    "            x_train.append(shifted_img)\n",
    "            y_train.append(digit)\n",
    "\n",
    "for digit in range(NUM_CLASSES):\n",
    "    directory = TEST_DIRECTORY_PATH + str(digit) + '/'\n",
    "    files = next(os.walk(directory))[2]\n",
    "    \n",
    "    for filename in files:\n",
    "        img = imread(directory + filename)\n",
    "        img = skimage.img_as_float(img)\n",
    "        imgs = [\n",
    "            random_shift(img, wrg=0.1, hrg=0.3, row_axis=0,\n",
    "                         col_axis=1, channel_axis=2, fill_mode='nearest') * 255\n",
    "            for _ in range(3)]\n",
    "        \n",
    "        for img_ in imgs:\n",
    "            shifted_img = img_.astype(np.uint8)\n",
    "            shifted_img = rgb2grey(shifted_img)\n",
    "            x_test.append(shifted_img)\n",
    "            y_test.append(digit)\n",
    "        \n",
    "x_train = np.asarray(x_train)\n",
    "x_train = x_train.reshape(x_train.shape[0], IMG_ROWS, IMG_COLS, 1)\n",
    "\n",
    "x_test = np.asarray(x_test)\n",
    "x_test = x_test.reshape(x_test.shape[0], IMG_ROWS, IMG_COLS, 1)\n",
    "\n",
    "input_shape = (IMG_ROWS, IMG_COLS, 1)\n",
    "\n",
    "print('x_train shape:', x_train.shape)\n",
    "print(x_train.shape[0], 'train samples')\n",
    "print(x_test.shape[0], 'test samples')\n",
    "\n",
    "y_train = keras.utils.to_categorical(y_train, NUM_CLASSES)\n",
    "y_test = keras.utils.to_categorical(y_test, NUM_CLASSES)"
   ]
  },
  {
   "cell_type": "code",
   "execution_count": null,
   "metadata": {
    "ExecuteTime": {
     "start_time": "2019-01-25T08:47:00.207Z"
    }
   },
   "outputs": [],
   "source": [
    "model = Sequential()\n",
    "model.add(\n",
    "    Conv2D(32, kernel_size=(3, 3), activation='relu', input_shape=input_shape))\n",
    "model.add(Conv2D(64, (3, 3), activation='relu'))\n",
    "model.add(MaxPooling2D(pool_size=(2, 2)))\n",
    "model.add(Dropout(0.25))\n",
    "model.add(Flatten())\n",
    "model.add(Dense(128, activation='relu'))\n",
    "model.add(Dropout(0.5))\n",
    "model.add(Dense(NUM_CLASSES, activation='softmax'))"
   ]
  },
  {
   "cell_type": "code",
   "execution_count": null,
   "metadata": {
    "ExecuteTime": {
     "start_time": "2019-01-25T08:47:00.209Z"
    }
   },
   "outputs": [],
   "source": [
    "model.compile(\n",
    "    loss=keras.losses.categorical_crossentropy,\n",
    "    optimizer=keras.optimizers.Adadelta(),\n",
    "    metrics=['accuracy'])"
   ]
  },
  {
   "cell_type": "code",
   "execution_count": null,
   "metadata": {
    "ExecuteTime": {
     "start_time": "2019-01-25T08:47:00.210Z"
    },
    "scrolled": true
   },
   "outputs": [
    {
     "name": "stdout",
     "output_type": "stream",
     "text": [
      "Train on 3231 samples, validate on 462 samples\n",
      "Epoch 1/100\n",
      "3231/3231 [==============================] - 3s 1ms/step - loss: 0.4985 - acc: 0.7694 - val_loss: 0.3424 - val_acc: 0.8593\n",
      "Epoch 2/100\n",
      "3231/3231 [==============================] - 3s 906us/step - loss: 0.2181 - acc: 0.9109 - val_loss: 0.1299 - val_acc: 0.9351\n",
      "Epoch 3/100\n",
      "3231/3231 [==============================] - 3s 905us/step - loss: 0.1093 - acc: 0.9656 - val_loss: 0.1299 - val_acc: 0.9545\n",
      "Epoch 4/100\n",
      "3231/3231 [==============================] - 3s 903us/step - loss: 0.0448 - acc: 0.9882 - val_loss: 0.0227 - val_acc: 0.9935\n",
      "Epoch 5/100\n",
      "3231/3231 [==============================] - 3s 906us/step - loss: 0.0557 - acc: 0.9848 - val_loss: 0.0162 - val_acc: 0.9957\n",
      "Epoch 6/100\n",
      "3231/3231 [==============================] - 3s 897us/step - loss: 0.0206 - acc: 0.9954 - val_loss: 0.0117 - val_acc: 0.9978\n",
      "Epoch 7/100\n",
      "3231/3231 [==============================] - 3s 905us/step - loss: 0.0129 - acc: 0.9978 - val_loss: 0.0100 - val_acc: 0.9978\n",
      "Epoch 8/100\n",
      "3231/3231 [==============================] - 3s 908us/step - loss: 0.0102 - acc: 0.9978 - val_loss: 0.0084 - val_acc: 1.0000\n",
      "Epoch 9/100\n",
      "3231/3231 [==============================] - 3s 903us/step - loss: 0.0064 - acc: 0.9988 - val_loss: 0.0042 - val_acc: 0.9978\n",
      "Epoch 10/100\n",
      "3231/3231 [==============================] - 3s 899us/step - loss: 0.0053 - acc: 0.9988 - val_loss: 0.0038 - val_acc: 0.9978\n",
      "Epoch 11/100\n",
      "3231/3231 [==============================] - 3s 909us/step - loss: 0.0038 - acc: 0.9994 - val_loss: 0.0023 - val_acc: 1.0000\n",
      "Epoch 12/100\n",
      "3231/3231 [==============================] - 3s 900us/step - loss: 0.0026 - acc: 0.9994 - val_loss: 0.0067 - val_acc: 0.9978\n",
      "Epoch 13/100\n",
      "3231/3231 [==============================] - 3s 900us/step - loss: 0.0030 - acc: 0.9994 - val_loss: 0.0016 - val_acc: 1.0000\n",
      "Epoch 14/100\n",
      "3231/3231 [==============================] - 3s 907us/step - loss: 0.0023 - acc: 0.9997 - val_loss: 0.0012 - val_acc: 1.0000\n",
      "Epoch 15/100\n",
      "3231/3231 [==============================] - 3s 902us/step - loss: 0.0010 - acc: 1.0000 - val_loss: 8.0470e-04 - val_acc: 1.0000\n",
      "Epoch 16/100\n",
      "3231/3231 [==============================] - 3s 908us/step - loss: 0.0020 - acc: 0.9997 - val_loss: 9.0549e-04 - val_acc: 1.0000\n",
      "Epoch 17/100\n",
      "3231/3231 [==============================] - 3s 905us/step - loss: 8.1962e-04 - acc: 1.0000 - val_loss: 5.2308e-04 - val_acc: 1.0000\n",
      "Epoch 18/100\n",
      "3231/3231 [==============================] - 3s 908us/step - loss: 9.3884e-04 - acc: 0.9997 - val_loss: 7.3026e-04 - val_acc: 1.0000\n",
      "Epoch 19/100\n",
      "3231/3231 [==============================] - 3s 907us/step - loss: 8.6694e-04 - acc: 1.0000 - val_loss: 3.0730e-04 - val_acc: 1.0000\n",
      "Epoch 20/100\n",
      "3231/3231 [==============================] - 3s 914us/step - loss: 6.6701e-04 - acc: 1.0000 - val_loss: 5.4487e-04 - val_acc: 1.0000\n",
      "Epoch 21/100\n",
      "3231/3231 [==============================] - 3s 904us/step - loss: 8.2778e-04 - acc: 1.0000 - val_loss: 2.5809e-04 - val_acc: 1.0000\n",
      "Epoch 22/100\n",
      "3231/3231 [==============================] - 3s 900us/step - loss: 6.8905e-04 - acc: 1.0000 - val_loss: 3.4700e-04 - val_acc: 1.0000\n",
      "Epoch 23/100\n",
      "3231/3231 [==============================] - 3s 907us/step - loss: 3.4927e-04 - acc: 1.0000 - val_loss: 2.6905e-04 - val_acc: 1.0000\n",
      "Epoch 24/100\n",
      "3231/3231 [==============================] - 3s 902us/step - loss: 3.1440e-04 - acc: 1.0000 - val_loss: 1.5821e-04 - val_acc: 1.0000\n",
      "Epoch 25/100\n",
      "3231/3231 [==============================] - 3s 905us/step - loss: 6.7797e-04 - acc: 0.9997 - val_loss: 1.3979e-04 - val_acc: 1.0000\n",
      "Epoch 26/100\n",
      "3231/3231 [==============================] - 3s 898us/step - loss: 3.1127e-04 - acc: 1.0000 - val_loss: 1.5149e-04 - val_acc: 1.0000\n",
      "Epoch 27/100\n",
      "3231/3231 [==============================] - 3s 901us/step - loss: 2.2569e-04 - acc: 1.0000 - val_loss: 9.7975e-05 - val_acc: 1.0000\n",
      "Epoch 28/100\n",
      "3231/3231 [==============================] - 3s 910us/step - loss: 6.3032e-04 - acc: 1.0000 - val_loss: 1.0416e-04 - val_acc: 1.0000\n",
      "Epoch 29/100\n",
      "3231/3231 [==============================] - 3s 907us/step - loss: 1.4589e-04 - acc: 1.0000 - val_loss: 7.8017e-05 - val_acc: 1.0000\n",
      "Epoch 30/100\n",
      "3231/3231 [==============================] - 3s 906us/step - loss: 1.8231e-04 - acc: 1.0000 - val_loss: 7.5344e-05 - val_acc: 1.0000\n",
      "Epoch 31/100\n",
      "3231/3231 [==============================] - 3s 906us/step - loss: 8.6553e-04 - acc: 0.9997 - val_loss: 9.9072e-05 - val_acc: 1.0000\n",
      "Epoch 32/100\n",
      "3231/3231 [==============================] - 3s 905us/step - loss: 4.5813e-04 - acc: 1.0000 - val_loss: 1.6082e-04 - val_acc: 1.0000\n",
      "Epoch 33/100\n",
      "3231/3231 [==============================] - 3s 902us/step - loss: 2.0909e-04 - acc: 1.0000 - val_loss: 5.5522e-05 - val_acc: 1.0000\n",
      "Epoch 34/100\n",
      "3231/3231 [==============================] - 3s 902us/step - loss: 2.0826e-04 - acc: 1.0000 - val_loss: 7.1603e-05 - val_acc: 1.0000\n",
      "Epoch 35/100\n",
      "3231/3231 [==============================] - 3s 909us/step - loss: 1.4101e-04 - acc: 1.0000 - val_loss: 5.6636e-05 - val_acc: 1.0000\n",
      "Epoch 36/100\n",
      "3231/3231 [==============================] - 3s 907us/step - loss: 8.3822e-05 - acc: 1.0000 - val_loss: 4.5862e-05 - val_acc: 1.0000\n",
      "Epoch 37/100\n",
      "3231/3231 [==============================] - 3s 906us/step - loss: 3.2096e-04 - acc: 1.0000 - val_loss: 7.3068e-05 - val_acc: 1.0000\n",
      "Epoch 38/100\n",
      "3231/3231 [==============================] - 3s 907us/step - loss: 1.3919e-04 - acc: 1.0000 - val_loss: 1.0533e-04 - val_acc: 1.0000\n",
      "Epoch 39/100\n",
      "3231/3231 [==============================] - 3s 906us/step - loss: 5.6190e-05 - acc: 1.0000 - val_loss: 1.0138e-04 - val_acc: 1.0000\n",
      "Epoch 40/100\n",
      "3231/3231 [==============================] - 3s 902us/step - loss: 1.0605e-04 - acc: 1.0000 - val_loss: 7.3610e-05 - val_acc: 1.0000\n",
      "Epoch 41/100\n",
      "3231/3231 [==============================] - 3s 907us/step - loss: 8.3660e-05 - acc: 1.0000 - val_loss: 4.1015e-05 - val_acc: 1.0000\n",
      "Epoch 42/100\n",
      "3231/3231 [==============================] - 3s 906us/step - loss: 8.9171e-05 - acc: 1.0000 - val_loss: 4.1156e-05 - val_acc: 1.0000\n",
      "Epoch 43/100\n",
      "3231/3231 [==============================] - 3s 909us/step - loss: 7.9458e-05 - acc: 1.0000 - val_loss: 3.7051e-05 - val_acc: 1.0000\n",
      "Epoch 44/100\n",
      "3231/3231 [==============================] - 3s 908us/step - loss: 7.6988e-05 - acc: 1.0000 - val_loss: 1.5337e-04 - val_acc: 1.0000\n",
      "Epoch 45/100\n",
      "3231/3231 [==============================] - 3s 906us/step - loss: 1.2513e-04 - acc: 1.0000 - val_loss: 4.8618e-05 - val_acc: 1.0000\n",
      "Epoch 46/100\n",
      "3231/3231 [==============================] - 3s 908us/step - loss: 7.6467e-05 - acc: 1.0000 - val_loss: 0.0010 - val_acc: 1.0000\n",
      "Epoch 47/100\n",
      "3231/3231 [==============================] - 3s 910us/step - loss: 2.1374e-04 - acc: 1.0000 - val_loss: 6.2536e-05 - val_acc: 1.0000\n",
      "Epoch 48/100\n",
      "3231/3231 [==============================] - 3s 908us/step - loss: 6.6307e-05 - acc: 1.0000 - val_loss: 3.4640e-05 - val_acc: 1.0000\n",
      "Epoch 49/100\n",
      "3231/3231 [==============================] - 3s 910us/step - loss: 2.2983e-04 - acc: 1.0000 - val_loss: 3.6008e-05 - val_acc: 1.0000\n",
      "Epoch 50/100\n",
      "3231/3231 [==============================] - 3s 902us/step - loss: 6.2276e-05 - acc: 1.0000 - val_loss: 6.5529e-05 - val_acc: 1.0000\n",
      "Epoch 51/100\n",
      "3231/3231 [==============================] - 3s 907us/step - loss: 6.8062e-05 - acc: 1.0000 - val_loss: 2.1997e-05 - val_acc: 1.0000\n",
      "Epoch 52/100\n",
      "3231/3231 [==============================] - 3s 903us/step - loss: 1.2410e-04 - acc: 1.0000 - val_loss: 2.9358e-05 - val_acc: 1.0000\n",
      "Epoch 53/100\n",
      "3231/3231 [==============================] - 3s 902us/step - loss: 2.6515e-05 - acc: 1.0000 - val_loss: 1.9674e-05 - val_acc: 1.0000\n",
      "Epoch 54/100\n",
      "3231/3231 [==============================] - 3s 913us/step - loss: 5.0671e-05 - acc: 1.0000 - val_loss: 2.5593e-05 - val_acc: 1.0000\n",
      "Epoch 55/100\n",
      "3231/3231 [==============================] - 3s 905us/step - loss: 5.3247e-05 - acc: 1.0000 - val_loss: 1.6329e-05 - val_acc: 1.0000\n",
      "Epoch 56/100\n",
      "3231/3231 [==============================] - 3s 904us/step - loss: 9.6603e-05 - acc: 1.0000 - val_loss: 3.9420e-05 - val_acc: 1.0000\n",
      "Epoch 57/100\n",
      "3231/3231 [==============================] - 3s 914us/step - loss: 4.0067e-05 - acc: 1.0000 - val_loss: 2.1136e-05 - val_acc: 1.0000\n"
     ]
    },
    {
     "name": "stdout",
     "output_type": "stream",
     "text": [
      "Epoch 58/100\n",
      "3231/3231 [==============================] - 3s 911us/step - loss: 9.1172e-05 - acc: 1.0000 - val_loss: 1.5480e-05 - val_acc: 1.0000\n",
      "Epoch 59/100\n",
      "3231/3231 [==============================] - 3s 906us/step - loss: 3.3416e-05 - acc: 1.0000 - val_loss: 1.4340e-05 - val_acc: 1.0000\n",
      "Epoch 60/100\n",
      "3231/3231 [==============================] - 3s 906us/step - loss: 3.0663e-05 - acc: 1.0000 - val_loss: 2.7004e-05 - val_acc: 1.0000\n",
      "Epoch 61/100\n",
      "3231/3231 [==============================] - 3s 907us/step - loss: 2.0468e-05 - acc: 1.0000 - val_loss: 9.7777e-06 - val_acc: 1.0000\n",
      "Epoch 62/100\n",
      "3231/3231 [==============================] - 3s 907us/step - loss: 3.2441e-05 - acc: 1.0000 - val_loss: 9.9051e-06 - val_acc: 1.0000\n",
      "Epoch 63/100\n",
      "3231/3231 [==============================] - 3s 906us/step - loss: 1.7646e-05 - acc: 1.0000 - val_loss: 1.3765e-05 - val_acc: 1.0000\n",
      "Epoch 64/100\n",
      "3231/3231 [==============================] - 3s 911us/step - loss: 9.3498e-05 - acc: 1.0000 - val_loss: 1.6983e-05 - val_acc: 1.0000\n",
      "Epoch 65/100\n",
      "3231/3231 [==============================] - 3s 908us/step - loss: 5.9226e-05 - acc: 1.0000 - val_loss: 4.8000e-04 - val_acc: 1.0000\n",
      "Epoch 66/100\n",
      "3231/3231 [==============================] - 3s 911us/step - loss: 2.4364e-04 - acc: 1.0000 - val_loss: 2.6805e-05 - val_acc: 1.0000\n",
      "Epoch 67/100\n",
      "3231/3231 [==============================] - 3s 907us/step - loss: 1.1983e-04 - acc: 1.0000 - val_loss: 2.0329e-05 - val_acc: 1.0000\n",
      "Epoch 68/100\n",
      "3231/3231 [==============================] - 3s 911us/step - loss: 5.1332e-05 - acc: 1.0000 - val_loss: 1.1109e-05 - val_acc: 1.0000\n",
      "Epoch 69/100\n",
      "3231/3231 [==============================] - 3s 913us/step - loss: 1.7792e-05 - acc: 1.0000 - val_loss: 1.1302e-05 - val_acc: 1.0000\n",
      "Epoch 70/100\n",
      "3231/3231 [==============================] - 3s 908us/step - loss: 2.7370e-05 - acc: 1.0000 - val_loss: 1.9864e-05 - val_acc: 1.0000\n",
      "Epoch 71/100\n",
      "3231/3231 [==============================] - 3s 905us/step - loss: 1.0693e-04 - acc: 1.0000 - val_loss: 5.6142e-04 - val_acc: 1.0000\n",
      "Epoch 72/100\n",
      "3231/3231 [==============================] - 3s 907us/step - loss: 2.5433e-05 - acc: 1.0000 - val_loss: 7.6235e-05 - val_acc: 1.0000\n",
      "Epoch 73/100\n",
      "3231/3231 [==============================] - 3s 905us/step - loss: 2.8275e-05 - acc: 1.0000 - val_loss: 1.0268e-05 - val_acc: 1.0000\n",
      "Epoch 74/100\n",
      " 128/3231 [>.............................] - ETA: 2s - loss: 1.0273e-05 - acc: 1.0000"
     ]
    }
   ],
   "source": [
    "model.fit(\n",
    "    x_train,\n",
    "    y_train,\n",
    "    batch_size=128,\n",
    "    epochs=100,\n",
    "    verbose=1,\n",
    "    validation_data=(x_test, y_test))"
   ]
  },
  {
   "cell_type": "code",
   "execution_count": null,
   "metadata": {
    "ExecuteTime": {
     "start_time": "2019-01-25T08:47:00.212Z"
    }
   },
   "outputs": [],
   "source": [
    "score = model.evaluate(x_test, y_test, verbose=0)\n",
    "\n",
    "print('Test loss:', score[0])\n",
    "print('Test accuracy:', score[1])"
   ]
  },
  {
   "cell_type": "code",
   "execution_count": null,
   "metadata": {
    "ExecuteTime": {
     "start_time": "2019-01-25T08:47:00.213Z"
    }
   },
   "outputs": [],
   "source": [
    "model.save('../taiko/external/spirit_img_model.h5')"
   ]
  },
  {
   "cell_type": "code",
   "execution_count": null,
   "metadata": {},
   "outputs": [],
   "source": []
  }
 ],
 "metadata": {
  "kernelspec": {
   "display_name": "Python 3",
   "language": "python",
   "name": "python3"
  },
  "language_info": {
   "codemirror_mode": {
    "name": "ipython",
    "version": 3
   },
   "file_extension": ".py",
   "mimetype": "text/x-python",
   "name": "python",
   "nbconvert_exporter": "python",
   "pygments_lexer": "ipython3",
   "version": "3.6.8"
  },
  "toc": {
   "base_numbering": 1,
   "nav_menu": {},
   "number_sections": true,
   "sideBar": true,
   "skip_h1_title": false,
   "title_cell": "Table of Contents",
   "title_sidebar": "Contents",
   "toc_cell": true,
   "toc_position": {},
   "toc_section_display": "block",
   "toc_window_display": false
  },
  "varInspector": {
   "cols": {
    "lenName": 16,
    "lenType": 16,
    "lenVar": 40
   },
   "kernels_config": {
    "python": {
     "delete_cmd_postfix": "",
     "delete_cmd_prefix": "del ",
     "library": "var_list.py",
     "varRefreshCmd": "print(var_dic_list())"
    },
    "r": {
     "delete_cmd_postfix": ") ",
     "delete_cmd_prefix": "rm(",
     "library": "var_list.r",
     "varRefreshCmd": "cat(var_dic_list()) "
    }
   },
   "types_to_exclude": [
    "module",
    "function",
    "builtin_function_or_method",
    "instance",
    "_Feature"
   ],
   "window_display": false
  }
 },
 "nbformat": 4,
 "nbformat_minor": 2
}
