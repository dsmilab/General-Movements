{
 "cells": [
  {
   "cell_type": "markdown",
   "metadata": {
    "toc": true
   },
   "source": [
    "<h1>Table of Contents<span class=\"tocSkip\"></span></h1>\n",
    "<div class=\"toc\" style=\"margin-top: 1em;\"><ul class=\"toc-item\"></ul></div>"
   ]
  },
  {
   "cell_type": "code",
   "execution_count": 1,
   "metadata": {
    "ExecuteTime": {
     "end_time": "2018-09-17T04:00:31.995830Z",
     "start_time": "2018-09-17T04:00:25.918991Z"
    }
   },
   "outputs": [
    {
     "name": "stderr",
     "output_type": "stream",
     "text": [
      "Using TensorFlow backend.\n"
     ]
    }
   ],
   "source": [
    "import os\n",
    "from skimage.io import imshow, imread, imsave\n",
    "from keras.preprocessing.image import random_shift, img_to_array\n",
    "import matplotlib.pyplot as plt\n",
    "import skimage\n",
    "import numpy as np"
   ]
  },
  {
   "cell_type": "code",
   "execution_count": 2,
   "metadata": {
    "ExecuteTime": {
     "end_time": "2018-09-17T04:01:00.719490Z",
     "start_time": "2018-09-17T04:00:31.997272Z"
    }
   },
   "outputs": [
    {
     "name": "stderr",
     "output_type": "stream",
     "text": [
      "/usr/bin/anaconda3/lib/python3.6/site-packages/skimage/io/_io.py:132: UserWarning: drum_images/0009-00182.png is a low contrast image\n",
      "  warn('%s is a low contrast image' % fname)\n",
      "/usr/bin/anaconda3/lib/python3.6/site-packages/skimage/io/_io.py:132: UserWarning: drum_images/0009-00183.png is a low contrast image\n",
      "  warn('%s is a low contrast image' % fname)\n",
      "/usr/bin/anaconda3/lib/python3.6/site-packages/skimage/io/_io.py:132: UserWarning: drum_images/0009-00184.png is a low contrast image\n",
      "  warn('%s is a low contrast image' % fname)\n",
      "/usr/bin/anaconda3/lib/python3.6/site-packages/skimage/io/_io.py:132: UserWarning: drum_images/0009-00185.png is a low contrast image\n",
      "  warn('%s is a low contrast image' % fname)\n",
      "/usr/bin/anaconda3/lib/python3.6/site-packages/skimage/io/_io.py:132: UserWarning: drum_images/0009-00186.png is a low contrast image\n",
      "  warn('%s is a low contrast image' % fname)\n",
      "/usr/bin/anaconda3/lib/python3.6/site-packages/skimage/io/_io.py:132: UserWarning: drum_images/0009-00187.png is a low contrast image\n",
      "  warn('%s is a low contrast image' % fname)\n",
      "/usr/bin/anaconda3/lib/python3.6/site-packages/skimage/io/_io.py:132: UserWarning: drum_images/0009-00188.png is a low contrast image\n",
      "  warn('%s is a low contrast image' % fname)\n",
      "/usr/bin/anaconda3/lib/python3.6/site-packages/skimage/io/_io.py:132: UserWarning: drum_images/0009-00189.png is a low contrast image\n",
      "  warn('%s is a low contrast image' % fname)\n",
      "/usr/bin/anaconda3/lib/python3.6/site-packages/skimage/io/_io.py:132: UserWarning: drum_images/0009-00190.png is a low contrast image\n",
      "  warn('%s is a low contrast image' % fname)\n",
      "/usr/bin/anaconda3/lib/python3.6/site-packages/skimage/io/_io.py:132: UserWarning: drum_images/0009-00191.png is a low contrast image\n",
      "  warn('%s is a low contrast image' % fname)\n",
      "/usr/bin/anaconda3/lib/python3.6/site-packages/skimage/io/_io.py:132: UserWarning: drum_images/0009-00192.png is a low contrast image\n",
      "  warn('%s is a low contrast image' % fname)\n",
      "/usr/bin/anaconda3/lib/python3.6/site-packages/skimage/io/_io.py:132: UserWarning: drum_images/0009-00193.png is a low contrast image\n",
      "  warn('%s is a low contrast image' % fname)\n",
      "/usr/bin/anaconda3/lib/python3.6/site-packages/skimage/io/_io.py:132: UserWarning: drum_images/0009-00194.png is a low contrast image\n",
      "  warn('%s is a low contrast image' % fname)\n",
      "/usr/bin/anaconda3/lib/python3.6/site-packages/skimage/io/_io.py:132: UserWarning: drum_images/0009-00195.png is a low contrast image\n",
      "  warn('%s is a low contrast image' % fname)\n",
      "/usr/bin/anaconda3/lib/python3.6/site-packages/skimage/io/_io.py:132: UserWarning: drum_images/0009-00196.png is a low contrast image\n",
      "  warn('%s is a low contrast image' % fname)\n",
      "/usr/bin/anaconda3/lib/python3.6/site-packages/skimage/io/_io.py:132: UserWarning: drum_images/0009-00197.png is a low contrast image\n",
      "  warn('%s is a low contrast image' % fname)\n",
      "/usr/bin/anaconda3/lib/python3.6/site-packages/skimage/io/_io.py:132: UserWarning: drum_images/0009-00198.png is a low contrast image\n",
      "  warn('%s is a low contrast image' % fname)\n",
      "/usr/bin/anaconda3/lib/python3.6/site-packages/skimage/io/_io.py:132: UserWarning: drum_images/0009-00199.png is a low contrast image\n",
      "  warn('%s is a low contrast image' % fname)\n",
      "/usr/bin/anaconda3/lib/python3.6/site-packages/skimage/io/_io.py:132: UserWarning: drum_images/0009-00200.png is a low contrast image\n",
      "  warn('%s is a low contrast image' % fname)\n",
      "/usr/bin/anaconda3/lib/python3.6/site-packages/skimage/io/_io.py:132: UserWarning: drum_images/0009-00201.png is a low contrast image\n",
      "  warn('%s is a low contrast image' % fname)\n",
      "/usr/bin/anaconda3/lib/python3.6/site-packages/skimage/io/_io.py:132: UserWarning: drum_images/0009-00202.png is a low contrast image\n",
      "  warn('%s is a low contrast image' % fname)\n",
      "/usr/bin/anaconda3/lib/python3.6/site-packages/skimage/io/_io.py:132: UserWarning: drum_images/0009-00203.png is a low contrast image\n",
      "  warn('%s is a low contrast image' % fname)\n",
      "/usr/bin/anaconda3/lib/python3.6/site-packages/skimage/io/_io.py:132: UserWarning: drum_images/0009-00204.png is a low contrast image\n",
      "  warn('%s is a low contrast image' % fname)\n",
      "/usr/bin/anaconda3/lib/python3.6/site-packages/skimage/io/_io.py:132: UserWarning: drum_images/0009-00205.png is a low contrast image\n",
      "  warn('%s is a low contrast image' % fname)\n",
      "/usr/bin/anaconda3/lib/python3.6/site-packages/skimage/io/_io.py:132: UserWarning: drum_images/0009-00206.png is a low contrast image\n",
      "  warn('%s is a low contrast image' % fname)\n",
      "/usr/bin/anaconda3/lib/python3.6/site-packages/skimage/io/_io.py:132: UserWarning: drum_images/0009-00207.png is a low contrast image\n",
      "  warn('%s is a low contrast image' % fname)\n",
      "/usr/bin/anaconda3/lib/python3.6/site-packages/skimage/io/_io.py:132: UserWarning: drum_images/0009-00208.png is a low contrast image\n",
      "  warn('%s is a low contrast image' % fname)\n",
      "/usr/bin/anaconda3/lib/python3.6/site-packages/skimage/io/_io.py:132: UserWarning: drum_images/0009-00209.png is a low contrast image\n",
      "  warn('%s is a low contrast image' % fname)\n",
      "/usr/bin/anaconda3/lib/python3.6/site-packages/skimage/io/_io.py:132: UserWarning: drum_images/0009-00210.png is a low contrast image\n",
      "  warn('%s is a low contrast image' % fname)\n",
      "/usr/bin/anaconda3/lib/python3.6/site-packages/skimage/io/_io.py:132: UserWarning: drum_images/0009-00211.png is a low contrast image\n",
      "  warn('%s is a low contrast image' % fname)\n",
      "/usr/bin/anaconda3/lib/python3.6/site-packages/skimage/io/_io.py:132: UserWarning: drum_images/0009-00212.png is a low contrast image\n",
      "  warn('%s is a low contrast image' % fname)\n",
      "/usr/bin/anaconda3/lib/python3.6/site-packages/skimage/io/_io.py:132: UserWarning: drum_images/0009-00213.png is a low contrast image\n",
      "  warn('%s is a low contrast image' % fname)\n",
      "/usr/bin/anaconda3/lib/python3.6/site-packages/skimage/io/_io.py:132: UserWarning: drum_images/0009-00214.png is a low contrast image\n",
      "  warn('%s is a low contrast image' % fname)\n",
      "/usr/bin/anaconda3/lib/python3.6/site-packages/skimage/io/_io.py:132: UserWarning: drum_images/0009-00215.png is a low contrast image\n",
      "  warn('%s is a low contrast image' % fname)\n",
      "/usr/bin/anaconda3/lib/python3.6/site-packages/skimage/io/_io.py:132: UserWarning: drum_images/0009-00216.png is a low contrast image\n",
      "  warn('%s is a low contrast image' % fname)\n",
      "/usr/bin/anaconda3/lib/python3.6/site-packages/skimage/io/_io.py:132: UserWarning: drum_images/0009-00217.png is a low contrast image\n",
      "  warn('%s is a low contrast image' % fname)\n",
      "/usr/bin/anaconda3/lib/python3.6/site-packages/skimage/io/_io.py:132: UserWarning: drum_images/0009-00218.png is a low contrast image\n",
      "  warn('%s is a low contrast image' % fname)\n",
      "/usr/bin/anaconda3/lib/python3.6/site-packages/skimage/io/_io.py:132: UserWarning: drum_images/0009-00219.png is a low contrast image\n",
      "  warn('%s is a low contrast image' % fname)\n",
      "/usr/bin/anaconda3/lib/python3.6/site-packages/skimage/io/_io.py:132: UserWarning: drum_images/0009-00220.png is a low contrast image\n",
      "  warn('%s is a low contrast image' % fname)\n",
      "/usr/bin/anaconda3/lib/python3.6/site-packages/skimage/io/_io.py:132: UserWarning: drum_images/0009-00221.png is a low contrast image\n",
      "  warn('%s is a low contrast image' % fname)\n",
      "/usr/bin/anaconda3/lib/python3.6/site-packages/skimage/io/_io.py:132: UserWarning: drum_images/0009-00222.png is a low contrast image\n",
      "  warn('%s is a low contrast image' % fname)\n",
      "/usr/bin/anaconda3/lib/python3.6/site-packages/skimage/io/_io.py:132: UserWarning: drum_images/0009-00223.png is a low contrast image\n",
      "  warn('%s is a low contrast image' % fname)\n",
      "/usr/bin/anaconda3/lib/python3.6/site-packages/skimage/io/_io.py:132: UserWarning: drum_images/0009-00224.png is a low contrast image\n",
      "  warn('%s is a low contrast image' % fname)\n",
      "/usr/bin/anaconda3/lib/python3.6/site-packages/skimage/io/_io.py:132: UserWarning: drum_images/0009-00225.png is a low contrast image\n",
      "  warn('%s is a low contrast image' % fname)\n",
      "/usr/bin/anaconda3/lib/python3.6/site-packages/skimage/io/_io.py:132: UserWarning: drum_images/0009-00226.png is a low contrast image\n",
      "  warn('%s is a low contrast image' % fname)\n",
      "/usr/bin/anaconda3/lib/python3.6/site-packages/skimage/io/_io.py:132: UserWarning: drum_images/0009-00227.png is a low contrast image\n",
      "  warn('%s is a low contrast image' % fname)\n",
      "/usr/bin/anaconda3/lib/python3.6/site-packages/skimage/io/_io.py:132: UserWarning: drum_images/0009-00228.png is a low contrast image\n",
      "  warn('%s is a low contrast image' % fname)\n",
      "/usr/bin/anaconda3/lib/python3.6/site-packages/skimage/io/_io.py:132: UserWarning: drum_images/0009-00229.png is a low contrast image\n",
      "  warn('%s is a low contrast image' % fname)\n",
      "/usr/bin/anaconda3/lib/python3.6/site-packages/skimage/io/_io.py:132: UserWarning: drum_images/0009-00230.png is a low contrast image\n",
      "  warn('%s is a low contrast image' % fname)\n",
      "/usr/bin/anaconda3/lib/python3.6/site-packages/skimage/io/_io.py:132: UserWarning: drum_images/0009-00231.png is a low contrast image\n",
      "  warn('%s is a low contrast image' % fname)\n",
      "/usr/bin/anaconda3/lib/python3.6/site-packages/skimage/io/_io.py:132: UserWarning: drum_images/0009-00232.png is a low contrast image\n",
      "  warn('%s is a low contrast image' % fname)\n",
      "/usr/bin/anaconda3/lib/python3.6/site-packages/skimage/io/_io.py:132: UserWarning: drum_images/0009-00233.png is a low contrast image\n",
      "  warn('%s is a low contrast image' % fname)\n",
      "/usr/bin/anaconda3/lib/python3.6/site-packages/skimage/io/_io.py:132: UserWarning: drum_images/0009-00234.png is a low contrast image\n",
      "  warn('%s is a low contrast image' % fname)\n",
      "/usr/bin/anaconda3/lib/python3.6/site-packages/skimage/io/_io.py:132: UserWarning: drum_images/0009-00235.png is a low contrast image\n",
      "  warn('%s is a low contrast image' % fname)\n",
      "/usr/bin/anaconda3/lib/python3.6/site-packages/skimage/io/_io.py:132: UserWarning: drum_images/0009-00236.png is a low contrast image\n",
      "  warn('%s is a low contrast image' % fname)\n",
      "/usr/bin/anaconda3/lib/python3.6/site-packages/skimage/io/_io.py:132: UserWarning: drum_images/0009-00237.png is a low contrast image\n",
      "  warn('%s is a low contrast image' % fname)\n",
      "/usr/bin/anaconda3/lib/python3.6/site-packages/skimage/io/_io.py:132: UserWarning: drum_images/0009-00238.png is a low contrast image\n",
      "  warn('%s is a low contrast image' % fname)\n",
      "/usr/bin/anaconda3/lib/python3.6/site-packages/skimage/io/_io.py:132: UserWarning: drum_images/0009-00239.png is a low contrast image\n",
      "  warn('%s is a low contrast image' % fname)\n",
      "/usr/bin/anaconda3/lib/python3.6/site-packages/skimage/io/_io.py:132: UserWarning: drum_images/0009-00240.png is a low contrast image\n",
      "  warn('%s is a low contrast image' % fname)\n",
      "/usr/bin/anaconda3/lib/python3.6/site-packages/skimage/io/_io.py:132: UserWarning: drum_images/0009-00241.png is a low contrast image\n",
      "  warn('%s is a low contrast image' % fname)\n",
      "/usr/bin/anaconda3/lib/python3.6/site-packages/skimage/io/_io.py:132: UserWarning: drum_images/0009-00242.png is a low contrast image\n",
      "  warn('%s is a low contrast image' % fname)\n",
      "/usr/bin/anaconda3/lib/python3.6/site-packages/skimage/io/_io.py:132: UserWarning: drum_images/0009-00243.png is a low contrast image\n",
      "  warn('%s is a low contrast image' % fname)\n",
      "/usr/bin/anaconda3/lib/python3.6/site-packages/skimage/io/_io.py:132: UserWarning: drum_images/0009-00244.png is a low contrast image\n",
      "  warn('%s is a low contrast image' % fname)\n",
      "/usr/bin/anaconda3/lib/python3.6/site-packages/skimage/io/_io.py:132: UserWarning: drum_images/0009-00245.png is a low contrast image\n",
      "  warn('%s is a low contrast image' % fname)\n",
      "/usr/bin/anaconda3/lib/python3.6/site-packages/skimage/io/_io.py:132: UserWarning: drum_images/0009-00246.png is a low contrast image\n",
      "  warn('%s is a low contrast image' % fname)\n",
      "/usr/bin/anaconda3/lib/python3.6/site-packages/skimage/io/_io.py:132: UserWarning: drum_images/0009-00247.png is a low contrast image\n",
      "  warn('%s is a low contrast image' % fname)\n",
      "/usr/bin/anaconda3/lib/python3.6/site-packages/skimage/io/_io.py:132: UserWarning: drum_images/0009-00248.png is a low contrast image\n",
      "  warn('%s is a low contrast image' % fname)\n"
     ]
    },
    {
     "name": "stderr",
     "output_type": "stream",
     "text": [
      "/usr/bin/anaconda3/lib/python3.6/site-packages/skimage/io/_io.py:132: UserWarning: drum_images/0009-00249.png is a low contrast image\n",
      "  warn('%s is a low contrast image' % fname)\n",
      "/usr/bin/anaconda3/lib/python3.6/site-packages/skimage/io/_io.py:132: UserWarning: drum_images/0009-00250.png is a low contrast image\n",
      "  warn('%s is a low contrast image' % fname)\n",
      "/usr/bin/anaconda3/lib/python3.6/site-packages/skimage/io/_io.py:132: UserWarning: drum_images/0009-00251.png is a low contrast image\n",
      "  warn('%s is a low contrast image' % fname)\n",
      "/usr/bin/anaconda3/lib/python3.6/site-packages/skimage/io/_io.py:132: UserWarning: drum_images/0009-00252.png is a low contrast image\n",
      "  warn('%s is a low contrast image' % fname)\n"
     ]
    }
   ],
   "source": [
    "dirs = next(os.walk('../bb2_capture_output'))[1]\n",
    "\n",
    "for dir_id, dir_ in enumerate(dirs):\n",
    "    img_dir = '../bb2_capture_output/' + dir_\n",
    "    files = next(os.walk(img_dir))[2]\n",
    "    files.sort()\n",
    "    \n",
    "    count = 0\n",
    "    for file_id, file in enumerate(files[:300]):\n",
    "        img = imread(img_dir + '/' + file)\n",
    "        img = img[95:160, 85:150]\n",
    "        \n",
    "        filename = '%04d-%05d.png' % (dir_id, file_id)\n",
    "        imsave('drum_images/' + filename, img)\n",
    "#         img = skimage.img_as_float(img)\n",
    "#         imgs = [\n",
    "#             random_shift(img, wrg=0.1, hrg=0.3, row_axis=0,\n",
    "#                          col_axis=1, channel_axis=2, fill_mode='nearest') * 255\n",
    "#             for _ in range(3)]\n",
    "        \n",
    "#         for iimg in imgs:\n",
    "#             iimg = iimg.astype(np.uint8)"
   ]
  },
  {
   "cell_type": "code",
   "execution_count": null,
   "metadata": {},
   "outputs": [],
   "source": []
  }
 ],
 "metadata": {
  "kernelspec": {
   "display_name": "Python 3",
   "language": "python",
   "name": "python3"
  },
  "language_info": {
   "codemirror_mode": {
    "name": "ipython",
    "version": 3
   },
   "file_extension": ".py",
   "mimetype": "text/x-python",
   "name": "python",
   "nbconvert_exporter": "python",
   "pygments_lexer": "ipython3",
   "version": "3.6.5"
  },
  "toc": {
   "nav_menu": {},
   "number_sections": true,
   "sideBar": true,
   "skip_h1_title": false,
   "toc_cell": true,
   "toc_position": {},
   "toc_section_display": "block",
   "toc_window_display": false
  },
  "varInspector": {
   "cols": {
    "lenName": 16,
    "lenType": 16,
    "lenVar": 40
   },
   "kernels_config": {
    "python": {
     "delete_cmd_postfix": "",
     "delete_cmd_prefix": "del ",
     "library": "var_list.py",
     "varRefreshCmd": "print(var_dic_list())"
    },
    "r": {
     "delete_cmd_postfix": ") ",
     "delete_cmd_prefix": "rm(",
     "library": "var_list.r",
     "varRefreshCmd": "cat(var_dic_list()) "
    }
   },
   "types_to_exclude": [
    "module",
    "function",
    "builtin_function_or_method",
    "instance",
    "_Feature"
   ],
   "window_display": false
  }
 },
 "nbformat": 4,
 "nbformat_minor": 2
}
