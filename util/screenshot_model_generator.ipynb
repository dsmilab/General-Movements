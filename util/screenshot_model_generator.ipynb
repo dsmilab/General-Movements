{
 "cells": [
  {
   "cell_type": "markdown",
   "metadata": {
    "toc": true
   },
   "source": [
    "<h1>Table of Contents<span class=\"tocSkip\"></span></h1>\n",
    "<div class=\"toc\" style=\"margin-top: 1em;\"><ul class=\"toc-item\"></ul></div>"
   ]
  },
  {
   "cell_type": "code",
   "execution_count": 1,
   "metadata": {
    "ExecuteTime": {
     "end_time": "2018-10-01T13:55:39.785388Z",
     "start_time": "2018-10-01T13:55:34.693162Z"
    },
    "scrolled": true
   },
   "outputs": [
    {
     "name": "stderr",
     "output_type": "stream",
     "text": [
      "Using TensorFlow backend.\n"
     ]
    }
   ],
   "source": [
    "from PIL import Image\n",
    "from io import BytesIO\n",
    "\n",
    "import os\n",
    "import numpy as np\n",
    "import matplotlib.pyplot as plt\n",
    "\n",
    "import keras\n",
    "from keras.layers.core import Dense, Dropout, Activation\n",
    "from keras.utils import np_utils\n",
    "from keras.datasets import mnist\n",
    "from keras.models import Sequential\n",
    "from keras.layers import Dense, Dropout, Flatten\n",
    "from keras.layers import Conv2D, MaxPooling2D\n",
    "from keras.preprocessing.image import random_shift, img_to_array\n",
    "import PIL.ImageOps\n",
    "\n",
    "import skimage\n",
    "from skimage.io import imshow, imread\n",
    "from skimage.color import rgb2grey\n"
   ]
  },
  {
   "cell_type": "code",
   "execution_count": 2,
   "metadata": {
    "ExecuteTime": {
     "end_time": "2018-10-01T13:55:39.790976Z",
     "start_time": "2018-10-01T13:55:39.787983Z"
    }
   },
   "outputs": [],
   "source": [
    "TRAIN_DIRECTORY_PATH = '../data/mnist/train_set/'\n",
    "TEST_DIRECTORY_PATH = '../data/mnist/test_set/'\n",
    "\n",
    "NUM_CLASSES = 11\n",
    "IMG_ROWS, IMG_COLS = 15, 10"
   ]
  },
  {
   "cell_type": "code",
   "execution_count": 3,
   "metadata": {
    "ExecuteTime": {
     "end_time": "2018-10-01T13:55:41.294130Z",
     "start_time": "2018-10-01T13:55:39.793220Z"
    }
   },
   "outputs": [
    {
     "name": "stdout",
     "output_type": "stream",
     "text": [
      "x_train shape: (6024, 15, 10, 1)\n",
      "6024 train samples\n",
      "1269 test samples\n"
     ]
    }
   ],
   "source": [
    "x_train = []\n",
    "x_test = []\n",
    "y_train = []\n",
    "y_test = []\n",
    "\n",
    "for digit in range(NUM_CLASSES):\n",
    "    directory = TRAIN_DIRECTORY_PATH + str(digit) + '/'\n",
    "    files = next(os.walk(directory))[2]\n",
    "    \n",
    "    for filename in files:\n",
    "        img = imread(directory + filename)\n",
    "        img = skimage.img_as_float(img)\n",
    "        imgs = [\n",
    "            random_shift(img, wrg=0.1, hrg=0.3, row_axis=0,\n",
    "                         col_axis=1, channel_axis=2, fill_mode='nearest') * 255\n",
    "            for _ in range(3)]\n",
    "        \n",
    "        for img_ in imgs:\n",
    "            shifted_img = img_.astype(np.uint8)\n",
    "            shifted_img = rgb2grey(shifted_img)\n",
    "            x_train.append(shifted_img)\n",
    "            y_train.append(digit)\n",
    "\n",
    "for digit in range(NUM_CLASSES):\n",
    "    directory = TEST_DIRECTORY_PATH + str(digit) + '/'\n",
    "    files = next(os.walk(directory))[2]\n",
    "    \n",
    "    for filename in files:\n",
    "        img = imread(directory + filename)\n",
    "        img = skimage.img_as_float(img)\n",
    "        imgs = [\n",
    "            random_shift(img, wrg=0.1, hrg=0.3, row_axis=0,\n",
    "                         col_axis=1, channel_axis=2, fill_mode='nearest') * 255\n",
    "            for _ in range(3)]\n",
    "        \n",
    "        for img_ in imgs:\n",
    "            shifted_img = img_.astype(np.uint8)\n",
    "            shifted_img = rgb2grey(shifted_img)\n",
    "            x_test.append(shifted_img)\n",
    "            y_test.append(digit)\n",
    "        \n",
    "x_train = np.asarray(x_train)\n",
    "x_train = x_train.reshape(x_train.shape[0], IMG_ROWS, IMG_COLS, 1)\n",
    "\n",
    "x_test = np.asarray(x_test)\n",
    "x_test = x_test.reshape(x_test.shape[0], IMG_ROWS, IMG_COLS, 1)\n",
    "\n",
    "input_shape = (IMG_ROWS, IMG_COLS, 1)\n",
    "\n",
    "print('x_train shape:', x_train.shape)\n",
    "print(x_train.shape[0], 'train samples')\n",
    "print(x_test.shape[0], 'test samples')\n",
    "\n",
    "y_train = keras.utils.to_categorical(y_train, NUM_CLASSES)\n",
    "y_test = keras.utils.to_categorical(y_test, NUM_CLASSES)"
   ]
  },
  {
   "cell_type": "code",
   "execution_count": 4,
   "metadata": {
    "ExecuteTime": {
     "end_time": "2018-10-01T13:55:41.437251Z",
     "start_time": "2018-10-01T13:55:41.295690Z"
    }
   },
   "outputs": [
    {
     "name": "stdout",
     "output_type": "stream",
     "text": [
      "WARNING:tensorflow:From /usr/bin/anaconda3/lib/python3.6/site-packages/keras/backend/tensorflow_backend.py:1205: calling reduce_prod (from tensorflow.python.ops.math_ops) with keep_dims is deprecated and will be removed in a future version.\n",
      "Instructions for updating:\n",
      "keep_dims is deprecated, use keepdims instead\n"
     ]
    }
   ],
   "source": [
    "model = Sequential()\n",
    "model.add(\n",
    "    Conv2D(32, kernel_size=(3, 3), activation='relu', input_shape=input_shape))\n",
    "model.add(Conv2D(64, (3, 3), activation='relu'))\n",
    "model.add(MaxPooling2D(pool_size=(2, 2)))\n",
    "model.add(Dropout(0.25))\n",
    "model.add(Flatten())\n",
    "model.add(Dense(128, activation='relu'))\n",
    "model.add(Dropout(0.5))\n",
    "model.add(Dense(NUM_CLASSES, activation='softmax'))"
   ]
  },
  {
   "cell_type": "code",
   "execution_count": 5,
   "metadata": {
    "ExecuteTime": {
     "end_time": "2018-10-01T13:55:41.509065Z",
     "start_time": "2018-10-01T13:55:41.439972Z"
    }
   },
   "outputs": [
    {
     "name": "stdout",
     "output_type": "stream",
     "text": [
      "WARNING:tensorflow:From /usr/bin/anaconda3/lib/python3.6/site-packages/keras/backend/tensorflow_backend.py:2755: calling reduce_sum (from tensorflow.python.ops.math_ops) with keep_dims is deprecated and will be removed in a future version.\n",
      "Instructions for updating:\n",
      "keep_dims is deprecated, use keepdims instead\n",
      "WARNING:tensorflow:From /usr/bin/anaconda3/lib/python3.6/site-packages/keras/backend/tensorflow_backend.py:1290: calling reduce_mean (from tensorflow.python.ops.math_ops) with keep_dims is deprecated and will be removed in a future version.\n",
      "Instructions for updating:\n",
      "keep_dims is deprecated, use keepdims instead\n"
     ]
    }
   ],
   "source": [
    "model.compile(\n",
    "    loss=keras.losses.categorical_crossentropy,\n",
    "    optimizer=keras.optimizers.Adadelta(),\n",
    "    metrics=['accuracy'])"
   ]
  },
  {
   "cell_type": "code",
   "execution_count": 6,
   "metadata": {
    "ExecuteTime": {
     "end_time": "2018-10-01T13:56:30.910413Z",
     "start_time": "2018-10-01T13:55:41.510465Z"
    },
    "scrolled": true
   },
   "outputs": [
    {
     "name": "stdout",
     "output_type": "stream",
     "text": [
      "Train on 6024 samples, validate on 1269 samples\n",
      "Epoch 1/150\n",
      "6024/6024 [==============================] - 2s - loss: 2.1881 - acc: 0.3679 - val_loss: 1.9193 - val_acc: 0.4137\n",
      "Epoch 2/150\n",
      "6024/6024 [==============================] - 0s - loss: 1.4621 - acc: 0.5340 - val_loss: 1.5208 - val_acc: 0.5020\n",
      "Epoch 3/150\n",
      "6024/6024 [==============================] - 0s - loss: 1.0885 - acc: 0.6541 - val_loss: 1.1124 - val_acc: 0.6690\n",
      "Epoch 4/150\n",
      "6024/6024 [==============================] - 0s - loss: 0.8698 - acc: 0.7251 - val_loss: 0.9052 - val_acc: 0.7100\n",
      "Epoch 5/150\n",
      "6024/6024 [==============================] - 0s - loss: 0.7161 - acc: 0.7817 - val_loss: 0.7279 - val_acc: 0.7896\n",
      "Epoch 6/150\n",
      "6024/6024 [==============================] - 0s - loss: 0.5874 - acc: 0.8249 - val_loss: 0.8821 - val_acc: 0.6958\n",
      "Epoch 7/150\n",
      "6024/6024 [==============================] - 0s - loss: 0.5061 - acc: 0.8521 - val_loss: 0.5577 - val_acc: 0.8258\n",
      "Epoch 8/150\n",
      "6024/6024 [==============================] - 0s - loss: 0.4215 - acc: 0.8777 - val_loss: 0.4243 - val_acc: 0.8983\n",
      "Epoch 9/150\n",
      "6024/6024 [==============================] - 0s - loss: 0.3900 - acc: 0.8899 - val_loss: 0.3948 - val_acc: 0.9015\n",
      "Epoch 10/150\n",
      "6024/6024 [==============================] - 0s - loss: 0.3454 - acc: 0.9004 - val_loss: 0.3693 - val_acc: 0.9094\n",
      "Epoch 11/150\n",
      "6024/6024 [==============================] - 0s - loss: 0.3246 - acc: 0.9092 - val_loss: 0.4230 - val_acc: 0.8794\n",
      "Epoch 12/150\n",
      "6024/6024 [==============================] - 0s - loss: 0.2909 - acc: 0.9162 - val_loss: 0.2907 - val_acc: 0.9259\n",
      "Epoch 13/150\n",
      "6024/6024 [==============================] - 0s - loss: 0.2795 - acc: 0.9216 - val_loss: 0.3031 - val_acc: 0.9173\n",
      "Epoch 14/150\n",
      "6024/6024 [==============================] - 0s - loss: 0.2582 - acc: 0.9268 - val_loss: 0.2444 - val_acc: 0.9441\n",
      "Epoch 15/150\n",
      "6024/6024 [==============================] - 0s - loss: 0.2457 - acc: 0.9361 - val_loss: 0.2681 - val_acc: 0.9251\n",
      "Epoch 16/150\n",
      "6024/6024 [==============================] - 0s - loss: 0.2260 - acc: 0.9391 - val_loss: 0.2497 - val_acc: 0.9377\n",
      "Epoch 17/150\n",
      "6024/6024 [==============================] - 0s - loss: 0.2155 - acc: 0.9419 - val_loss: 0.2108 - val_acc: 0.9456\n",
      "Epoch 18/150\n",
      "6024/6024 [==============================] - 0s - loss: 0.2073 - acc: 0.9422 - val_loss: 0.1947 - val_acc: 0.9456\n",
      "Epoch 19/150\n",
      "6024/6024 [==============================] - 0s - loss: 0.1853 - acc: 0.9497 - val_loss: 0.1903 - val_acc: 0.9433\n",
      "Epoch 20/150\n",
      "6024/6024 [==============================] - 0s - loss: 0.1740 - acc: 0.9520 - val_loss: 0.1694 - val_acc: 0.9559\n",
      "Epoch 21/150\n",
      "6024/6024 [==============================] - 0s - loss: 0.1796 - acc: 0.9510 - val_loss: 0.1677 - val_acc: 0.9582\n",
      "Epoch 22/150\n",
      "6024/6024 [==============================] - 0s - loss: 0.1721 - acc: 0.9537 - val_loss: 0.1505 - val_acc: 0.9645\n",
      "Epoch 23/150\n",
      "6024/6024 [==============================] - 0s - loss: 0.1549 - acc: 0.9568 - val_loss: 0.1528 - val_acc: 0.9590\n",
      "Epoch 24/150\n",
      "6024/6024 [==============================] - 0s - loss: 0.1468 - acc: 0.9617 - val_loss: 0.1351 - val_acc: 0.9693\n",
      "Epoch 25/150\n",
      "6024/6024 [==============================] - 0s - loss: 0.1405 - acc: 0.9618 - val_loss: 0.1726 - val_acc: 0.9488\n",
      "Epoch 26/150\n",
      "6024/6024 [==============================] - 0s - loss: 0.1389 - acc: 0.9618 - val_loss: 0.1295 - val_acc: 0.9653\n",
      "Epoch 27/150\n",
      "6024/6024 [==============================] - 0s - loss: 0.1327 - acc: 0.9676 - val_loss: 0.1331 - val_acc: 0.9567\n",
      "Epoch 28/150\n",
      "6024/6024 [==============================] - 0s - loss: 0.1315 - acc: 0.9641 - val_loss: 0.1292 - val_acc: 0.9638\n",
      "Epoch 29/150\n",
      "6024/6024 [==============================] - 0s - loss: 0.1137 - acc: 0.9711 - val_loss: 0.1181 - val_acc: 0.9661\n",
      "Epoch 30/150\n",
      "6024/6024 [==============================] - 0s - loss: 0.1177 - acc: 0.9700 - val_loss: 0.1042 - val_acc: 0.9740\n",
      "Epoch 31/150\n",
      "6024/6024 [==============================] - 0s - loss: 0.1121 - acc: 0.9683 - val_loss: 0.0966 - val_acc: 0.9756\n",
      "Epoch 32/150\n",
      "6024/6024 [==============================] - 0s - loss: 0.1164 - acc: 0.9683 - val_loss: 0.0967 - val_acc: 0.9740\n",
      "Epoch 33/150\n",
      "6024/6024 [==============================] - 0s - loss: 0.1083 - acc: 0.9723 - val_loss: 0.0948 - val_acc: 0.9716\n",
      "Epoch 34/150\n",
      "6024/6024 [==============================] - 0s - loss: 0.1080 - acc: 0.9716 - val_loss: 0.0878 - val_acc: 0.9740\n",
      "Epoch 35/150\n",
      "6024/6024 [==============================] - 0s - loss: 0.1032 - acc: 0.9708 - val_loss: 0.0892 - val_acc: 0.9701\n",
      "Epoch 36/150\n",
      "6024/6024 [==============================] - 0s - loss: 0.0969 - acc: 0.9705 - val_loss: 0.0884 - val_acc: 0.9732\n",
      "Epoch 37/150\n",
      "6024/6024 [==============================] - 0s - loss: 0.0971 - acc: 0.9734 - val_loss: 0.0839 - val_acc: 0.9724\n",
      "Epoch 38/150\n",
      "6024/6024 [==============================] - 0s - loss: 0.0876 - acc: 0.9748 - val_loss: 0.0770 - val_acc: 0.9819\n",
      "Epoch 39/150\n",
      "6024/6024 [==============================] - 0s - loss: 0.0878 - acc: 0.9764 - val_loss: 0.0702 - val_acc: 0.9850\n",
      "Epoch 40/150\n",
      "6024/6024 [==============================] - 0s - loss: 0.0798 - acc: 0.9781 - val_loss: 0.0676 - val_acc: 0.9858\n",
      "Epoch 41/150\n",
      "6024/6024 [==============================] - 0s - loss: 0.0783 - acc: 0.9797 - val_loss: 0.1089 - val_acc: 0.9606\n",
      "Epoch 42/150\n",
      "6024/6024 [==============================] - 0s - loss: 0.0791 - acc: 0.9783 - val_loss: 0.0668 - val_acc: 0.9811\n",
      "Epoch 43/150\n",
      "6024/6024 [==============================] - 0s - loss: 0.0733 - acc: 0.9809 - val_loss: 0.0633 - val_acc: 0.9787\n",
      "Epoch 44/150\n",
      "6024/6024 [==============================] - 0s - loss: 0.0699 - acc: 0.9796 - val_loss: 0.0614 - val_acc: 0.9842\n",
      "Epoch 45/150\n",
      "6024/6024 [==============================] - 0s - loss: 0.0721 - acc: 0.9792 - val_loss: 0.0721 - val_acc: 0.9771\n",
      "Epoch 46/150\n",
      "6024/6024 [==============================] - 0s - loss: 0.0642 - acc: 0.9836 - val_loss: 0.0560 - val_acc: 0.9874\n",
      "Epoch 47/150\n",
      "6024/6024 [==============================] - 0s - loss: 0.0668 - acc: 0.9822 - val_loss: 0.0598 - val_acc: 0.9819\n",
      "Epoch 48/150\n",
      "6024/6024 [==============================] - 0s - loss: 0.0628 - acc: 0.9827 - val_loss: 0.0578 - val_acc: 0.9811\n",
      "Epoch 49/150\n",
      "6024/6024 [==============================] - 0s - loss: 0.0602 - acc: 0.9824 - val_loss: 0.0738 - val_acc: 0.9740\n",
      "Epoch 50/150\n",
      "6024/6024 [==============================] - 0s - loss: 0.0604 - acc: 0.9847 - val_loss: 0.0537 - val_acc: 0.9827\n",
      "Epoch 51/150\n",
      "6024/6024 [==============================] - 0s - loss: 0.0587 - acc: 0.9824 - val_loss: 0.0496 - val_acc: 0.9882\n",
      "Epoch 52/150\n",
      "6024/6024 [==============================] - 0s - loss: 0.0577 - acc: 0.9839 - val_loss: 0.0475 - val_acc: 0.9858\n",
      "Epoch 53/150\n",
      "6024/6024 [==============================] - 0s - loss: 0.0586 - acc: 0.9842 - val_loss: 0.0459 - val_acc: 0.9866\n",
      "Epoch 54/150\n",
      "6024/6024 [==============================] - 0s - loss: 0.0538 - acc: 0.9856 - val_loss: 0.0452 - val_acc: 0.9882\n",
      "Epoch 55/150\n",
      "6024/6024 [==============================] - 0s - loss: 0.0534 - acc: 0.9857 - val_loss: 0.0438 - val_acc: 0.9921\n",
      "Epoch 56/150\n",
      "6024/6024 [==============================] - 0s - loss: 0.0508 - acc: 0.9871 - val_loss: 0.0459 - val_acc: 0.9882\n",
      "Epoch 57/150\n",
      "6024/6024 [==============================] - 0s - loss: 0.0474 - acc: 0.9897 - val_loss: 0.0427 - val_acc: 0.9913\n",
      "Epoch 58/150\n",
      "6024/6024 [==============================] - 0s - loss: 0.0486 - acc: 0.9874 - val_loss: 0.0451 - val_acc: 0.9858\n",
      "Epoch 59/150\n",
      "6024/6024 [==============================] - 0s - loss: 0.0463 - acc: 0.9877 - val_loss: 0.0391 - val_acc: 0.9905\n",
      "Epoch 60/150\n",
      "6024/6024 [==============================] - 0s - loss: 0.0461 - acc: 0.9874 - val_loss: 0.0387 - val_acc: 0.9913\n",
      "Epoch 61/150\n",
      "6024/6024 [==============================] - 0s - loss: 0.0466 - acc: 0.9874 - val_loss: 0.0385 - val_acc: 0.9921\n",
      "Epoch 62/150\n",
      "6024/6024 [==============================] - 0s - loss: 0.0402 - acc: 0.9892 - val_loss: 0.0348 - val_acc: 0.9913\n",
      "Epoch 63/150\n",
      "6024/6024 [==============================] - 0s - loss: 0.0468 - acc: 0.9875 - val_loss: 0.0359 - val_acc: 0.9913\n",
      "Epoch 64/150\n",
      "6024/6024 [==============================] - 0s - loss: 0.0437 - acc: 0.9890 - val_loss: 0.0325 - val_acc: 0.9913\n",
      "Epoch 65/150\n"
     ]
    },
    {
     "name": "stdout",
     "output_type": "stream",
     "text": [
      "6024/6024 [==============================] - 0s - loss: 0.0442 - acc: 0.9874 - val_loss: 0.0468 - val_acc: 0.9850\n",
      "Epoch 66/150\n",
      "6024/6024 [==============================] - 0s - loss: 0.0420 - acc: 0.9885 - val_loss: 0.0358 - val_acc: 0.9905\n",
      "Epoch 67/150\n",
      "6024/6024 [==============================] - 0s - loss: 0.0404 - acc: 0.9879 - val_loss: 0.0321 - val_acc: 0.9898\n",
      "Epoch 68/150\n",
      "6024/6024 [==============================] - 0s - loss: 0.0380 - acc: 0.9894 - val_loss: 0.0383 - val_acc: 0.9905\n",
      "Epoch 69/150\n",
      "6024/6024 [==============================] - 0s - loss: 0.0414 - acc: 0.9889 - val_loss: 0.0345 - val_acc: 0.9905\n",
      "Epoch 70/150\n",
      "6024/6024 [==============================] - 0s - loss: 0.0411 - acc: 0.9877 - val_loss: 0.0314 - val_acc: 0.9921\n",
      "Epoch 71/150\n",
      "6024/6024 [==============================] - 0s - loss: 0.0414 - acc: 0.9894 - val_loss: 0.0341 - val_acc: 0.9898\n",
      "Epoch 72/150\n",
      "6024/6024 [==============================] - 0s - loss: 0.0383 - acc: 0.9894 - val_loss: 0.0449 - val_acc: 0.9866\n",
      "Epoch 73/150\n",
      "6024/6024 [==============================] - 0s - loss: 0.0383 - acc: 0.9909 - val_loss: 0.0295 - val_acc: 0.9913\n",
      "Epoch 74/150\n",
      "6024/6024 [==============================] - 0s - loss: 0.0415 - acc: 0.9889 - val_loss: 0.0320 - val_acc: 0.9929\n",
      "Epoch 75/150\n",
      "6024/6024 [==============================] - 0s - loss: 0.0345 - acc: 0.9909 - val_loss: 0.0413 - val_acc: 0.9882\n",
      "Epoch 76/150\n",
      "6024/6024 [==============================] - 0s - loss: 0.0345 - acc: 0.9912 - val_loss: 0.0340 - val_acc: 0.9913\n",
      "Epoch 77/150\n",
      "6024/6024 [==============================] - 0s - loss: 0.0351 - acc: 0.9905 - val_loss: 0.0316 - val_acc: 0.9905\n",
      "Epoch 78/150\n",
      "6024/6024 [==============================] - 0s - loss: 0.0336 - acc: 0.9912 - val_loss: 0.0300 - val_acc: 0.9929\n",
      "Epoch 79/150\n",
      "6024/6024 [==============================] - 0s - loss: 0.0313 - acc: 0.9920 - val_loss: 0.0303 - val_acc: 0.9921\n",
      "Epoch 80/150\n",
      "6024/6024 [==============================] - 0s - loss: 0.0325 - acc: 0.9919 - val_loss: 0.0318 - val_acc: 0.9921\n",
      "Epoch 81/150\n",
      "6024/6024 [==============================] - 0s - loss: 0.0337 - acc: 0.9884 - val_loss: 0.0296 - val_acc: 0.9929\n",
      "Epoch 82/150\n",
      "6024/6024 [==============================] - 0s - loss: 0.0327 - acc: 0.9909 - val_loss: 0.0299 - val_acc: 0.9913\n",
      "Epoch 83/150\n",
      "6024/6024 [==============================] - 0s - loss: 0.0281 - acc: 0.9934 - val_loss: 0.0247 - val_acc: 0.9937\n",
      "Epoch 84/150\n",
      "6024/6024 [==============================] - 0s - loss: 0.0318 - acc: 0.9917 - val_loss: 0.0324 - val_acc: 0.9905\n",
      "Epoch 85/150\n",
      "6024/6024 [==============================] - 0s - loss: 0.0318 - acc: 0.9935 - val_loss: 0.0285 - val_acc: 0.9929\n",
      "Epoch 86/150\n",
      "6024/6024 [==============================] - 0s - loss: 0.0307 - acc: 0.9912 - val_loss: 0.0282 - val_acc: 0.9929\n",
      "Epoch 87/150\n",
      "6024/6024 [==============================] - 0s - loss: 0.0293 - acc: 0.9927 - val_loss: 0.0401 - val_acc: 0.9858\n",
      "Epoch 88/150\n",
      "6024/6024 [==============================] - 0s - loss: 0.0271 - acc: 0.9927 - val_loss: 0.0271 - val_acc: 0.9937\n",
      "Epoch 89/150\n",
      "6024/6024 [==============================] - 0s - loss: 0.0277 - acc: 0.9930 - val_loss: 0.0202 - val_acc: 0.9937\n",
      "Epoch 90/150\n",
      "6024/6024 [==============================] - 0s - loss: 0.0276 - acc: 0.9935 - val_loss: 0.0280 - val_acc: 0.9905\n",
      "Epoch 91/150\n",
      "6024/6024 [==============================] - 0s - loss: 0.0302 - acc: 0.9919 - val_loss: 0.0251 - val_acc: 0.9929\n",
      "Epoch 92/150\n",
      "6024/6024 [==============================] - 0s - loss: 0.0281 - acc: 0.9914 - val_loss: 0.0218 - val_acc: 0.9937\n",
      "Epoch 93/150\n",
      "6024/6024 [==============================] - 0s - loss: 0.0282 - acc: 0.9924 - val_loss: 0.0357 - val_acc: 0.9898\n",
      "Epoch 94/150\n",
      "6024/6024 [==============================] - 0s - loss: 0.0280 - acc: 0.9922 - val_loss: 0.0249 - val_acc: 0.9937\n",
      "Epoch 95/150\n",
      "6024/6024 [==============================] - 0s - loss: 0.0282 - acc: 0.9924 - val_loss: 0.0241 - val_acc: 0.9937\n",
      "Epoch 96/150\n",
      "6024/6024 [==============================] - 0s - loss: 0.0225 - acc: 0.9942 - val_loss: 0.0250 - val_acc: 0.9937\n",
      "Epoch 97/150\n",
      "6024/6024 [==============================] - 0s - loss: 0.0253 - acc: 0.9939 - val_loss: 0.0207 - val_acc: 0.9929\n",
      "Epoch 98/150\n",
      "6024/6024 [==============================] - 0s - loss: 0.0194 - acc: 0.9962 - val_loss: 0.0239 - val_acc: 0.9937\n",
      "Epoch 99/150\n",
      "6024/6024 [==============================] - 0s - loss: 0.0249 - acc: 0.9920 - val_loss: 0.0191 - val_acc: 0.9937\n",
      "Epoch 100/150\n",
      "6024/6024 [==============================] - 0s - loss: 0.0224 - acc: 0.9942 - val_loss: 0.0213 - val_acc: 0.9929\n",
      "Epoch 101/150\n",
      "6024/6024 [==============================] - 0s - loss: 0.0266 - acc: 0.9914 - val_loss: 0.0247 - val_acc: 0.9929\n",
      "Epoch 102/150\n",
      "6024/6024 [==============================] - 0s - loss: 0.0221 - acc: 0.9942 - val_loss: 0.0206 - val_acc: 0.9937\n",
      "Epoch 103/150\n",
      "6024/6024 [==============================] - 0s - loss: 0.0246 - acc: 0.9930 - val_loss: 0.0214 - val_acc: 0.9937\n",
      "Epoch 104/150\n",
      "6024/6024 [==============================] - 0s - loss: 0.0236 - acc: 0.9929 - val_loss: 0.0220 - val_acc: 0.9937\n",
      "Epoch 105/150\n",
      "6024/6024 [==============================] - 0s - loss: 0.0239 - acc: 0.9944 - val_loss: 0.0229 - val_acc: 0.9929\n",
      "Epoch 106/150\n",
      "6024/6024 [==============================] - 0s - loss: 0.0210 - acc: 0.9942 - val_loss: 0.0204 - val_acc: 0.9937\n",
      "Epoch 107/150\n",
      "6024/6024 [==============================] - 0s - loss: 0.0239 - acc: 0.9925 - val_loss: 0.0198 - val_acc: 0.9937\n",
      "Epoch 108/150\n",
      "6024/6024 [==============================] - 0s - loss: 0.0221 - acc: 0.9940 - val_loss: 0.0206 - val_acc: 0.9937\n",
      "Epoch 109/150\n",
      "6024/6024 [==============================] - 0s - loss: 0.0254 - acc: 0.9932 - val_loss: 0.0203 - val_acc: 0.9937\n",
      "Epoch 110/150\n",
      "6024/6024 [==============================] - 0s - loss: 0.0170 - acc: 0.9957 - val_loss: 0.0225 - val_acc: 0.9937\n",
      "Epoch 111/150\n",
      "6024/6024 [==============================] - 0s - loss: 0.0253 - acc: 0.9935 - val_loss: 0.0216 - val_acc: 0.9937\n",
      "Epoch 112/150\n",
      "6024/6024 [==============================] - 0s - loss: 0.0200 - acc: 0.9939 - val_loss: 0.0224 - val_acc: 0.9937\n",
      "Epoch 113/150\n",
      "6024/6024 [==============================] - 0s - loss: 0.0203 - acc: 0.9939 - val_loss: 0.0181 - val_acc: 0.9929\n",
      "Epoch 114/150\n",
      "6024/6024 [==============================] - 0s - loss: 0.0178 - acc: 0.9955 - val_loss: 0.0203 - val_acc: 0.9929\n",
      "Epoch 115/150\n",
      "6024/6024 [==============================] - 0s - loss: 0.0177 - acc: 0.9960 - val_loss: 0.0208 - val_acc: 0.9937\n",
      "Epoch 116/150\n",
      "6024/6024 [==============================] - 0s - loss: 0.0212 - acc: 0.9945 - val_loss: 0.0204 - val_acc: 0.9945\n",
      "Epoch 117/150\n",
      "6024/6024 [==============================] - 0s - loss: 0.0172 - acc: 0.9955 - val_loss: 0.0204 - val_acc: 0.9937\n",
      "Epoch 118/150\n",
      "6024/6024 [==============================] - 0s - loss: 0.0167 - acc: 0.9955 - val_loss: 0.0212 - val_acc: 0.9937\n",
      "Epoch 119/150\n",
      "6024/6024 [==============================] - 0s - loss: 0.0178 - acc: 0.9952 - val_loss: 0.0199 - val_acc: 0.9937\n",
      "Epoch 120/150\n",
      "6024/6024 [==============================] - 0s - loss: 0.0189 - acc: 0.9955 - val_loss: 0.0196 - val_acc: 0.9937\n",
      "Epoch 121/150\n",
      "6024/6024 [==============================] - 0s - loss: 0.0174 - acc: 0.9947 - val_loss: 0.0190 - val_acc: 0.9937\n",
      "Epoch 122/150\n",
      "6024/6024 [==============================] - 0s - loss: 0.0197 - acc: 0.9950 - val_loss: 0.0193 - val_acc: 0.9945\n",
      "Epoch 123/150\n",
      "6024/6024 [==============================] - 0s - loss: 0.0162 - acc: 0.9963 - val_loss: 0.0191 - val_acc: 0.9937\n",
      "Epoch 124/150\n",
      "6024/6024 [==============================] - 0s - loss: 0.0215 - acc: 0.9942 - val_loss: 0.0187 - val_acc: 0.9937\n",
      "Epoch 125/150\n",
      "6024/6024 [==============================] - 0s - loss: 0.0195 - acc: 0.9945 - val_loss: 0.0222 - val_acc: 0.9937\n",
      "Epoch 126/150\n",
      "6024/6024 [==============================] - 0s - loss: 0.0193 - acc: 0.9949 - val_loss: 0.0230 - val_acc: 0.9921\n",
      "Epoch 127/150\n",
      "6024/6024 [==============================] - 0s - loss: 0.0167 - acc: 0.9954 - val_loss: 0.0169 - val_acc: 0.9937\n",
      "Epoch 128/150\n",
      "6024/6024 [==============================] - 0s - loss: 0.0142 - acc: 0.9968 - val_loss: 0.0189 - val_acc: 0.9937\n",
      "Epoch 129/150\n"
     ]
    },
    {
     "name": "stdout",
     "output_type": "stream",
     "text": [
      "6024/6024 [==============================] - 0s - loss: 0.0147 - acc: 0.9962 - val_loss: 0.0165 - val_acc: 0.9945\n",
      "Epoch 130/150\n",
      "6024/6024 [==============================] - 0s - loss: 0.0164 - acc: 0.9950 - val_loss: 0.0161 - val_acc: 0.9945\n",
      "Epoch 131/150\n",
      "6024/6024 [==============================] - 0s - loss: 0.0161 - acc: 0.9947 - val_loss: 0.0177 - val_acc: 0.9937\n",
      "Epoch 132/150\n",
      "6024/6024 [==============================] - 0s - loss: 0.0132 - acc: 0.9975 - val_loss: 0.0178 - val_acc: 0.9937\n",
      "Epoch 133/150\n",
      "6024/6024 [==============================] - 0s - loss: 0.0162 - acc: 0.9958 - val_loss: 0.0206 - val_acc: 0.9929\n",
      "Epoch 134/150\n",
      "6024/6024 [==============================] - 0s - loss: 0.0144 - acc: 0.9965 - val_loss: 0.0207 - val_acc: 0.9929\n",
      "Epoch 135/150\n",
      "6024/6024 [==============================] - 0s - loss: 0.0214 - acc: 0.9940 - val_loss: 0.0158 - val_acc: 0.9945\n",
      "Epoch 136/150\n",
      "6024/6024 [==============================] - 0s - loss: 0.0156 - acc: 0.9960 - val_loss: 0.0161 - val_acc: 0.9953\n",
      "Epoch 137/150\n",
      "6024/6024 [==============================] - 0s - loss: 0.0150 - acc: 0.9957 - val_loss: 0.0170 - val_acc: 0.9945\n",
      "Epoch 138/150\n",
      "6024/6024 [==============================] - 0s - loss: 0.0136 - acc: 0.9963 - val_loss: 0.0188 - val_acc: 0.9937\n",
      "Epoch 139/150\n",
      "6024/6024 [==============================] - 0s - loss: 0.0167 - acc: 0.9955 - val_loss: 0.0169 - val_acc: 0.9945\n",
      "Epoch 140/150\n",
      "6024/6024 [==============================] - 0s - loss: 0.0120 - acc: 0.9972 - val_loss: 0.0203 - val_acc: 0.9929\n",
      "Epoch 141/150\n",
      "6024/6024 [==============================] - 0s - loss: 0.0139 - acc: 0.9965 - val_loss: 0.0190 - val_acc: 0.9945\n",
      "Epoch 142/150\n",
      "6024/6024 [==============================] - 0s - loss: 0.0127 - acc: 0.9968 - val_loss: 0.0195 - val_acc: 0.9937\n",
      "Epoch 143/150\n",
      "6024/6024 [==============================] - 0s - loss: 0.0156 - acc: 0.9958 - val_loss: 0.0172 - val_acc: 0.9937\n",
      "Epoch 144/150\n",
      "6024/6024 [==============================] - 0s - loss: 0.0158 - acc: 0.9962 - val_loss: 0.0167 - val_acc: 0.9945\n",
      "Epoch 145/150\n",
      "6024/6024 [==============================] - 0s - loss: 0.0143 - acc: 0.9963 - val_loss: 0.0179 - val_acc: 0.9937\n",
      "Epoch 146/150\n",
      "6024/6024 [==============================] - 0s - loss: 0.0151 - acc: 0.9955 - val_loss: 0.0173 - val_acc: 0.9937\n",
      "Epoch 147/150\n",
      "6024/6024 [==============================] - 0s - loss: 0.0145 - acc: 0.9957 - val_loss: 0.0211 - val_acc: 0.9945\n",
      "Epoch 148/150\n",
      "6024/6024 [==============================] - 0s - loss: 0.0156 - acc: 0.9955 - val_loss: 0.0181 - val_acc: 0.9945\n",
      "Epoch 149/150\n",
      "6024/6024 [==============================] - 0s - loss: 0.0162 - acc: 0.9947 - val_loss: 0.0178 - val_acc: 0.9937\n",
      "Epoch 150/150\n",
      "6024/6024 [==============================] - 0s - loss: 0.0139 - acc: 0.9962 - val_loss: 0.0156 - val_acc: 0.9953\n"
     ]
    },
    {
     "data": {
      "text/plain": [
       "<keras.callbacks.History at 0x7f7e348afe10>"
      ]
     },
     "execution_count": 6,
     "metadata": {},
     "output_type": "execute_result"
    }
   ],
   "source": [
    "model.fit(\n",
    "    x_train,\n",
    "    y_train,\n",
    "    batch_size=128,\n",
    "    epochs=150,\n",
    "    verbose=1,\n",
    "    validation_data=(x_test, y_test))"
   ]
  },
  {
   "cell_type": "code",
   "execution_count": 7,
   "metadata": {
    "ExecuteTime": {
     "end_time": "2018-10-01T13:56:30.991660Z",
     "start_time": "2018-10-01T13:56:30.913741Z"
    }
   },
   "outputs": [
    {
     "name": "stdout",
     "output_type": "stream",
     "text": [
      "Test loss: 0.015610227271237039\n",
      "Test accuracy: 0.9952718676122931\n"
     ]
    }
   ],
   "source": [
    "score = model.evaluate(x_test, y_test, verbose=0)\n",
    "\n",
    "print('Test loss:', score[0])\n",
    "print('Test accuracy:', score[1])"
   ]
  },
  {
   "cell_type": "code",
   "execution_count": 8,
   "metadata": {
    "ExecuteTime": {
     "end_time": "2018-10-01T13:56:31.101155Z",
     "start_time": "2018-10-01T13:56:30.994007Z"
    }
   },
   "outputs": [],
   "source": [
    "model.save('mnist_model.h5')"
   ]
  },
  {
   "cell_type": "code",
   "execution_count": null,
   "metadata": {},
   "outputs": [],
   "source": []
  }
 ],
 "metadata": {
  "kernelspec": {
   "display_name": "Python 3",
   "language": "python",
   "name": "python3"
  },
  "language_info": {
   "codemirror_mode": {
    "name": "ipython",
    "version": 3
   },
   "file_extension": ".py",
   "mimetype": "text/x-python",
   "name": "python",
   "nbconvert_exporter": "python",
   "pygments_lexer": "ipython3",
   "version": "3.6.5"
  },
  "toc": {
   "nav_menu": {},
   "number_sections": true,
   "sideBar": true,
   "skip_h1_title": false,
   "toc_cell": true,
   "toc_position": {},
   "toc_section_display": "block",
   "toc_window_display": false
  },
  "varInspector": {
   "cols": {
    "lenName": 16,
    "lenType": 16,
    "lenVar": 40
   },
   "kernels_config": {
    "python": {
     "delete_cmd_postfix": "",
     "delete_cmd_prefix": "del ",
     "library": "var_list.py",
     "varRefreshCmd": "print(var_dic_list())"
    },
    "r": {
     "delete_cmd_postfix": ") ",
     "delete_cmd_prefix": "rm(",
     "library": "var_list.r",
     "varRefreshCmd": "cat(var_dic_list()) "
    }
   },
   "types_to_exclude": [
    "module",
    "function",
    "builtin_function_or_method",
    "instance",
    "_Feature"
   ],
   "window_display": false
  }
 },
 "nbformat": 4,
 "nbformat_minor": 2
}
