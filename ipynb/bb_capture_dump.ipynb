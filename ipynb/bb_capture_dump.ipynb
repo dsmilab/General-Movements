{
 "cells": [
  {
   "cell_type": "markdown",
   "metadata": {
    "toc": true
   },
   "source": [
    "<h1>Table of Contents<span class=\"tocSkip\"></span></h1>\n",
    "<div class=\"toc\" style=\"margin-top: 1em;\"><ul class=\"toc-item\"></ul></div>"
   ]
  },
  {
   "cell_type": "code",
   "execution_count": 1,
   "metadata": {
    "ExecuteTime": {
     "end_time": "2018-04-17T05:46:29.893393Z",
     "start_time": "2018-04-17T05:46:29.637842Z"
    },
    "collapsed": true
   },
   "outputs": [],
   "source": [
    "import base64\n",
    "import pandas as pd\n",
    "import os\n",
    "import sys\n",
    "\n",
    "from tqdm import tqdm\n",
    "\n",
    "PATH = '../data/bb_capture/'\n",
    "SAVE_DIR = '../bb_capture_output/'"
   ]
  },
  {
   "cell_type": "code",
   "execution_count": 2,
   "metadata": {
    "ExecuteTime": {
     "end_time": "2018-04-17T05:53:29.326821Z",
     "start_time": "2018-04-17T05:46:29.894807Z"
    }
   },
   "outputs": [
    {
     "name": "stdout",
     "output_type": "stream",
     "text": [
      "decode all images with base64 encoding in bb_capture...\n"
     ]
    },
    {
     "name": "stderr",
     "output_type": "stream",
     "text": [
      "100%|██████████| 109/109 [06:59<00:00,  3.85s/it]\n"
     ]
    }
   ],
   "source": [
    "files = next(os.walk(PATH))[2]\n",
    "print('decode all images with base64 encoding in bb_capture...')\n",
    "sys.stdout.flush()\n",
    "for id_, filename in tqdm(enumerate(files), total=len(files)):\n",
    "    tp = pd.read_csv(PATH + filename, chunksize=1000)\n",
    "    df = pd.concat(tp, ignore_index=True)\n",
    "    df.drop(['key', 'wall_time', 'image_width', 'image_height'], axis=1, inplace=True)\n",
    "    \n",
    "    # access particular folder, if doesn't exist, create it\n",
    "    directory = SAVE_DIR + filename[:-4]    \n",
    "    if not os.path.exists(directory):\n",
    "        os.makedirs(directory)\n",
    "\n",
    "    # decode base64 images and save them\n",
    "    for i, row in df.iterrows():     \n",
    "        img_b = base64.b64decode(row['image_base64'])\n",
    "        f = open(directory + '/' + str(row['timestamp']) + '.png', 'wb')\n",
    "        f.write(img_b)\n",
    "        f.close()"
   ]
  },
  {
   "cell_type": "code",
   "execution_count": null,
   "metadata": {
    "collapsed": true
   },
   "outputs": [],
   "source": []
  }
 ],
 "metadata": {
  "kernelspec": {
   "display_name": "Python 3",
   "language": "python",
   "name": "python3"
  },
  "language_info": {
   "codemirror_mode": {
    "name": "ipython",
    "version": 3
   },
   "file_extension": ".py",
   "mimetype": "text/x-python",
   "name": "python",
   "nbconvert_exporter": "python",
   "pygments_lexer": "ipython3",
   "version": "3.6.3"
  },
  "toc": {
   "nav_menu": {},
   "number_sections": true,
   "sideBar": true,
   "skip_h1_title": false,
   "toc_cell": true,
   "toc_position": {},
   "toc_section_display": "block",
   "toc_window_display": false
  },
  "varInspector": {
   "cols": {
    "lenName": 16,
    "lenType": 16,
    "lenVar": 40
   },
   "kernels_config": {
    "python": {
     "delete_cmd_postfix": "",
     "delete_cmd_prefix": "del ",
     "library": "var_list.py",
     "varRefreshCmd": "print(var_dic_list())"
    },
    "r": {
     "delete_cmd_postfix": ") ",
     "delete_cmd_prefix": "rm(",
     "library": "var_list.r",
     "varRefreshCmd": "cat(var_dic_list()) "
    }
   },
   "types_to_exclude": [
    "module",
    "function",
    "builtin_function_or_method",
    "instance",
    "_Feature"
   ],
   "window_display": false
  }
 },
 "nbformat": 4,
 "nbformat_minor": 2
}
